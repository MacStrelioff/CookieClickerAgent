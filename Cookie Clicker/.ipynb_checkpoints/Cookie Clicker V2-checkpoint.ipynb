{
 "cells": [
  {
   "cell_type": "markdown",
   "metadata": {},
   "source": [
    "# Overview\n",
    "\n",
    "\n",
    "## Notes\n",
    "- naive might have gotten stuck around click 30400-30600...\n",
    "- run again without the golden cookie clicking feature, to keep results due to the algorithms and not chance.\n",
    "\n",
    "\n",
    "\n",
    "## TODO: \n",
    "\n",
    "- run each clicker\n",
    "    - the last clicker, based on time until the best option is affordible, might naturally get around the issue with the max_cps clicker waiting until it sees the new option. Since the new one will buy things if they decrease the wait time to buying the max cps, or unknown option.\n",
    "- better logic for inferences about the cps of an unpurchased item? -- currently the max cps per price agent can wait a long time, and spend on upgrades instead of buildings while waiting to purchase the first of a new building. \n",
    "- every 200 clicks, log:\n",
    "    - number of buildings owned\n",
    "    \n",
    "- Write post and tag https://twitter.com/Orteil42 and the cookie clicker twitter in final post\n",
    "\n",
    "## Setup\n",
    "\n",
    "[chrome driver](http://chromedriver.chromium.org/downloads)\n",
    "\n",
    "`selenium` library...\n",
    "\n",
    "\n",
    "\n",
    "\n",
    "\n",
    "\n",
    "\n"
   ]
  },
  {
   "cell_type": "code",
   "execution_count": 112,
   "metadata": {},
   "outputs": [],
   "source": [
    "# general web wrangling\n",
    "import selenium  # another approach\n",
    "from selenium import webdriver\n",
    "# for mousing over an element\n",
    "from selenium.webdriver.common.action_chains import ActionChains\n",
    "\n",
    "# for text processing\n",
    "import re\n",
    "\n",
    "# for plotting \n",
    "import matplotlib.pyplot as plt\n",
    "\n",
    "# for clearing feedback\n",
    "from IPython.display import clear_output\n",
    "\n",
    "# for saving and loading data including dicts\n",
    "import pickle\n",
    "def save_obj(obj, name):\n",
    "    with open(name + '.pkl', 'wb') as f:\n",
    "        pickle.dump(obj, f, pickle.HIGHEST_PROTOCOL)\n",
    "\n",
    "def load_obj(name):\n",
    "    with open(name + '.pkl', 'rb') as f:\n",
    "        return pickle.load(f)\n",
    "def load_obj(name):\n",
    "    with open(name + '.pkl', 'rb') as f:\n",
    "        return pickle.load(f)\n",
    "\n",
    "# for notification tones; \n",
    "import pyaudio\n",
    "import numpy as np\n",
    "import time\n",
    "# for audio notifications when action required\n",
    "def notify_tone(reps=1,sleep=.25,volume=1,fs=44100,duration=.5,f=600):\n",
    "    p = pyaudio.PyAudio()\n",
    "    # generate samples, note conversion to float32 array\n",
    "    samples = (np.sin(2*np.pi*np.arange(fs*duration)*f/fs)).astype(np.float32)\n",
    "    # for paFloat32 sample values must be in range [-1.0, 1.0]\n",
    "    stream = p.open(format=pyaudio.paFloat32,\n",
    "                    channels=1,\n",
    "                    rate=fs,\n",
    "                    output=True)\n",
    "    # play. May repeat with different volume values (if done interactively) \n",
    "    for i in range(reps): stream.write(volume*samples); time.sleep(sleep)\n",
    "    stream.stop_stream()\n",
    "    stream.close()\n",
    "    p.terminate()"
   ]
  },
  {
   "cell_type": "markdown",
   "metadata": {},
   "source": [
    "# Modules"
   ]
  },
  {
   "cell_type": "markdown",
   "metadata": {},
   "source": [
    "## Initializing the web driver"
   ]
  },
  {
   "cell_type": "code",
   "execution_count": null,
   "metadata": {},
   "outputs": [],
   "source": [
    "driver = webdriver.Chrome('./chromedriver')"
   ]
  },
  {
   "cell_type": "code",
   "execution_count": null,
   "metadata": {},
   "outputs": [],
   "source": [
    "# navigate to site and find cookie button\n",
    "driver.get('https://orteil.dashnet.org/cookieclicker/')"
   ]
  },
  {
   "cell_type": "markdown",
   "metadata": {},
   "source": [
    "## Finding and clicking the big cookie"
   ]
  },
  {
   "cell_type": "code",
   "execution_count": null,
   "metadata": {},
   "outputs": [],
   "source": [
    "# find cookie button\n",
    "big_cookie = driver.find_element_by_id('bigCookie')"
   ]
  },
  {
   "cell_type": "code",
   "execution_count": null,
   "metadata": {},
   "outputs": [],
   "source": [
    "# click the cookie\n",
    "tmp = 0\n",
    "while tmp < 500:\n",
    "    tmp+=1\n",
    "    big_cookie.click()"
   ]
  },
  {
   "cell_type": "markdown",
   "metadata": {},
   "source": [
    "## Interacting with golden cookies"
   ]
  },
  {
   "cell_type": "code",
   "execution_count": null,
   "metadata": {},
   "outputs": [],
   "source": [
    "golden_cookies = driver.find_elements_by_xpath('//div[@class=\"shimmer\"]')\n",
    "while len(golden_cookies)>0: # if there are golden cookies,\n",
    "    for golden_cookie in golden_cookies:\n",
    "        golden_cookie.click() # buy each one\n",
    "        self.golden_cookie_clicks+=1\n",
    "    # update list of golden cookies\n",
    "    golden_cookies = driver.find_elements_by_xpath('//div[@class=\"shimmer\"]')"
   ]
  },
  {
   "cell_type": "markdown",
   "metadata": {},
   "source": [
    "## Get balance and per second revenue\n",
    "\n",
    "- Turn off the `short numbers` setting, or else instead of 1,000,000, the game will display 1 million, and extra parsing would be needed to convert text like '1 million' into numbers. \n"
   ]
  },
  {
   "cell_type": "code",
   "execution_count": null,
   "metadata": {},
   "outputs": [],
   "source": [
    "tmp = driver.find_elements_by_xpath('//div[@id=\"cookies\"]')\n",
    "tmp"
   ]
  },
  {
   "cell_type": "code",
   "execution_count": null,
   "metadata": {},
   "outputs": [],
   "source": [
    "tmp=tmp[0].text\n",
    "tmp"
   ]
  },
  {
   "cell_type": "code",
   "execution_count": null,
   "metadata": {},
   "outputs": [],
   "source": [
    "tmp=tmp.replace(\",\",'')\n",
    "tmp"
   ]
  },
  {
   "cell_type": "code",
   "execution_count": null,
   "metadata": {},
   "outputs": [],
   "source": [
    "tmp=tmp.split(\"\\n\")\n",
    "tmp"
   ]
  },
  {
   "cell_type": "code",
   "execution_count": null,
   "metadata": {},
   "outputs": [],
   "source": [
    "tmp[0]=int(tmp[0].split(' ')[0])\n",
    "tmp[1]=float(tmp[1].split(' ')[-1])\n",
    "print('balance: ' , tmp[0], '\\nrevenue: ', tmp[1],'cps')"
   ]
  },
  {
   "cell_type": "code",
   "execution_count": null,
   "metadata": {},
   "outputs": [],
   "source": [
    "tmp"
   ]
  },
  {
   "cell_type": "code",
   "execution_count": null,
   "metadata": {},
   "outputs": [],
   "source": [
    "# another way with re\n",
    "tmp = re.findall(\"\\d+\",tmp)"
   ]
  },
  {
   "cell_type": "code",
   "execution_count": null,
   "metadata": {},
   "outputs": [],
   "source": [
    "# all together:\n",
    "tmp = driver.find_elements_by_xpath('//div[@id=\"cookies\"]')\n",
    "tmp = tmp[0].text.replace(',','')\n",
    "tmp = re.findall(\"\\d+\",tmp)\n",
    "[int(i) for i in tmp] # balance, revenue"
   ]
  },
  {
   "cell_type": "markdown",
   "metadata": {},
   "source": [
    "## Purchasing upgrades"
   ]
  },
  {
   "cell_type": "code",
   "execution_count": null,
   "metadata": {},
   "outputs": [],
   "source": [
    "# get list of available upgrades\n",
    "upgrades = driver.find_elements_by_xpath('//div[@class=\"crate upgrade enabled\"]')\n",
    "upgrades"
   ]
  },
  {
   "cell_type": "code",
   "execution_count": null,
   "metadata": {},
   "outputs": [],
   "source": [
    "# flip from high to low price\n",
    "upgrades.reverse()"
   ]
  },
  {
   "cell_type": "code",
   "execution_count": null,
   "metadata": {},
   "outputs": [],
   "source": [
    "# code to buy all affordible upgrades\n",
    "\n",
    "#  upgrades = driver.find_elements_by_xpath('//div[@class=\"crate upgrade enabled\"]')\n",
    "#  while len(upgrades)>0: # if there are products, and while we can afford products,\n",
    "#      upgrades.reverse() # sort from generally most to least productive\n",
    "#      upgrades[-1].click() # buy each one\n",
    "#      upgrades = driver.find_elements_by_xpath('//div[@class=\"crate upgrade enabled\"]')"
   ]
  },
  {
   "cell_type": "markdown",
   "metadata": {},
   "source": [
    "## Getting building variables"
   ]
  },
  {
   "cell_type": "code",
   "execution_count": null,
   "metadata": {},
   "outputs": [],
   "source": [
    "# get all unlocked products (enabled = affordible, disabled = unaffordible)\n",
    "products = (driver.find_elements_by_xpath('//div[@class=\"product unlocked enabled\"]') + \n",
    "            driver.find_elements_by_xpath('//div[@class=\"product unlocked disabled\"]'))\n",
    "products"
   ]
  },
  {
   "cell_type": "code",
   "execution_count": null,
   "metadata": {},
   "outputs": [],
   "source": [
    "# example extraction for one building\n",
    "\n",
    "tmp=products[0].text; tmp\n",
    "# can parse this to get\n",
    "#  ki: Cursor\n",
    "#  price: 23\n",
    "#  number owned: 3"
   ]
  },
  {
   "cell_type": "code",
   "execution_count": null,
   "metadata": {},
   "outputs": [],
   "source": [
    "# parse to get name, price, and count\n",
    "tmp = tmp.replace(',','').split(sep=\"\\n\")\n",
    "# handles case where len(tmp)=2 if building not owned.\n",
    "building_name,building_price,building_count = tmp if len(tmp)==3 else tmp+[0]\n",
    "building_name,int(building_price),int(building_count)"
   ]
  },
  {
   "cell_type": "code",
   "execution_count": null,
   "metadata": {},
   "outputs": [],
   "source": [
    "# for locked buildings..\n",
    "products_locked = driver.find_elements_by_xpath('//div[@class=\"product locked disabled\"]')\n",
    "products_locked"
   ]
  },
  {
   "cell_type": "code",
   "execution_count": null,
   "metadata": {},
   "outputs": [],
   "source": [
    "tmp=products_locked[0].text; tmp"
   ]
  },
  {
   "cell_type": "code",
   "execution_count": null,
   "metadata": {},
   "outputs": [],
   "source": [
    "# parse to get name, price, and count\n",
    "building_name_locked,building_price_locked = tmp.replace(',','').split(sep=\"\\n\")\n",
    "building_name_locked,int(building_price),0 # 0 buildings owned since the buildings are locked..\n",
    "# also append something to the name so that they don't overlap in the key '???' "
   ]
  },
  {
   "cell_type": "markdown",
   "metadata": {},
   "source": [
    "## Getting information from product tooltips\n",
    "\n",
    "Revenue per second is available in a tooltip that appears when a product is moused over. A streamlined way to get this information is to scrape it from the tooltip when a product is purchased (since the purchasing action would leave the mouse over the product, hence leave the tooltip viewable). \n"
   ]
  },
  {
   "cell_type": "code",
   "execution_count": null,
   "metadata": {},
   "outputs": [],
   "source": [
    "# for hovering mouse over element\n",
    "element_to_hover_over = products[0]\n",
    "hover = ActionChains(driver).move_to_element(element_to_hover_over)\n",
    "hover.perform()"
   ]
  },
  {
   "cell_type": "code",
   "execution_count": null,
   "metadata": {},
   "outputs": [],
   "source": [
    "#products[3].click()"
   ]
  },
  {
   "cell_type": "code",
   "execution_count": null,
   "metadata": {},
   "outputs": [],
   "source": [
    "# can get this data when an item is purchased, since that activates the tooltip..\n",
    "tooltip = driver.find_elements_by_xpath('//div[@id=\"tooltip\"]')\n",
    "tooltip"
   ]
  },
  {
   "cell_type": "code",
   "execution_count": null,
   "metadata": {
    "scrolled": false
   },
   "outputs": [],
   "source": [
    "tmp=tooltip[0].text; tmp\n",
    "tmp=tmp.replace(',',''); tmp"
   ]
  },
  {
   "cell_type": "code",
   "execution_count": null,
   "metadata": {},
   "outputs": [],
   "source": [
    "tmp_cps = re.findall(r\"[-+]?\\d*\\.\\d+ cookies per|\\d+ cookies per\",tmp); tmp_cps"
   ]
  },
  {
   "cell_type": "code",
   "execution_count": null,
   "metadata": {},
   "outputs": [],
   "source": [
    "# get the cookies per second\n",
    "building_cps = float(tmp_cps[0][:tmp_cps[0].find(' ')]) if tmp_cps else float('inf')\n",
    "building_cps"
   ]
  },
  {
   "cell_type": "markdown",
   "metadata": {},
   "source": [
    "## Maintaining building info"
   ]
  },
  {
   "cell_type": "code",
   "execution_count": null,
   "metadata": {},
   "outputs": [],
   "source": [
    "products_unlocked = (driver.find_elements_by_xpath('//div[@class=\"product unlocked enabled\"]') + \n",
    "                    driver.find_elements_by_xpath('//div[@class=\"product unlocked disabled\"]'))\n",
    "\n",
    "building_info = dict()\n",
    "\n",
    "# info for unlocked buildings\n",
    "for i,building in enumerate(products_unlocked):\n",
    "    # get info from building button\n",
    "    tmp=building.text.replace(',','').split(sep=\"\\n\")\n",
    "    building_name,building_price,building_count = tmp if len(tmp)==3 else tmp+[0]\n",
    "    # initialize dict for building\n",
    "    building_info[building_name] = dict()\n",
    "    # fill in count and price\n",
    "    building_info[building_name]['count']=int(building_count)\n",
    "    building_info[building_name]['price']=int(building_price)\n",
    "    # get info from building tooltip\n",
    "    hover = ActionChains(driver).move_to_element(building)\n",
    "    hover.perform()\n",
    "    tooltip = driver.find_elements_by_xpath('//div[@id=\"tooltip\"]')\n",
    "    tmp=tooltip[0].text.replace(',','');\n",
    "    tmp_cps = re.findall(r\"[-+]?\\d*\\.\\d+ cookies per|\\d+ cookies per\",tmp)\n",
    "    #### default of inf below encourages purchasing any unowned buildings\n",
    "    building_cps = float(tmp_cps[0][:tmp_cps[0].find(' ')]) if tmp_cps else float('inf')\n",
    "    building_info[building_name]['cps']=building_cps\n",
    "    building_info[building_name]['cps/price']=building_cps/int(building_price)\n",
    "\n",
    "# info for locked buildings\n",
    "    \n",
    "#    building_name,int(building_price),int(building_count)\n",
    "#for building in products_locked:\n",
    "#    tmp=building.text;\n",
    "#    building_name,building_price,building_count = tmp.replace(',','').split(sep=\"\\n\")\n",
    "#    building_name,int(building_price),int(building_count)\n"
   ]
  },
  {
   "cell_type": "code",
   "execution_count": null,
   "metadata": {},
   "outputs": [],
   "source": [
    "building_info\n",
    "# [0]: number\n",
    "# [1]: price\n",
    "# [2]: cookies per second\n",
    "# [3]: cookies per second / price"
   ]
  },
  {
   "cell_type": "markdown",
   "metadata": {},
   "source": [
    "## Purchase logic for max rps/price agent"
   ]
  },
  {
   "cell_type": "code",
   "execution_count": null,
   "metadata": {},
   "outputs": [],
   "source": [
    "# best_building_affordible = True\n",
    "# while best_building_affordible:\n",
    "#     building_to_buy = []\n",
    "#     max_rps_pp = 0\n",
    "#     for building in building_info:\n",
    "#         cur_rps_pp = building_info[building]['cps/price']\n",
    "#         if cur_rps_pp > max_rps_pp:\n",
    "#             building_to_buy,max_rps_pp = building, cur_rps_pp\n",
    "#         # check if best building affordible..\n",
    "#     if building_info[building_to_buy]['price']<balance\n",
    "#         # buy building_to_buy (click on this product)\n",
    "#         # update building info (including rps per price rps_pp)\n",
    "#         # update balance\n",
    "#     else: best_building_affordible=False # if not affordible, break the loop"
   ]
  },
  {
   "cell_type": "code",
   "execution_count": null,
   "metadata": {},
   "outputs": [],
   "source": []
  },
  {
   "cell_type": "code",
   "execution_count": null,
   "metadata": {},
   "outputs": [],
   "source": []
  },
  {
   "cell_type": "markdown",
   "metadata": {},
   "source": [
    "## Purchase logic for min time-to-highes rev agent"
   ]
  },
  {
   "cell_type": "code",
   "execution_count": null,
   "metadata": {},
   "outputs": [],
   "source": []
  },
  {
   "cell_type": "code",
   "execution_count": null,
   "metadata": {},
   "outputs": [],
   "source": []
  },
  {
   "cell_type": "code",
   "execution_count": null,
   "metadata": {},
   "outputs": [],
   "source": []
  },
  {
   "cell_type": "markdown",
   "metadata": {},
   "source": [
    "# Cookie Clicker Naive Agent\n",
    "\n",
    "This clicker checks items after a specified number of clicks, and buys all affordible items, starting the the most recently unlocked buildings.\n",
    "\n",
    "TODO: \n",
    "- log number of each building across time\n",
    "- log revenue across time"
   ]
  },
  {
   "cell_type": "code",
   "execution_count": 113,
   "metadata": {},
   "outputs": [],
   "source": [
    "# Naive agent\n",
    "class agent_class_naive:\n",
    "\n",
    "    def __init__(self,driver):\n",
    "        # navigate to site\n",
    "        driver.get('https://orteil.dashnet.org/cookieclicker/')\n",
    "        self.big_cookie = driver.find_element_by_id('bigCookie')\n",
    "        self.golden_cookie_clicks = 0\n",
    "        # initialize balance and revenue logs\n",
    "        self.log_balance=[0]\n",
    "        self.log_revenue=[0]\n",
    "        self.log_bal_rev_epoch=[0]\n",
    "        # initialize building info, and logs of building info\n",
    "        self.get_building_info()\n",
    "        self.log_build_info = dict()\n",
    "        self.building_info_logger(epoch=0)\n",
    "        \n",
    "    def click_cookie(self):\n",
    "        self.big_cookie.click()\n",
    "        \n",
    "    def click_golden_cookie(self):\n",
    "        golden_cookies = driver.find_elements_by_xpath('//div[@class=\"shimmer\"]')\n",
    "        while len(golden_cookies)>0: # if there are products, and while we can afford products,\n",
    "            for golden_cookie in golden_cookies:\n",
    "                golden_cookie.click() # buy each one\n",
    "                self.golden_cookie_clicks+=1\n",
    "            golden_cookies = driver.find_elements_by_xpath('//div[@class=\"shimmer\"]')\n",
    "\n",
    "    def buy_upgrades(self):\n",
    "        upgrades = driver.find_elements_by_xpath('//div[@class=\"crate upgrade enabled\"]')\n",
    "        while len(upgrades)>0: # if there are products, and while we can afford products,\n",
    "            try: upgrades[-1].click() # buy each one, most expensive first\n",
    "            except: None\n",
    "            upgrades = driver.find_elements_by_xpath('//div[@class=\"crate upgrade enabled\"]')\n",
    "    \n",
    "    def buy_products(self):\n",
    "        products = driver.find_elements_by_xpath('//div[@class=\"product unlocked enabled\"]')\n",
    "        while len(products)>0: # if there are products, and while we can afford products,\n",
    "            try: products[-1].click() # buy each one, most expensive first\n",
    "            except: None\n",
    "            products = driver.find_elements_by_xpath('//div[@class=\"product unlocked enabled\"]')\n",
    "            \n",
    "    def log_balance_and_revenue(self,epoch):\n",
    "        # log balance and revenue\n",
    "        tmp = driver.find_elements_by_xpath('//div[@id=\"cookies\"]')\n",
    "        tmp = tmp[0].text.replace(',','') # remove camas 1,000 -> 1000\n",
    "        tmp = re.findall(\"\\d+\",tmp) # extract balance and revenue\n",
    "        tmp = [int(i) for i in tmp] # convert str -> int\n",
    "        self.log_balance.append(tmp[0]) # log balance\n",
    "        self.log_revenue.append(tmp[1]) # log revenue\n",
    "        self.log_bal_rev_epoch.append(epoch) # index for balance and revenue\n",
    "        \n",
    "        \n",
    "    def get_building_info(self):\n",
    "        # get unlocked products\n",
    "        products_unlocked = (driver.find_elements_by_xpath('//div[@class=\"product unlocked enabled\"]') + \n",
    "                             driver.find_elements_by_xpath('//div[@class=\"product unlocked disabled\"]'))\n",
    "                \n",
    "        # info for unlocked buildings\n",
    "        building_info = dict()\n",
    "        for i,building in enumerate(products_unlocked):\n",
    "            # get info from building button\n",
    "            tmp=building.text.replace(',','').split(sep=\"\\n\")\n",
    "            building_name,building_price,building_count = tmp if len(tmp)==3 else tmp+[0]\n",
    "            # initialize dict for building\n",
    "            building_info[building_name] = dict()\n",
    "            # fill in count and price\n",
    "            building_info[building_name]['count']=int(building_count)\n",
    "            building_info[building_name]['price']=int(building_price)\n",
    "            # get info from building tooltip\n",
    "            hover = ActionChains(driver).move_to_element(building)\n",
    "            hover.perform()\n",
    "            tooltip = driver.find_elements_by_xpath('//div[@id=\"tooltip\"]')\n",
    "            tmp=tooltip[0].text.replace(',','');\n",
    "            tmp_cps = re.findall(r\"[-+]?\\d*\\.\\d+ cookies per|\\d+ cookies per\",tmp)\n",
    "            #### default of inf below encourages purchasing any unowned buildings\n",
    "            building_cps = float(tmp_cps[0][:tmp_cps[0].find(' ')]) if tmp_cps else float('inf')\n",
    "            building_info[building_name]['cps']=building_cps\n",
    "            building_info[building_name]['cps/price']=building_cps/int(building_price)\n",
    "        self.building_info = building_info\n",
    "        \n",
    "    def building_info_logger(self,epoch):\n",
    "        if self.building_info: # if self.building_info exists\n",
    "            # modified from get_building_info to append.\n",
    "            log_keys = ['count','price','cps','cps/price']\n",
    "            # info for unlocked buildings\n",
    "            for building in self.building_info:\n",
    "                # initialize new buildings\n",
    "                if building not in self.log_build_info:\n",
    "                    self.log_build_info[building] = dict()\n",
    "                    for k in log_keys+['epoch']:\n",
    "                        self.log_build_info[building][k]=[]\n",
    "                # fill in count,price,cps, cps/price\n",
    "                for k in log_keys:\n",
    "                    self.log_build_info[building][k].append(self.building_info[building][k])\n",
    "                # log epoch, within each building since buildings become available at different times\n",
    "                self.log_build_info[building]['epoch'].append(epoch)\n",
    "\n"
   ]
  },
  {
   "cell_type": "code",
   "execution_count": 114,
   "metadata": {},
   "outputs": [],
   "source": [
    "# start driver\n",
    "driver = webdriver.Chrome('./chromedriver')"
   ]
  },
  {
   "cell_type": "code",
   "execution_count": 115,
   "metadata": {},
   "outputs": [],
   "source": [
    "# initialize agent\n",
    "agent = agent_class_naive(driver)"
   ]
  },
  {
   "cell_type": "code",
   "execution_count": 116,
   "metadata": {},
   "outputs": [],
   "source": [
    "#### turn off all default graphic settings!! "
   ]
  },
  {
   "cell_type": "code",
   "execution_count": 117,
   "metadata": {},
   "outputs": [],
   "source": [
    "# initialize click counter\n",
    "ci = 0"
   ]
  },
  {
   "cell_type": "code",
   "execution_count": 118,
   "metadata": {},
   "outputs": [
    {
     "name": "stdout",
     "output_type": "stream",
     "text": [
      "click: 49200 of 100000\n",
      "pct: 0.492\n",
      "Golden Clicks: 0\n"
     ]
    },
    {
     "ename": "KeyboardInterrupt",
     "evalue": "",
     "output_type": "error",
     "traceback": [
      "\u001b[0;31m---------------------------------------------------------------------------\u001b[0m",
      "\u001b[0;31mTypeError\u001b[0m                                 Traceback (most recent call last)",
      "\u001b[0;32m/anaconda3/lib/python3.6/site-packages/urllib3/connectionpool.py\u001b[0m in \u001b[0;36m_make_request\u001b[0;34m(self, conn, method, url, timeout, chunked, **httplib_request_kw)\u001b[0m\n\u001b[1;32m    376\u001b[0m             \u001b[0;32mtry\u001b[0m\u001b[0;34m:\u001b[0m  \u001b[0;31m# Python 2.7, use buffering of HTTP responses\u001b[0m\u001b[0;34m\u001b[0m\u001b[0;34m\u001b[0m\u001b[0m\n\u001b[0;32m--> 377\u001b[0;31m                 \u001b[0mhttplib_response\u001b[0m \u001b[0;34m=\u001b[0m \u001b[0mconn\u001b[0m\u001b[0;34m.\u001b[0m\u001b[0mgetresponse\u001b[0m\u001b[0;34m(\u001b[0m\u001b[0mbuffering\u001b[0m\u001b[0;34m=\u001b[0m\u001b[0;32mTrue\u001b[0m\u001b[0;34m)\u001b[0m\u001b[0;34m\u001b[0m\u001b[0;34m\u001b[0m\u001b[0m\n\u001b[0m\u001b[1;32m    378\u001b[0m             \u001b[0;32mexcept\u001b[0m \u001b[0mTypeError\u001b[0m\u001b[0;34m:\u001b[0m  \u001b[0;31m# Python 3\u001b[0m\u001b[0;34m\u001b[0m\u001b[0;34m\u001b[0m\u001b[0m\n",
      "\u001b[0;31mTypeError\u001b[0m: getresponse() got an unexpected keyword argument 'buffering'",
      "\nDuring handling of the above exception, another exception occurred:\n",
      "\u001b[0;31mKeyboardInterrupt\u001b[0m                         Traceback (most recent call last)",
      "\u001b[0;32m<ipython-input-118-10813b8440a1>\u001b[0m in \u001b[0;36m<module>\u001b[0;34m\u001b[0m\n\u001b[1;32m      6\u001b[0m \u001b[0;32mwhile\u001b[0m \u001b[0mci\u001b[0m\u001b[0;34m<\u001b[0m\u001b[0mstop\u001b[0m\u001b[0;34m:\u001b[0m\u001b[0;34m\u001b[0m\u001b[0;34m\u001b[0m\u001b[0m\n\u001b[1;32m      7\u001b[0m     \u001b[0mci\u001b[0m \u001b[0;34m+=\u001b[0m \u001b[0;36m1\u001b[0m \u001b[0;31m# increment click counter\u001b[0m\u001b[0;34m\u001b[0m\u001b[0;34m\u001b[0m\u001b[0m\n\u001b[0;32m----> 8\u001b[0;31m     \u001b[0magent\u001b[0m\u001b[0;34m.\u001b[0m\u001b[0mclick_cookie\u001b[0m\u001b[0;34m(\u001b[0m\u001b[0;34m)\u001b[0m\u001b[0;34m\u001b[0m\u001b[0;34m\u001b[0m\u001b[0m\n\u001b[0m\u001b[1;32m      9\u001b[0m     \u001b[0;31m#agent.click_golden_cookie()\u001b[0m\u001b[0;34m\u001b[0m\u001b[0;34m\u001b[0m\u001b[0;34m\u001b[0m\u001b[0m\n\u001b[1;32m     10\u001b[0m     \u001b[0;32mif\u001b[0m \u001b[0mci\u001b[0m\u001b[0;34m%\u001b[0m\u001b[0;36m200\u001b[0m \u001b[0;34m==\u001b[0m \u001b[0;36m0\u001b[0m\u001b[0;34m:\u001b[0m \u001b[0;31m# to speed pure clicking\u001b[0m\u001b[0;34m\u001b[0m\u001b[0;34m\u001b[0m\u001b[0m\n",
      "\u001b[0;32m<ipython-input-113-404c4521d7bc>\u001b[0m in \u001b[0;36mclick_cookie\u001b[0;34m(self)\u001b[0m\n\u001b[1;32m     17\u001b[0m \u001b[0;34m\u001b[0m\u001b[0m\n\u001b[1;32m     18\u001b[0m     \u001b[0;32mdef\u001b[0m \u001b[0mclick_cookie\u001b[0m\u001b[0;34m(\u001b[0m\u001b[0mself\u001b[0m\u001b[0;34m)\u001b[0m\u001b[0;34m:\u001b[0m\u001b[0;34m\u001b[0m\u001b[0;34m\u001b[0m\u001b[0m\n\u001b[0;32m---> 19\u001b[0;31m         \u001b[0mself\u001b[0m\u001b[0;34m.\u001b[0m\u001b[0mbig_cookie\u001b[0m\u001b[0;34m.\u001b[0m\u001b[0mclick\u001b[0m\u001b[0;34m(\u001b[0m\u001b[0;34m)\u001b[0m\u001b[0;34m\u001b[0m\u001b[0;34m\u001b[0m\u001b[0m\n\u001b[0m\u001b[1;32m     20\u001b[0m \u001b[0;34m\u001b[0m\u001b[0m\n\u001b[1;32m     21\u001b[0m     \u001b[0;32mdef\u001b[0m \u001b[0mclick_golden_cookie\u001b[0m\u001b[0;34m(\u001b[0m\u001b[0mself\u001b[0m\u001b[0;34m)\u001b[0m\u001b[0;34m:\u001b[0m\u001b[0;34m\u001b[0m\u001b[0;34m\u001b[0m\u001b[0m\n",
      "\u001b[0;32m/anaconda3/lib/python3.6/site-packages/selenium/webdriver/remote/webelement.py\u001b[0m in \u001b[0;36mclick\u001b[0;34m(self)\u001b[0m\n\u001b[1;32m     78\u001b[0m     \u001b[0;32mdef\u001b[0m \u001b[0mclick\u001b[0m\u001b[0;34m(\u001b[0m\u001b[0mself\u001b[0m\u001b[0;34m)\u001b[0m\u001b[0;34m:\u001b[0m\u001b[0;34m\u001b[0m\u001b[0;34m\u001b[0m\u001b[0m\n\u001b[1;32m     79\u001b[0m         \u001b[0;34m\"\"\"Clicks the element.\"\"\"\u001b[0m\u001b[0;34m\u001b[0m\u001b[0;34m\u001b[0m\u001b[0m\n\u001b[0;32m---> 80\u001b[0;31m         \u001b[0mself\u001b[0m\u001b[0;34m.\u001b[0m\u001b[0m_execute\u001b[0m\u001b[0;34m(\u001b[0m\u001b[0mCommand\u001b[0m\u001b[0;34m.\u001b[0m\u001b[0mCLICK_ELEMENT\u001b[0m\u001b[0;34m)\u001b[0m\u001b[0;34m\u001b[0m\u001b[0;34m\u001b[0m\u001b[0m\n\u001b[0m\u001b[1;32m     81\u001b[0m \u001b[0;34m\u001b[0m\u001b[0m\n\u001b[1;32m     82\u001b[0m     \u001b[0;32mdef\u001b[0m \u001b[0msubmit\u001b[0m\u001b[0;34m(\u001b[0m\u001b[0mself\u001b[0m\u001b[0;34m)\u001b[0m\u001b[0;34m:\u001b[0m\u001b[0;34m\u001b[0m\u001b[0;34m\u001b[0m\u001b[0m\n",
      "\u001b[0;32m/anaconda3/lib/python3.6/site-packages/selenium/webdriver/remote/webelement.py\u001b[0m in \u001b[0;36m_execute\u001b[0;34m(self, command, params)\u001b[0m\n\u001b[1;32m    631\u001b[0m             \u001b[0mparams\u001b[0m \u001b[0;34m=\u001b[0m \u001b[0;34m{\u001b[0m\u001b[0;34m}\u001b[0m\u001b[0;34m\u001b[0m\u001b[0;34m\u001b[0m\u001b[0m\n\u001b[1;32m    632\u001b[0m         \u001b[0mparams\u001b[0m\u001b[0;34m[\u001b[0m\u001b[0;34m'id'\u001b[0m\u001b[0;34m]\u001b[0m \u001b[0;34m=\u001b[0m \u001b[0mself\u001b[0m\u001b[0;34m.\u001b[0m\u001b[0m_id\u001b[0m\u001b[0;34m\u001b[0m\u001b[0;34m\u001b[0m\u001b[0m\n\u001b[0;32m--> 633\u001b[0;31m         \u001b[0;32mreturn\u001b[0m \u001b[0mself\u001b[0m\u001b[0;34m.\u001b[0m\u001b[0m_parent\u001b[0m\u001b[0;34m.\u001b[0m\u001b[0mexecute\u001b[0m\u001b[0;34m(\u001b[0m\u001b[0mcommand\u001b[0m\u001b[0;34m,\u001b[0m \u001b[0mparams\u001b[0m\u001b[0;34m)\u001b[0m\u001b[0;34m\u001b[0m\u001b[0;34m\u001b[0m\u001b[0m\n\u001b[0m\u001b[1;32m    634\u001b[0m \u001b[0;34m\u001b[0m\u001b[0m\n\u001b[1;32m    635\u001b[0m     \u001b[0;32mdef\u001b[0m \u001b[0mfind_element\u001b[0m\u001b[0;34m(\u001b[0m\u001b[0mself\u001b[0m\u001b[0;34m,\u001b[0m \u001b[0mby\u001b[0m\u001b[0;34m=\u001b[0m\u001b[0mBy\u001b[0m\u001b[0;34m.\u001b[0m\u001b[0mID\u001b[0m\u001b[0;34m,\u001b[0m \u001b[0mvalue\u001b[0m\u001b[0;34m=\u001b[0m\u001b[0;32mNone\u001b[0m\u001b[0;34m)\u001b[0m\u001b[0;34m:\u001b[0m\u001b[0;34m\u001b[0m\u001b[0;34m\u001b[0m\u001b[0m\n",
      "\u001b[0;32m/anaconda3/lib/python3.6/site-packages/selenium/webdriver/remote/webdriver.py\u001b[0m in \u001b[0;36mexecute\u001b[0;34m(self, driver_command, params)\u001b[0m\n\u001b[1;32m    317\u001b[0m \u001b[0;34m\u001b[0m\u001b[0m\n\u001b[1;32m    318\u001b[0m         \u001b[0mparams\u001b[0m \u001b[0;34m=\u001b[0m \u001b[0mself\u001b[0m\u001b[0;34m.\u001b[0m\u001b[0m_wrap_value\u001b[0m\u001b[0;34m(\u001b[0m\u001b[0mparams\u001b[0m\u001b[0;34m)\u001b[0m\u001b[0;34m\u001b[0m\u001b[0;34m\u001b[0m\u001b[0m\n\u001b[0;32m--> 319\u001b[0;31m         \u001b[0mresponse\u001b[0m \u001b[0;34m=\u001b[0m \u001b[0mself\u001b[0m\u001b[0;34m.\u001b[0m\u001b[0mcommand_executor\u001b[0m\u001b[0;34m.\u001b[0m\u001b[0mexecute\u001b[0m\u001b[0;34m(\u001b[0m\u001b[0mdriver_command\u001b[0m\u001b[0;34m,\u001b[0m \u001b[0mparams\u001b[0m\u001b[0;34m)\u001b[0m\u001b[0;34m\u001b[0m\u001b[0;34m\u001b[0m\u001b[0m\n\u001b[0m\u001b[1;32m    320\u001b[0m         \u001b[0;32mif\u001b[0m \u001b[0mresponse\u001b[0m\u001b[0;34m:\u001b[0m\u001b[0;34m\u001b[0m\u001b[0;34m\u001b[0m\u001b[0m\n\u001b[1;32m    321\u001b[0m             \u001b[0mself\u001b[0m\u001b[0;34m.\u001b[0m\u001b[0merror_handler\u001b[0m\u001b[0;34m.\u001b[0m\u001b[0mcheck_response\u001b[0m\u001b[0;34m(\u001b[0m\u001b[0mresponse\u001b[0m\u001b[0;34m)\u001b[0m\u001b[0;34m\u001b[0m\u001b[0;34m\u001b[0m\u001b[0m\n",
      "\u001b[0;32m/anaconda3/lib/python3.6/site-packages/selenium/webdriver/remote/remote_connection.py\u001b[0m in \u001b[0;36mexecute\u001b[0;34m(self, command, params)\u001b[0m\n\u001b[1;32m    372\u001b[0m         \u001b[0mdata\u001b[0m \u001b[0;34m=\u001b[0m \u001b[0mutils\u001b[0m\u001b[0;34m.\u001b[0m\u001b[0mdump_json\u001b[0m\u001b[0;34m(\u001b[0m\u001b[0mparams\u001b[0m\u001b[0;34m)\u001b[0m\u001b[0;34m\u001b[0m\u001b[0;34m\u001b[0m\u001b[0m\n\u001b[1;32m    373\u001b[0m         \u001b[0murl\u001b[0m \u001b[0;34m=\u001b[0m \u001b[0;34m'%s%s'\u001b[0m \u001b[0;34m%\u001b[0m \u001b[0;34m(\u001b[0m\u001b[0mself\u001b[0m\u001b[0;34m.\u001b[0m\u001b[0m_url\u001b[0m\u001b[0;34m,\u001b[0m \u001b[0mpath\u001b[0m\u001b[0;34m)\u001b[0m\u001b[0;34m\u001b[0m\u001b[0;34m\u001b[0m\u001b[0m\n\u001b[0;32m--> 374\u001b[0;31m         \u001b[0;32mreturn\u001b[0m \u001b[0mself\u001b[0m\u001b[0;34m.\u001b[0m\u001b[0m_request\u001b[0m\u001b[0;34m(\u001b[0m\u001b[0mcommand_info\u001b[0m\u001b[0;34m[\u001b[0m\u001b[0;36m0\u001b[0m\u001b[0;34m]\u001b[0m\u001b[0;34m,\u001b[0m \u001b[0murl\u001b[0m\u001b[0;34m,\u001b[0m \u001b[0mbody\u001b[0m\u001b[0;34m=\u001b[0m\u001b[0mdata\u001b[0m\u001b[0;34m)\u001b[0m\u001b[0;34m\u001b[0m\u001b[0;34m\u001b[0m\u001b[0m\n\u001b[0m\u001b[1;32m    375\u001b[0m \u001b[0;34m\u001b[0m\u001b[0m\n\u001b[1;32m    376\u001b[0m     \u001b[0;32mdef\u001b[0m \u001b[0m_request\u001b[0m\u001b[0;34m(\u001b[0m\u001b[0mself\u001b[0m\u001b[0;34m,\u001b[0m \u001b[0mmethod\u001b[0m\u001b[0;34m,\u001b[0m \u001b[0murl\u001b[0m\u001b[0;34m,\u001b[0m \u001b[0mbody\u001b[0m\u001b[0;34m=\u001b[0m\u001b[0;32mNone\u001b[0m\u001b[0;34m)\u001b[0m\u001b[0;34m:\u001b[0m\u001b[0;34m\u001b[0m\u001b[0;34m\u001b[0m\u001b[0m\n",
      "\u001b[0;32m/anaconda3/lib/python3.6/site-packages/selenium/webdriver/remote/remote_connection.py\u001b[0m in \u001b[0;36m_request\u001b[0;34m(self, method, url, body)\u001b[0m\n\u001b[1;32m    395\u001b[0m \u001b[0;34m\u001b[0m\u001b[0m\n\u001b[1;32m    396\u001b[0m         \u001b[0;32mif\u001b[0m \u001b[0mself\u001b[0m\u001b[0;34m.\u001b[0m\u001b[0mkeep_alive\u001b[0m\u001b[0;34m:\u001b[0m\u001b[0;34m\u001b[0m\u001b[0;34m\u001b[0m\u001b[0m\n\u001b[0;32m--> 397\u001b[0;31m             \u001b[0mresp\u001b[0m \u001b[0;34m=\u001b[0m \u001b[0mself\u001b[0m\u001b[0;34m.\u001b[0m\u001b[0m_conn\u001b[0m\u001b[0;34m.\u001b[0m\u001b[0mrequest\u001b[0m\u001b[0;34m(\u001b[0m\u001b[0mmethod\u001b[0m\u001b[0;34m,\u001b[0m \u001b[0murl\u001b[0m\u001b[0;34m,\u001b[0m \u001b[0mbody\u001b[0m\u001b[0;34m=\u001b[0m\u001b[0mbody\u001b[0m\u001b[0;34m,\u001b[0m \u001b[0mheaders\u001b[0m\u001b[0;34m=\u001b[0m\u001b[0mheaders\u001b[0m\u001b[0;34m)\u001b[0m\u001b[0;34m\u001b[0m\u001b[0;34m\u001b[0m\u001b[0m\n\u001b[0m\u001b[1;32m    398\u001b[0m \u001b[0;34m\u001b[0m\u001b[0m\n\u001b[1;32m    399\u001b[0m             \u001b[0mstatuscode\u001b[0m \u001b[0;34m=\u001b[0m \u001b[0mresp\u001b[0m\u001b[0;34m.\u001b[0m\u001b[0mstatus\u001b[0m\u001b[0;34m\u001b[0m\u001b[0;34m\u001b[0m\u001b[0m\n",
      "\u001b[0;32m/anaconda3/lib/python3.6/site-packages/urllib3/request.py\u001b[0m in \u001b[0;36mrequest\u001b[0;34m(self, method, url, fields, headers, **urlopen_kw)\u001b[0m\n\u001b[1;32m     70\u001b[0m             return self.request_encode_body(method, url, fields=fields,\n\u001b[1;32m     71\u001b[0m                                             \u001b[0mheaders\u001b[0m\u001b[0;34m=\u001b[0m\u001b[0mheaders\u001b[0m\u001b[0;34m,\u001b[0m\u001b[0;34m\u001b[0m\u001b[0;34m\u001b[0m\u001b[0m\n\u001b[0;32m---> 72\u001b[0;31m                                             **urlopen_kw)\n\u001b[0m\u001b[1;32m     73\u001b[0m \u001b[0;34m\u001b[0m\u001b[0m\n\u001b[1;32m     74\u001b[0m     def request_encode_url(self, method, url, fields=None, headers=None,\n",
      "\u001b[0;32m/anaconda3/lib/python3.6/site-packages/urllib3/request.py\u001b[0m in \u001b[0;36mrequest_encode_body\u001b[0;34m(self, method, url, fields, headers, encode_multipart, multipart_boundary, **urlopen_kw)\u001b[0m\n\u001b[1;32m    148\u001b[0m         \u001b[0mextra_kw\u001b[0m\u001b[0;34m.\u001b[0m\u001b[0mupdate\u001b[0m\u001b[0;34m(\u001b[0m\u001b[0murlopen_kw\u001b[0m\u001b[0;34m)\u001b[0m\u001b[0;34m\u001b[0m\u001b[0;34m\u001b[0m\u001b[0m\n\u001b[1;32m    149\u001b[0m \u001b[0;34m\u001b[0m\u001b[0m\n\u001b[0;32m--> 150\u001b[0;31m         \u001b[0;32mreturn\u001b[0m \u001b[0mself\u001b[0m\u001b[0;34m.\u001b[0m\u001b[0murlopen\u001b[0m\u001b[0;34m(\u001b[0m\u001b[0mmethod\u001b[0m\u001b[0;34m,\u001b[0m \u001b[0murl\u001b[0m\u001b[0;34m,\u001b[0m \u001b[0;34m**\u001b[0m\u001b[0mextra_kw\u001b[0m\u001b[0;34m)\u001b[0m\u001b[0;34m\u001b[0m\u001b[0;34m\u001b[0m\u001b[0m\n\u001b[0m",
      "\u001b[0;32m/anaconda3/lib/python3.6/site-packages/urllib3/poolmanager.py\u001b[0m in \u001b[0;36murlopen\u001b[0;34m(self, method, url, redirect, **kw)\u001b[0m\n\u001b[1;32m    321\u001b[0m             \u001b[0mresponse\u001b[0m \u001b[0;34m=\u001b[0m \u001b[0mconn\u001b[0m\u001b[0;34m.\u001b[0m\u001b[0murlopen\u001b[0m\u001b[0;34m(\u001b[0m\u001b[0mmethod\u001b[0m\u001b[0;34m,\u001b[0m \u001b[0murl\u001b[0m\u001b[0;34m,\u001b[0m \u001b[0;34m**\u001b[0m\u001b[0mkw\u001b[0m\u001b[0;34m)\u001b[0m\u001b[0;34m\u001b[0m\u001b[0;34m\u001b[0m\u001b[0m\n\u001b[1;32m    322\u001b[0m         \u001b[0;32melse\u001b[0m\u001b[0;34m:\u001b[0m\u001b[0;34m\u001b[0m\u001b[0;34m\u001b[0m\u001b[0m\n\u001b[0;32m--> 323\u001b[0;31m             \u001b[0mresponse\u001b[0m \u001b[0;34m=\u001b[0m \u001b[0mconn\u001b[0m\u001b[0;34m.\u001b[0m\u001b[0murlopen\u001b[0m\u001b[0;34m(\u001b[0m\u001b[0mmethod\u001b[0m\u001b[0;34m,\u001b[0m \u001b[0mu\u001b[0m\u001b[0;34m.\u001b[0m\u001b[0mrequest_uri\u001b[0m\u001b[0;34m,\u001b[0m \u001b[0;34m**\u001b[0m\u001b[0mkw\u001b[0m\u001b[0;34m)\u001b[0m\u001b[0;34m\u001b[0m\u001b[0;34m\u001b[0m\u001b[0m\n\u001b[0m\u001b[1;32m    324\u001b[0m \u001b[0;34m\u001b[0m\u001b[0m\n\u001b[1;32m    325\u001b[0m         \u001b[0mredirect_location\u001b[0m \u001b[0;34m=\u001b[0m \u001b[0mredirect\u001b[0m \u001b[0;32mand\u001b[0m \u001b[0mresponse\u001b[0m\u001b[0;34m.\u001b[0m\u001b[0mget_redirect_location\u001b[0m\u001b[0;34m(\u001b[0m\u001b[0;34m)\u001b[0m\u001b[0;34m\u001b[0m\u001b[0;34m\u001b[0m\u001b[0m\n",
      "\u001b[0;32m/anaconda3/lib/python3.6/site-packages/urllib3/connectionpool.py\u001b[0m in \u001b[0;36murlopen\u001b[0;34m(self, method, url, body, headers, retries, redirect, assert_same_host, timeout, pool_timeout, release_conn, chunked, body_pos, **response_kw)\u001b[0m\n\u001b[1;32m    598\u001b[0m                                                   \u001b[0mtimeout\u001b[0m\u001b[0;34m=\u001b[0m\u001b[0mtimeout_obj\u001b[0m\u001b[0;34m,\u001b[0m\u001b[0;34m\u001b[0m\u001b[0;34m\u001b[0m\u001b[0m\n\u001b[1;32m    599\u001b[0m                                                   \u001b[0mbody\u001b[0m\u001b[0;34m=\u001b[0m\u001b[0mbody\u001b[0m\u001b[0;34m,\u001b[0m \u001b[0mheaders\u001b[0m\u001b[0;34m=\u001b[0m\u001b[0mheaders\u001b[0m\u001b[0;34m,\u001b[0m\u001b[0;34m\u001b[0m\u001b[0;34m\u001b[0m\u001b[0m\n\u001b[0;32m--> 600\u001b[0;31m                                                   chunked=chunked)\n\u001b[0m\u001b[1;32m    601\u001b[0m \u001b[0;34m\u001b[0m\u001b[0m\n\u001b[1;32m    602\u001b[0m             \u001b[0;31m# If we're going to release the connection in ``finally:``, then\u001b[0m\u001b[0;34m\u001b[0m\u001b[0;34m\u001b[0m\u001b[0;34m\u001b[0m\u001b[0m\n",
      "\u001b[0;32m/anaconda3/lib/python3.6/site-packages/urllib3/connectionpool.py\u001b[0m in \u001b[0;36m_make_request\u001b[0;34m(self, conn, method, url, timeout, chunked, **httplib_request_kw)\u001b[0m\n\u001b[1;32m    378\u001b[0m             \u001b[0;32mexcept\u001b[0m \u001b[0mTypeError\u001b[0m\u001b[0;34m:\u001b[0m  \u001b[0;31m# Python 3\u001b[0m\u001b[0;34m\u001b[0m\u001b[0;34m\u001b[0m\u001b[0m\n\u001b[1;32m    379\u001b[0m                 \u001b[0;32mtry\u001b[0m\u001b[0;34m:\u001b[0m\u001b[0;34m\u001b[0m\u001b[0;34m\u001b[0m\u001b[0m\n\u001b[0;32m--> 380\u001b[0;31m                     \u001b[0mhttplib_response\u001b[0m \u001b[0;34m=\u001b[0m \u001b[0mconn\u001b[0m\u001b[0;34m.\u001b[0m\u001b[0mgetresponse\u001b[0m\u001b[0;34m(\u001b[0m\u001b[0;34m)\u001b[0m\u001b[0;34m\u001b[0m\u001b[0;34m\u001b[0m\u001b[0m\n\u001b[0m\u001b[1;32m    381\u001b[0m                 \u001b[0;32mexcept\u001b[0m \u001b[0mException\u001b[0m \u001b[0;32mas\u001b[0m \u001b[0me\u001b[0m\u001b[0;34m:\u001b[0m\u001b[0;34m\u001b[0m\u001b[0;34m\u001b[0m\u001b[0m\n\u001b[1;32m    382\u001b[0m                     \u001b[0;31m# Remove the TypeError from the exception chain in Python 3;\u001b[0m\u001b[0;34m\u001b[0m\u001b[0;34m\u001b[0m\u001b[0;34m\u001b[0m\u001b[0m\n",
      "\u001b[0;32m/anaconda3/lib/python3.6/http/client.py\u001b[0m in \u001b[0;36mgetresponse\u001b[0;34m(self)\u001b[0m\n\u001b[1;32m   1329\u001b[0m         \u001b[0;32mtry\u001b[0m\u001b[0;34m:\u001b[0m\u001b[0;34m\u001b[0m\u001b[0;34m\u001b[0m\u001b[0m\n\u001b[1;32m   1330\u001b[0m             \u001b[0;32mtry\u001b[0m\u001b[0;34m:\u001b[0m\u001b[0;34m\u001b[0m\u001b[0;34m\u001b[0m\u001b[0m\n\u001b[0;32m-> 1331\u001b[0;31m                 \u001b[0mresponse\u001b[0m\u001b[0;34m.\u001b[0m\u001b[0mbegin\u001b[0m\u001b[0;34m(\u001b[0m\u001b[0;34m)\u001b[0m\u001b[0;34m\u001b[0m\u001b[0;34m\u001b[0m\u001b[0m\n\u001b[0m\u001b[1;32m   1332\u001b[0m             \u001b[0;32mexcept\u001b[0m \u001b[0mConnectionError\u001b[0m\u001b[0;34m:\u001b[0m\u001b[0;34m\u001b[0m\u001b[0;34m\u001b[0m\u001b[0m\n\u001b[1;32m   1333\u001b[0m                 \u001b[0mself\u001b[0m\u001b[0;34m.\u001b[0m\u001b[0mclose\u001b[0m\u001b[0;34m(\u001b[0m\u001b[0;34m)\u001b[0m\u001b[0;34m\u001b[0m\u001b[0;34m\u001b[0m\u001b[0m\n",
      "\u001b[0;32m/anaconda3/lib/python3.6/http/client.py\u001b[0m in \u001b[0;36mbegin\u001b[0;34m(self)\u001b[0m\n\u001b[1;32m    295\u001b[0m         \u001b[0;31m# read until we get a non-100 response\u001b[0m\u001b[0;34m\u001b[0m\u001b[0;34m\u001b[0m\u001b[0;34m\u001b[0m\u001b[0m\n\u001b[1;32m    296\u001b[0m         \u001b[0;32mwhile\u001b[0m \u001b[0;32mTrue\u001b[0m\u001b[0;34m:\u001b[0m\u001b[0;34m\u001b[0m\u001b[0;34m\u001b[0m\u001b[0m\n\u001b[0;32m--> 297\u001b[0;31m             \u001b[0mversion\u001b[0m\u001b[0;34m,\u001b[0m \u001b[0mstatus\u001b[0m\u001b[0;34m,\u001b[0m \u001b[0mreason\u001b[0m \u001b[0;34m=\u001b[0m \u001b[0mself\u001b[0m\u001b[0;34m.\u001b[0m\u001b[0m_read_status\u001b[0m\u001b[0;34m(\u001b[0m\u001b[0;34m)\u001b[0m\u001b[0;34m\u001b[0m\u001b[0;34m\u001b[0m\u001b[0m\n\u001b[0m\u001b[1;32m    298\u001b[0m             \u001b[0;32mif\u001b[0m \u001b[0mstatus\u001b[0m \u001b[0;34m!=\u001b[0m \u001b[0mCONTINUE\u001b[0m\u001b[0;34m:\u001b[0m\u001b[0;34m\u001b[0m\u001b[0;34m\u001b[0m\u001b[0m\n\u001b[1;32m    299\u001b[0m                 \u001b[0;32mbreak\u001b[0m\u001b[0;34m\u001b[0m\u001b[0;34m\u001b[0m\u001b[0m\n",
      "\u001b[0;32m/anaconda3/lib/python3.6/http/client.py\u001b[0m in \u001b[0;36m_read_status\u001b[0;34m(self)\u001b[0m\n\u001b[1;32m    256\u001b[0m \u001b[0;34m\u001b[0m\u001b[0m\n\u001b[1;32m    257\u001b[0m     \u001b[0;32mdef\u001b[0m \u001b[0m_read_status\u001b[0m\u001b[0;34m(\u001b[0m\u001b[0mself\u001b[0m\u001b[0;34m)\u001b[0m\u001b[0;34m:\u001b[0m\u001b[0;34m\u001b[0m\u001b[0;34m\u001b[0m\u001b[0m\n\u001b[0;32m--> 258\u001b[0;31m         \u001b[0mline\u001b[0m \u001b[0;34m=\u001b[0m \u001b[0mstr\u001b[0m\u001b[0;34m(\u001b[0m\u001b[0mself\u001b[0m\u001b[0;34m.\u001b[0m\u001b[0mfp\u001b[0m\u001b[0;34m.\u001b[0m\u001b[0mreadline\u001b[0m\u001b[0;34m(\u001b[0m\u001b[0m_MAXLINE\u001b[0m \u001b[0;34m+\u001b[0m \u001b[0;36m1\u001b[0m\u001b[0;34m)\u001b[0m\u001b[0;34m,\u001b[0m \u001b[0;34m\"iso-8859-1\"\u001b[0m\u001b[0;34m)\u001b[0m\u001b[0;34m\u001b[0m\u001b[0;34m\u001b[0m\u001b[0m\n\u001b[0m\u001b[1;32m    259\u001b[0m         \u001b[0;32mif\u001b[0m \u001b[0mlen\u001b[0m\u001b[0;34m(\u001b[0m\u001b[0mline\u001b[0m\u001b[0;34m)\u001b[0m \u001b[0;34m>\u001b[0m \u001b[0m_MAXLINE\u001b[0m\u001b[0;34m:\u001b[0m\u001b[0;34m\u001b[0m\u001b[0;34m\u001b[0m\u001b[0m\n\u001b[1;32m    260\u001b[0m             \u001b[0;32mraise\u001b[0m \u001b[0mLineTooLong\u001b[0m\u001b[0;34m(\u001b[0m\u001b[0;34m\"status line\"\u001b[0m\u001b[0;34m)\u001b[0m\u001b[0;34m\u001b[0m\u001b[0;34m\u001b[0m\u001b[0m\n",
      "\u001b[0;32m/anaconda3/lib/python3.6/socket.py\u001b[0m in \u001b[0;36mreadinto\u001b[0;34m(self, b)\u001b[0m\n\u001b[1;32m    584\u001b[0m         \u001b[0;32mwhile\u001b[0m \u001b[0;32mTrue\u001b[0m\u001b[0;34m:\u001b[0m\u001b[0;34m\u001b[0m\u001b[0;34m\u001b[0m\u001b[0m\n\u001b[1;32m    585\u001b[0m             \u001b[0;32mtry\u001b[0m\u001b[0;34m:\u001b[0m\u001b[0;34m\u001b[0m\u001b[0;34m\u001b[0m\u001b[0m\n\u001b[0;32m--> 586\u001b[0;31m                 \u001b[0;32mreturn\u001b[0m \u001b[0mself\u001b[0m\u001b[0;34m.\u001b[0m\u001b[0m_sock\u001b[0m\u001b[0;34m.\u001b[0m\u001b[0mrecv_into\u001b[0m\u001b[0;34m(\u001b[0m\u001b[0mb\u001b[0m\u001b[0;34m)\u001b[0m\u001b[0;34m\u001b[0m\u001b[0;34m\u001b[0m\u001b[0m\n\u001b[0m\u001b[1;32m    587\u001b[0m             \u001b[0;32mexcept\u001b[0m \u001b[0mtimeout\u001b[0m\u001b[0;34m:\u001b[0m\u001b[0;34m\u001b[0m\u001b[0;34m\u001b[0m\u001b[0m\n\u001b[1;32m    588\u001b[0m                 \u001b[0mself\u001b[0m\u001b[0;34m.\u001b[0m\u001b[0m_timeout_occurred\u001b[0m \u001b[0;34m=\u001b[0m \u001b[0;32mTrue\u001b[0m\u001b[0;34m\u001b[0m\u001b[0;34m\u001b[0m\u001b[0m\n",
      "\u001b[0;31mKeyboardInterrupt\u001b[0m: "
     ]
    }
   ],
   "source": [
    "# run algorithm for a specified number of cookie clicks\n",
    "clicks = 100000\n",
    "t0=time.time()\n",
    "initial_ci = ci\n",
    "stop = ci+clicks # run for `clicks` additional clicks\n",
    "while ci<stop:\n",
    "    ci += 1 # increment click counter\n",
    "    agent.click_cookie()\n",
    "    #agent.click_golden_cookie()\n",
    "    if ci%200 == 0: # to speed pure clicking\n",
    "        #agent.buy_upgrades()\n",
    "        agent.buy_products()\n",
    "        # log data\n",
    "        agent.log_balance_and_revenue(ci)\n",
    "        agent.get_building_info()\n",
    "        agent.building_info_logger(epoch=ci)\n",
    "        # feedback\n",
    "        clear_output()\n",
    "        print('click: '+str(ci-initial_ci)+' of '+str(stop-initial_ci)+\n",
    "             '\\npct: '+str((ci-initial_ci)/(stop-initial_ci))+\n",
    "             '\\nGolden Clicks: '+str(agent.golden_cookie_clicks))\n",
    "    #time.sleep(.07) # to keep CPU usage sustainably low\n",
    "t1=time.time()\n",
    "print('Total Time: '+ str(t1-t0) +'sec')\n",
    "# alert that loop finished\n",
    "notify_tone(reps=3,sleep=.5)"
   ]
  },
  {
   "cell_type": "code",
   "execution_count": null,
   "metadata": {},
   "outputs": [],
   "source": [
    "driver.close()"
   ]
  },
  {
   "cell_type": "code",
   "execution_count": null,
   "metadata": {},
   "outputs": [],
   "source": [
    "# save the agent for later analysis:\n",
    "# locally store this temporary agent as agent_naive\n",
    "agent_naive=agent\n",
    "# can't pickle web object, so need to clear agent.big_cookie before saving\n",
    "agent_naive.big_cookie, tmp = [],agent_naive.big_cookie\n",
    "save_obj(agent_naive,\"agent_naive_no_golden_no_upgrade\")\n",
    "agent_naive.big_cookie = tmp"
   ]
  },
  {
   "cell_type": "code",
   "execution_count": null,
   "metadata": {},
   "outputs": [],
   "source": [
    "# load the agent from the above save\n",
    "# was getting UTF-8 error, \n",
    "# changed to ... 'r',,encoding='utf-16') ...\n",
    "# this didn't help, but it worked when changed back to ...'rb')?\n",
    "\n",
    "agent = load_obj(\"agent_naive_no_golden_no_upgrade\")"
   ]
  },
  {
   "cell_type": "code",
   "execution_count": null,
   "metadata": {},
   "outputs": [],
   "source": [
    "plt.plot(agent.log_bal_rev_epoch,agent.log_balance)"
   ]
  },
  {
   "cell_type": "code",
   "execution_count": null,
   "metadata": {},
   "outputs": [],
   "source": [
    "# outliers here can be due to golden cookies\n",
    "plt.plot(agent.log_bal_rev_epoch,agent.log_revenue)\n",
    "#plt.scatter(agent.bal_rev_epoch,agent.log_revenue)"
   ]
  },
  {
   "cell_type": "code",
   "execution_count": null,
   "metadata": {},
   "outputs": [],
   "source": [
    "for k in agent.log_build_info:\n",
    "    plt.plot(agent.log_build_info[k]['epoch'],agent.log_build_info[k]['cps'],label=k)\n",
    "plt.legend()"
   ]
  },
  {
   "cell_type": "code",
   "execution_count": null,
   "metadata": {},
   "outputs": [],
   "source": [
    "for k in agent.log_build_info:\n",
    "    plt.plot(agent.log_build_info[k]['epoch'],agent.log_build_info[k]['price'],label=k)\n",
    "plt.legend()"
   ]
  },
  {
   "cell_type": "code",
   "execution_count": null,
   "metadata": {},
   "outputs": [],
   "source": [
    "for k in agent.log_build_info:\n",
    "    plt.plot(agent.log_build_info[k]['epoch'],agent.log_build_info[k]['cps/price'],label=k)\n",
    "plt.legend()"
   ]
  },
  {
   "cell_type": "code",
   "execution_count": null,
   "metadata": {},
   "outputs": [],
   "source": [
    "for k in agent.log_build_info:\n",
    "    plt.plot(agent.log_build_info[k]['epoch'],agent.log_build_info[k]['count'],label=k)\n",
    "plt.legend()"
   ]
  },
  {
   "cell_type": "markdown",
   "metadata": {},
   "source": [
    "# Cookie Clicker Max RPS/Price Agent\n",
    "\n",
    "\n",
    "- This clicker buys unlocked buildings with the highest cookies per second to price ratio. \n",
    "\n",
    "- Queue purchases based on maximum RPS/price\n"
   ]
  },
  {
   "cell_type": "code",
   "execution_count": 25,
   "metadata": {},
   "outputs": [],
   "source": [
    "# Max RPS/price agent\n",
    "class agent_class_max_rps_price_ratio:\n",
    "\n",
    "    def __init__(self,driver):\n",
    "        # navigate to site\n",
    "        driver.get('https://orteil.dashnet.org/cookieclicker/')\n",
    "        self.big_cookie = driver.find_element_by_id('bigCookie')\n",
    "        self.golden_cookie_clicks = 0\n",
    "        # initialize balance and revenue logs\n",
    "        self.balance=0\n",
    "        self.log_balance=[0]\n",
    "        self.log_revenue=[0]\n",
    "        self.bal_rev_epoch=[0]\n",
    "        # initialize building info, and logs of building info\n",
    "        self.get_building_info()\n",
    "        self.log_build_info = dict()\n",
    "        self.building_info_logger(epoch=0)\n",
    "        \n",
    "    def click_cookie(self):\n",
    "        self.big_cookie.click()\n",
    "        \n",
    "    def click_golden_cookie(self):\n",
    "        golden_cookies = driver.find_elements_by_xpath('//div[@class=\"shimmer\"]')\n",
    "        while len(golden_cookies)>0: # if there are products, and while we can afford products,\n",
    "            for golden_cookie in golden_cookies:\n",
    "                golden_cookie.click() # buy each one\n",
    "                self.golden_cookie_clicks+=1\n",
    "            golden_cookies = driver.find_elements_by_xpath('//div[@class=\"shimmer\"]')\n",
    "\n",
    "    def buy_upgrades(self):\n",
    "        upgrades = driver.find_elements_by_xpath('//div[@class=\"crate upgrade enabled\"]')\n",
    "        while len(upgrades)>0: # if there are products, and while we can afford products,\n",
    "            try: upgrades[-1].click() # buy each one, most expensive first\n",
    "            except: None\n",
    "            upgrades = driver.find_elements_by_xpath('//div[@class=\"crate upgrade enabled\"]')\n",
    "    \n",
    "    def buy_products(self):\n",
    "        ## update building info\n",
    "        self.get_building_info()\n",
    "        # while best is affordible, buy the best rps/price building\n",
    "        best_building_affordible = True\n",
    "        while best_building_affordible:\n",
    "            ## get unlocked products\n",
    "            products = (driver.find_elements_by_xpath('//div[@class=\"product unlocked enabled\"]') + \n",
    "                        driver.find_elements_by_xpath('//div[@class=\"product unlocked disabled\"]'))\n",
    "            # find max rps/price building\n",
    "            max_rps_pp,building_to_buy,product_to_buy = 0,[],[]\n",
    "            for i,building in enumerate(self.building_info):\n",
    "                # get rps/price for building\n",
    "                cur_rps_pp = self.building_info[building]['cps/price'] \n",
    "                # if it's the best so far, update max and building id\n",
    "                if cur_rps_pp > max_rps_pp:\n",
    "                    max_rps_pp,building_to_buy = cur_rps_pp,building\n",
    "                    product_to_buy = products[i] # store element to click\n",
    "            # update balance\n",
    "            self.log_balance_and_revenue()\n",
    "            # check if best building is affordible.\n",
    "            if self.building_info[building_to_buy]['price']<=self.balance:\n",
    "                # buy building_to_buy (click on this product)\n",
    "                product_to_buy.click()\n",
    "                # update building info (including rps per price rps_pp)\n",
    "                self.get_building_info()\n",
    "            else: best_building_affordible=False # if not affordible, break the loop        \n",
    "        \n",
    "        ## get unlocked, affordible products\n",
    "        #products = driver.find_elements_by_xpath('//div[@class=\"product unlocked enabled\"]')\n",
    "        ## get balance, get price of highest rps/price option\n",
    "        #\n",
    "        #while len(products)>0: # if there are products, and while we can afford products,\n",
    "        #    try: products[-1].click() # buy each one, most expensive first\n",
    "        #    except: None\n",
    "        #    products = driver.find_elements_by_xpath('//div[@class=\"product unlocked enabled\"]')\n",
    "            \n",
    "    def log_balance_and_revenue(self,epoch=None):\n",
    "        # log balance and revenue\n",
    "        tmp = driver.find_elements_by_xpath('//div[@id=\"cookies\"]')\n",
    "        tmp = tmp[0].text.replace(',','') # remove camas 1,000 -> 1000\n",
    "        tmp = re.findall(\"\\d+\",tmp) # extract balance and revenue\n",
    "        tmp = [int(i) for i in tmp] # convert str -> int\n",
    "        self.balance = tmp[0] # update current balance\n",
    "        if epoch: # epoch passed when this is called to log info, not just to update balance\n",
    "            self.bal_rev_epoch.append(epoch) # index for balance and revenue\n",
    "            self.log_balance.append(tmp[0]) # log balance\n",
    "            self.log_revenue.append(tmp[1]) # log revenue\n",
    "        \n",
    "    def get_building_info(self):\n",
    "        # get unlocked products\n",
    "        products_unlocked = (driver.find_elements_by_xpath('//div[@class=\"product unlocked enabled\"]') + \n",
    "                             driver.find_elements_by_xpath('//div[@class=\"product unlocked disabled\"]'))\n",
    "        # info for unlocked buildings\n",
    "        building_info = dict()\n",
    "        for i,building in enumerate(products_unlocked):\n",
    "            # get info from building button\n",
    "            tmp=building.text.replace(',','').split(sep=\"\\n\")\n",
    "            building_name,building_price,building_count = tmp if len(tmp)==3 else tmp+[0]\n",
    "            # initialize dict for building\n",
    "            building_info[building_name] = dict()\n",
    "            # fill in count and price\n",
    "            building_info[building_name]['count']=int(building_count)\n",
    "            building_info[building_name]['price']=int(building_price)\n",
    "            # get info from building tooltip\n",
    "            hover = ActionChains(driver).move_to_element(building)\n",
    "            hover.perform()\n",
    "            tooltip = driver.find_elements_by_xpath('//div[@id=\"tooltip\"]')\n",
    "            tmp=tooltip[0].text.replace(',','');\n",
    "            tmp_cps = re.findall(r\"[-+]?\\d*\\.\\d+ cookies per|\\d+ cookies per\",tmp)\n",
    "            #### default of inf below encourages purchasing any unowned buildings\n",
    "            building_cps = float(tmp_cps[0][:tmp_cps[0].find(' ')]) if tmp_cps else float('inf')\n",
    "            building_info[building_name]['cps']=building_cps\n",
    "            building_info[building_name]['cps/price']=building_cps/int(building_price)\n",
    "        self.building_info = building_info\n",
    "        \n",
    "    def building_info_logger(self,epoch):\n",
    "        if self.building_info: # if self.building_info exists\n",
    "            # modified from get_building_info to append.\n",
    "            log_keys = ['count','price','cps','cps/price']\n",
    "            # info for unlocked buildings\n",
    "            for building in self.building_info:\n",
    "                # initialize new buildings\n",
    "                if building not in self.log_build_info:\n",
    "                    self.log_build_info[building] = dict()\n",
    "                    for k in log_keys+['epoch']:\n",
    "                        self.log_build_info[building][k]=[]\n",
    "                # fill in count,price,cps, cps/price\n",
    "                for k in log_keys:\n",
    "                    self.log_build_info[building][k].append(self.building_info[building][k])\n",
    "                # log epoch, within each building since buildings become available at different times\n",
    "                self.log_build_info[building]['epoch'].append(epoch)\n",
    "\n"
   ]
  },
  {
   "cell_type": "code",
   "execution_count": 31,
   "metadata": {},
   "outputs": [],
   "source": [
    "# start driver\n",
    "driver = webdriver.Chrome('./chromedriver')"
   ]
  },
  {
   "cell_type": "code",
   "execution_count": 32,
   "metadata": {},
   "outputs": [],
   "source": [
    "# initialize agent\n",
    "agent = agent_class_max_rps_price_ratio(driver)"
   ]
  },
  {
   "cell_type": "code",
   "execution_count": 33,
   "metadata": {},
   "outputs": [],
   "source": [
    "#### turn off all default graphic settings!! "
   ]
  },
  {
   "cell_type": "code",
   "execution_count": 34,
   "metadata": {},
   "outputs": [],
   "source": [
    "# initialize click counter\n",
    "ci = 0"
   ]
  },
  {
   "cell_type": "code",
   "execution_count": 36,
   "metadata": {},
   "outputs": [
    {
     "name": "stdout",
     "output_type": "stream",
     "text": [
      "click: 22123 of 22123\n",
      "pct: 1.0\n",
      "Golden Clicks: 0\n",
      "Total Time: 867.7137961387634sec\n"
     ]
    }
   ],
   "source": [
    "# run algorithm for a specified number of cookie clicks\n",
    "clicks = 100000-ci\n",
    "t0=time.time()\n",
    "initial_ci = ci\n",
    "stop = ci+clicks # run for `clicks` additional clicks\n",
    "while ci<stop:\n",
    "    ci += 1 # increment click counter\n",
    "    agent.click_cookie()\n",
    "    #agent.click_golden_cookie()\n",
    "    if ci%200 == 0: # to speed pure clicking\n",
    "        #agent.buy_upgrades()\n",
    "        agent.buy_products()\n",
    "        # log data\n",
    "        agent.log_balance_and_revenue(epoch=ci)\n",
    "        agent.get_building_info()\n",
    "        agent.building_info_logger(epoch=ci)\n",
    "        # feedback\n",
    "        clear_output()\n",
    "        print('click: '+str(ci-initial_ci)+' of '+str(stop-initial_ci)+\n",
    "             '\\npct: '+str((ci-initial_ci)/(stop-initial_ci))+\n",
    "             '\\nGolden Clicks: '+str(agent.golden_cookie_clicks))\n",
    "    #time.sleep(.07) # to keep CPU usage sustainably low\n",
    "t1=time.time()\n",
    "print('Total Time: '+ str(t1-t0) +'sec')\n",
    "# alert that loop finished\n",
    "notify_tone(reps=3,sleep=.5)"
   ]
  },
  {
   "cell_type": "code",
   "execution_count": 37,
   "metadata": {},
   "outputs": [],
   "source": [
    "driver.close()"
   ]
  },
  {
   "cell_type": "code",
   "execution_count": 38,
   "metadata": {},
   "outputs": [],
   "source": [
    "# save the agent for later analysis:\n",
    "# # locally store this temporary agent as agent_naive\n",
    "agent_max_cps_per_price=agent\n",
    "# # can't pickle web object, so need to clear agent.big_cookie before saving\n",
    "agent_max_cps_per_price.big_cookie, tmp = [],agent_max_cps_per_price.big_cookie\n",
    "save_obj(agent_max_cps_per_price,\"agent_max_cps_per_price_no_golden_no_upgrade\")\n",
    "agent_max_cps_per_price.big_cookie = tmp"
   ]
  },
  {
   "cell_type": "code",
   "execution_count": 39,
   "metadata": {},
   "outputs": [],
   "source": [
    "# load the agent from the above save\n",
    "# was getting UTF-8 error, \n",
    "# changed to ... 'r',,encoding='utf-16') ...\n",
    "# this didn't help, but it worked when changed back to ...'rb')?\n",
    "\n",
    "agent = load_obj(\"agent_max_cps_per_price_no_golden_no_upgrade\")"
   ]
  },
  {
   "cell_type": "code",
   "execution_count": 40,
   "metadata": {},
   "outputs": [
    {
     "data": {
      "text/plain": [
       "[<matplotlib.lines.Line2D at 0x11f9b7358>]"
      ]
     },
     "execution_count": 40,
     "metadata": {},
     "output_type": "execute_result"
    },
    {
     "data": {
      "image/png": "[encoded data removed]",
      "text/plain": [
       "<matplotlib.figure.Figure at 0x11f903ef0>"
      ]
     },
     "metadata": {
      "needs_background": "light"
     },
     "output_type": "display_data"
    }
   ],
   "source": [
    "plt.plot(agent.bal_rev_epoch,agent.log_balance)"
   ]
  },
  {
   "cell_type": "code",
   "execution_count": 41,
   "metadata": {},
   "outputs": [
    {
     "data": {
      "text/plain": [
       "[<matplotlib.lines.Line2D at 0x11fbd27f0>]"
      ]
     },
     "execution_count": 41,
     "metadata": {},
     "output_type": "execute_result"
    },
    {
     "data": {
      "image/png": "[encoded data removed]",
      "text/plain": [
       "<matplotlib.figure.Figure at 0x11f8725f8>"
      ]
     },
     "metadata": {
      "needs_background": "light"
     },
     "output_type": "display_data"
    }
   ],
   "source": [
    "# outliers here can be due to golden cookies\n",
    "plt.plot(agent.bal_rev_epoch,agent.log_revenue)\n",
    "#plt.scatter(agent.bal_rev_epoch,agent.log_revenue)"
   ]
  },
  {
   "cell_type": "code",
   "execution_count": 42,
   "metadata": {},
   "outputs": [
    {
     "data": {
      "text/plain": [
       "<matplotlib.legend.Legend at 0x11fbdc390>"
      ]
     },
     "execution_count": 42,
     "metadata": {},
     "output_type": "execute_result"
    },
    {
     "data": {
      "image/png": "[encoded data removed]",
      "text/plain": [
       "<matplotlib.figure.Figure at 0x11fbdc240>"
      ]
     },
     "metadata": {
      "needs_background": "light"
     },
     "output_type": "display_data"
    }
   ],
   "source": [
    "for k in agent.log_build_info:\n",
    "    plt.plot(agent.log_build_info[k]['epoch'],agent.log_build_info[k]['cps'],label=k)\n",
    "plt.legend()"
   ]
  },
  {
   "cell_type": "code",
   "execution_count": 43,
   "metadata": {},
   "outputs": [
    {
     "data": {
      "text/plain": [
       "<matplotlib.legend.Legend at 0x11fbf26a0>"
      ]
     },
     "execution_count": 43,
     "metadata": {},
     "output_type": "execute_result"
    },
    {
     "data": {
      "image/png": "[encoded data removed]",
      "text/plain": [
       "<matplotlib.figure.Figure at 0x11f9036a0>"
      ]
     },
     "metadata": {
      "needs_background": "light"
     },
     "output_type": "display_data"
    }
   ],
   "source": [
    "for k in agent.log_build_info:\n",
    "    plt.plot(agent.log_build_info[k]['epoch'],agent.log_build_info[k]['price'],label=k)\n",
    "plt.legend()"
   ]
  },
  {
   "cell_type": "code",
   "execution_count": 44,
   "metadata": {},
   "outputs": [
    {
     "data": {
      "text/plain": [
       "<matplotlib.legend.Legend at 0x11fcfd198>"
      ]
     },
     "execution_count": 44,
     "metadata": {},
     "output_type": "execute_result"
    },
    {
     "data": {
      "image/png": "[encoded data removed]",
      "text/plain": [
       "<matplotlib.figure.Figure at 0x11fcfd8d0>"
      ]
     },
     "metadata": {
      "needs_background": "light"
     },
     "output_type": "display_data"
    }
   ],
   "source": [
    "for k in agent.log_build_info:\n",
    "    plt.plot(agent.log_build_info[k]['epoch'],agent.log_build_info[k]['cps/price'],label=k)\n",
    "plt.legend()"
   ]
  },
  {
   "cell_type": "code",
   "execution_count": 46,
   "metadata": {},
   "outputs": [
    {
     "data": {
      "text/plain": [
       "<matplotlib.legend.Legend at 0x11fece278>"
      ]
     },
     "execution_count": 46,
     "metadata": {},
     "output_type": "execute_result"
    },
    {
     "data": {
      "image/png": "[encoded data removed]",
      "text/plain": [
       "<matplotlib.figure.Figure at 0x11fecee80>"
      ]
     },
     "metadata": {
      "needs_background": "light"
     },
     "output_type": "display_data"
    }
   ],
   "source": [
    "for k in agent.log_build_info:\n",
    "    plt.plot(agent.log_build_info[k]['epoch'],agent.log_build_info[k]['count'],label=k)\n",
    "plt.legend()"
   ]
  },
  {
   "cell_type": "markdown",
   "metadata": {},
   "source": [
    "- The long flat lines are periods when the agent was waiting to save enough to buy an expensive item, or when they were spending a lot on upgrades."
   ]
  },
  {
   "cell_type": "markdown",
   "metadata": {},
   "source": [
    "# Cookie Clicker min wait time until max rps purchase\n",
    "\n",
    "\n",
    "- Queue purchases to minimuze wait time until buying the maximum rps option\n"
   ]
  },
  {
   "cell_type": "code",
   "execution_count": 66,
   "metadata": {},
   "outputs": [],
   "source": [
    "# Max RPS/price agent\n",
    "class agent_class_min_wait:\n",
    "\n",
    "    def __init__(self,driver):\n",
    "        # navigate to site\n",
    "        driver.get('https://orteil.dashnet.org/cookieclicker/')\n",
    "        self.big_cookie = driver.find_element_by_id('bigCookie')\n",
    "        self.golden_cookie_clicks = 0\n",
    "        # initialize balance and revenue logs\n",
    "        self.balance=0\n",
    "        self.revenue=0 # new for min_wait agent\n",
    "        self.log_balance=[0]\n",
    "        self.log_revenue=[0]\n",
    "        self.bal_rev_epoch=[0]\n",
    "        # initialize building info, and logs of building info\n",
    "        self.get_building_info()\n",
    "        self.log_build_info = dict()\n",
    "        self.building_info_logger(epoch=0)\n",
    "        \n",
    "    def click_cookie(self):\n",
    "        self.big_cookie.click()\n",
    "        \n",
    "    def click_golden_cookie(self):\n",
    "        golden_cookies = driver.find_elements_by_xpath('//div[@class=\"shimmer\"]')\n",
    "        while len(golden_cookies)>0: # if there are products, and while we can afford products,\n",
    "            for golden_cookie in golden_cookies:\n",
    "                golden_cookie.click() # buy each one\n",
    "                self.golden_cookie_clicks+=1\n",
    "            golden_cookies = driver.find_elements_by_xpath('//div[@class=\"shimmer\"]')\n",
    "\n",
    "    def buy_upgrades(self):\n",
    "        upgrades = driver.find_elements_by_xpath('//div[@class=\"crate upgrade enabled\"]')\n",
    "        while len(upgrades)>0: # if there are products, and while we can afford products,\n",
    "            try: upgrades[-1].click() # buy each one, most expensive first\n",
    "            except: None\n",
    "            upgrades = driver.find_elements_by_xpath('//div[@class=\"crate upgrade enabled\"]')\n",
    "    \n",
    "    def buy_products(self):\n",
    "        ## update building info\n",
    "        self.get_building_info()\n",
    "        # while best building affordible, buy it and look for next best building\n",
    "        best_building_affordible = True\n",
    "        while best_building_affordible:\n",
    "            ## get unlocked products\n",
    "            products = (driver.find_elements_by_xpath('//div[@class=\"product unlocked enabled\"]') + \n",
    "                        driver.find_elements_by_xpath('//div[@class=\"product unlocked disabled\"]'))\n",
    "            # find building with max revenue per second and it's cost\n",
    "            max_rps,cost_max_rps = 0, float('inf')\n",
    "            building_to_buy,product_to_buy = [], []\n",
    "            for i,building in enumerate(self.building_info):\n",
    "                # get rps for building\n",
    "                cur_rps = self.building_info[building]['cps'] \n",
    "                # if it's the best rps far, update max, cost, and building id\n",
    "                if cur_rps > max_rps:\n",
    "                    max_rps,building_to_buy = cur_rps,building\n",
    "                    cost_max_rps = self.building_info[building]['price'] \n",
    "                    product_to_buy = products[i] # queue this building to buy\n",
    "\n",
    "            # update revenue for computations below\n",
    "            self.log_balance_and_revenue()\n",
    "            # check if any other purchase would reduce wait time to buying max_rps product\n",
    "            wait_max = float(cost_max_rps) / self.revenue if self.revenue else 0 # stops division by 0\n",
    "            for i,building in enumerate(self.building_info):\n",
    "                cost_cur = self.building_info[building]['price']\n",
    "                rps_cur  = self.revenue + self.building_info[building]['cps']\n",
    "                # conditional to stop division by 0\n",
    "                wait_till_cur = float(cost_cur) / self.revenue if self.revenue else 0\n",
    "                wait_cur = (wait_till_cur + \n",
    "                             cost_max_rps / rps_cur)\n",
    "                if wait_cur <= wait_max: \n",
    "                    wait_max = wait_cur # update minimum wait\n",
    "                    building_to_buy = building\n",
    "                    product_to_buy = products[i] # queue this building to buy instead\n",
    "            # update balance for checking if building affordible\n",
    "            self.log_balance_and_revenue()\n",
    "            # buy either max_rps product, or the building that would reduce wait time\n",
    "            # check if best building is affordible\n",
    "            if self.building_info[building_to_buy]['price']<=self.balance:\n",
    "                # buy building_to_buy (click on this product)\n",
    "                product_to_buy.click()\n",
    "                # update building info (including rps per price rps_pp)\n",
    "                self.get_building_info()\n",
    "            else: best_building_affordible=False # if not affordible, break purchase loop     \n",
    "        \n",
    "            \n",
    "    def log_balance_and_revenue(self,epoch=None):\n",
    "        # log balance and revenue\n",
    "        tmp = driver.find_elements_by_xpath('//div[@id=\"cookies\"]')\n",
    "        tmp = tmp[0].text.replace(',','') # remove camas 1,000 -> 1000\n",
    "        tmp = re.findall(\"\\d+\",tmp) # extract balance and revenue\n",
    "        tmp = [int(i) for i in tmp] # convert str -> int\n",
    "        self.balance = tmp[0] # update current balance\n",
    "        self.revenue = tmp[1] # new for min_wait agent\n",
    "        if epoch: # epoch passed when this is called to log info, not just to update balance\n",
    "            self.bal_rev_epoch.append(epoch) # index for balance and revenue\n",
    "            self.log_balance.append(tmp[0]) # log balance\n",
    "            self.log_revenue.append(tmp[1]) # log revenue\n",
    "        \n",
    "    def get_building_info(self):\n",
    "        # get unlocked products\n",
    "        products_unlocked = (driver.find_elements_by_xpath('//div[@class=\"product unlocked enabled\"]') + \n",
    "                             driver.find_elements_by_xpath('//div[@class=\"product unlocked disabled\"]'))\n",
    "        # info for unlocked buildings\n",
    "        building_info = dict()\n",
    "        for i,building in enumerate(products_unlocked):\n",
    "            # get info from building button\n",
    "            tmp=building.text.replace(',','').split(sep=\"\\n\")\n",
    "            building_name,building_price,building_count = tmp if len(tmp)==3 else tmp+[0]\n",
    "            # initialize dict for building\n",
    "            building_info[building_name] = dict()\n",
    "            # fill in count and price\n",
    "            building_info[building_name]['count']=int(building_count)\n",
    "            building_info[building_name]['price']=int(building_price)\n",
    "            # get info from building tooltip\n",
    "            hover = ActionChains(driver).move_to_element(building)\n",
    "            hover.perform()\n",
    "            tooltip = driver.find_elements_by_xpath('//div[@id=\"tooltip\"]')\n",
    "            tmp=tooltip[0].text.replace(',','');\n",
    "            tmp_cps = re.findall(r\"[-+]?\\d*\\.\\d+ cookies per|\\d+ cookies per\",tmp)\n",
    "            #### default of inf below encourages purchasing unlocked, unowned buildings\n",
    "            building_cps = float(tmp_cps[0][:tmp_cps[0].find(' ')]) if tmp_cps else float('inf')\n",
    "            building_info[building_name]['cps']=building_cps\n",
    "            building_info[building_name]['cps/price']=building_cps/int(building_price)\n",
    "        self.building_info = building_info\n",
    "        \n",
    "    def building_info_logger(self,epoch):\n",
    "        if self.building_info: # if self.building_info exists\n",
    "            # modified from get_building_info to append.\n",
    "            log_keys = ['count','price','cps','cps/price']\n",
    "            # info for unlocked buildings\n",
    "            for building in self.building_info:\n",
    "                # initialize new buildings\n",
    "                if building not in self.log_build_info:\n",
    "                    self.log_build_info[building] = dict()\n",
    "                    for k in log_keys+['epoch']:\n",
    "                        self.log_build_info[building][k]=[]\n",
    "                # fill in count,price,cps, cps/price\n",
    "                for k in log_keys:\n",
    "                    self.log_build_info[building][k].append(self.building_info[building][k])\n",
    "                # log epoch, within each building since buildings become available at different times\n",
    "                self.log_build_info[building]['epoch'].append(epoch)\n",
    "\n"
   ]
  },
  {
   "cell_type": "code",
   "execution_count": 67,
   "metadata": {},
   "outputs": [],
   "source": [
    "# start driver\n",
    "driver = webdriver.Chrome('./chromedriver')"
   ]
  },
  {
   "cell_type": "code",
   "execution_count": 68,
   "metadata": {},
   "outputs": [],
   "source": [
    "# initialize agent\n",
    "agent = agent_class_min_wait(driver)"
   ]
  },
  {
   "cell_type": "code",
   "execution_count": 69,
   "metadata": {},
   "outputs": [],
   "source": [
    "#### turn off all default graphic settings!! "
   ]
  },
  {
   "cell_type": "code",
   "execution_count": 70,
   "metadata": {},
   "outputs": [],
   "source": [
    "# initialize click counter\n",
    "ci = 0"
   ]
  },
  {
   "cell_type": "code",
   "execution_count": 72,
   "metadata": {},
   "outputs": [
    {
     "name": "stdout",
     "output_type": "stream",
     "text": [
      "click: 73000 of 73000\n",
      "pct: 1.0\n",
      "Golden Clicks: 0\n",
      "Total Time: 2927.8611788749695sec\n"
     ]
    }
   ],
   "source": [
    "# run algorithm for a specified number of cookie clicks\n",
    "clicks = 100000-ci\n",
    "t0=time.time()\n",
    "initial_ci = ci\n",
    "stop = ci+clicks # run for `clicks` additional clicks\n",
    "while ci<stop:\n",
    "    ci += 1 # increment click counter\n",
    "    agent.click_cookie()\n",
    "    #agent.click_golden_cookie()\n",
    "    if ci%200 == 0: # to speed pure clicking\n",
    "        #agent.buy_upgrades()\n",
    "        agent.buy_products()\n",
    "        # log data\n",
    "        agent.log_balance_and_revenue(epoch=ci)\n",
    "        agent.get_building_info()\n",
    "        agent.building_info_logger(epoch=ci)\n",
    "        # feedback\n",
    "        clear_output()\n",
    "        print('click: '+str(ci-initial_ci)+' of '+str(stop-initial_ci)+\n",
    "             '\\npct: '+str((ci-initial_ci)/(stop-initial_ci))+\n",
    "             '\\nGolden Clicks: '+str(agent.golden_cookie_clicks))\n",
    "    #time.sleep(.07) # to keep CPU usage sustainably low\n",
    "t1=time.time()\n",
    "print('Total Time: '+ str(t1-t0) +'sec')\n",
    "# alert that loop finished\n",
    "notify_tone(reps=3,sleep=.5)"
   ]
  },
  {
   "cell_type": "code",
   "execution_count": 73,
   "metadata": {},
   "outputs": [],
   "source": [
    "driver.close()"
   ]
  },
  {
   "cell_type": "code",
   "execution_count": 74,
   "metadata": {},
   "outputs": [],
   "source": [
    "# save the agent for later analysis:\n",
    "# # locally store this temporary agent as agent_naive\n",
    "agent_max_cps_per_price=agent\n",
    "# # can't pickle web object, so need to clear agent.big_cookie before saving\n",
    "agent_max_cps_per_price.big_cookie, tmp = [],agent_max_cps_per_price.big_cookie\n",
    "save_obj(agent_max_cps_per_price,\"agent_min_wait_no_golden_no_upgrade\")\n",
    "agent_max_cps_per_price.big_cookie = tmp"
   ]
  },
  {
   "cell_type": "code",
   "execution_count": 75,
   "metadata": {},
   "outputs": [],
   "source": [
    "# load the agent from the above save\n",
    "# was getting UTF-8 error, \n",
    "# changed to ... 'r',,encoding='utf-16') ...\n",
    "# this didn't help, but it worked when changed back to ...'rb')?\n",
    "\n",
    "agent = load_obj(\"agent_min_wait_no_golden_no_upgrade\")"
   ]
  },
  {
   "cell_type": "code",
   "execution_count": 76,
   "metadata": {},
   "outputs": [
    {
     "data": {
      "text/plain": [
       "[<matplotlib.lines.Line2D at 0x12048b2b0>]"
      ]
     },
     "execution_count": 76,
     "metadata": {},
     "output_type": "execute_result"
    },
    {
     "data": {
      "image/png": "[encoded data removed]",
      "text/plain": [
       "<matplotlib.figure.Figure at 0x1203ad748>"
      ]
     },
     "metadata": {
      "needs_background": "light"
     },
     "output_type": "display_data"
    }
   ],
   "source": [
    "plt.plot(agent.bal_rev_epoch,agent.log_balance)"
   ]
  },
  {
   "cell_type": "code",
   "execution_count": 77,
   "metadata": {},
   "outputs": [
    {
     "data": {
      "text/plain": [
       "[<matplotlib.lines.Line2D at 0x120533f98>]"
      ]
     },
     "execution_count": 77,
     "metadata": {},
     "output_type": "execute_result"
    },
    {
     "data": {
      "image/png": "[encoded data removed]",
      "text/plain": [
       "<matplotlib.figure.Figure at 0x1203a5518>"
      ]
     },
     "metadata": {
      "needs_background": "light"
     },
     "output_type": "display_data"
    }
   ],
   "source": [
    "# outliers here can be due to golden cookies\n",
    "plt.plot(agent.bal_rev_epoch,agent.log_revenue)\n",
    "#plt.scatter(agent.bal_rev_epoch,agent.log_revenue)"
   ]
  },
  {
   "cell_type": "code",
   "execution_count": 78,
   "metadata": {},
   "outputs": [
    {
     "data": {
      "text/plain": [
       "<matplotlib.legend.Legend at 0x1204779b0>"
      ]
     },
     "execution_count": 78,
     "metadata": {},
     "output_type": "execute_result"
    },
    {
     "data": {
      "image/png": "[encoded data removed]",
      "text/plain": [
       "<matplotlib.figure.Figure at 0x120477518>"
      ]
     },
     "metadata": {
      "needs_background": "light"
     },
     "output_type": "display_data"
    }
   ],
   "source": [
    "for k in agent.log_build_info:\n",
    "    plt.plot(agent.log_build_info[k]['epoch'],agent.log_build_info[k]['cps'],label=k)\n",
    "plt.legend()"
   ]
  },
  {
   "cell_type": "code",
   "execution_count": 79,
   "metadata": {},
   "outputs": [
    {
     "data": {
      "text/plain": [
       "<matplotlib.legend.Legend at 0x12056d4a8>"
      ]
     },
     "execution_count": 79,
     "metadata": {},
     "output_type": "execute_result"
    },
    {
     "data": {
      "image/png": "[encoded data removed]",
      "text/plain": [
       "<matplotlib.figure.Figure at 0x12056d160>"
      ]
     },
     "metadata": {
      "needs_background": "light"
     },
     "output_type": "display_data"
    }
   ],
   "source": [
    "for k in agent.log_build_info:\n",
    "    plt.plot(agent.log_build_info[k]['epoch'],agent.log_build_info[k]['price'],label=k)\n",
    "plt.legend()"
   ]
  },
  {
   "cell_type": "code",
   "execution_count": 80,
   "metadata": {},
   "outputs": [
    {
     "data": {
      "text/plain": [
       "<matplotlib.legend.Legend at 0x1204b70b8>"
      ]
     },
     "execution_count": 80,
     "metadata": {},
     "output_type": "execute_result"
    },
    {
     "data": {
      "image/png": "[encoded data removed]",
      "text/plain": [
       "<matplotlib.figure.Figure at 0x120578a90>"
      ]
     },
     "metadata": {
      "needs_background": "light"
     },
     "output_type": "display_data"
    }
   ],
   "source": [
    "for k in agent.log_build_info:\n",
    "    plt.plot(agent.log_build_info[k]['epoch'],agent.log_build_info[k]['cps/price'],label=k)\n",
    "plt.legend()"
   ]
  },
  {
   "cell_type": "code",
   "execution_count": 81,
   "metadata": {
    "scrolled": true
   },
   "outputs": [
    {
     "data": {
      "text/plain": [
       "<matplotlib.legend.Legend at 0x12075f3c8>"
      ]
     },
     "execution_count": 81,
     "metadata": {},
     "output_type": "execute_result"
    },
    {
     "data": {
      "image/png": "[encoded data removed]",
      "text/plain": [
       "<matplotlib.figure.Figure at 0x12075f160>"
      ]
     },
     "metadata": {
      "needs_background": "light"
     },
     "output_type": "display_data"
    }
   ],
   "source": [
    "for k in agent.log_build_info:\n",
    "    plt.plot(agent.log_build_info[k]['epoch'],agent.log_build_info[k]['count'],label=k)\n",
    "plt.legend()"
   ]
  },
  {
   "cell_type": "markdown",
   "metadata": {},
   "source": [
    "# Comparisons"
   ]
  },
  {
   "cell_type": "code",
   "execution_count": 90,
   "metadata": {},
   "outputs": [],
   "source": [
    "agent_naive    = load_obj(\"agent_naive_no_golden_no_upgrade\")\n",
    "agent_max_cps  = load_obj(\"agent_max_cps_per_price_no_golden_no_upgrade\")\n",
    "agent_min_wait = load_obj(\"agent_min_wait_no_golden_no_upgrade\")\n",
    "\n",
    "# for looping\n",
    "agents = {\n",
    "    \"Naive\":agent_naive,\n",
    "    \"MaxCps\":agent_max_cps,\n",
    "    \"MinWait\":agent_min_wait\n",
    "}"
   ]
  },
  {
   "cell_type": "code",
   "execution_count": 111,
   "metadata": {},
   "outputs": [
    {
     "data": {
      "text/plain": [
       "<matplotlib.legend.Legend at 0x120c02080>"
      ]
     },
     "execution_count": 111,
     "metadata": {},
     "output_type": "execute_result"
    },
    {
     "data": {
      "image/png": "[encoded data removed]",
      "text/plain": [
       "<matplotlib.figure.Figure at 0x120ba6860>"
      ]
     },
     "metadata": {
      "needs_background": "light"
     },
     "output_type": "display_data"
    }
   ],
   "source": [
    "plt.figure(figsize=(10,5))\n",
    "plt.grid()\n",
    "plt.plot(agent_naive.log_bal_rev_epoch,agent_naive.log_revenue,label='Naive')\n",
    "for a in agents:\n",
    "    if a != \"Naive\": # Naive had a different name for this var...\n",
    "        plt.plot(agents[a].bal_rev_epoch,agents[a].log_revenue,label=a)\n",
    "plt.xlabel(\"Click number\")\n",
    "plt.ylabel(\"Revenue\")\n",
    "plt.legend()"
   ]
  },
  {
   "cell_type": "code",
   "execution_count": 108,
   "metadata": {},
   "outputs": [
    {
     "data": {
      "text/plain": [
       "Text(0.5,0,'Click number')"
      ]
     },
     "execution_count": 108,
     "metadata": {},
     "output_type": "execute_result"
    },
    {
     "data": {
      "image/png": "[encoded data removed]",
      "text/plain": [
       "<matplotlib.figure.Figure at 0x12193f550>"
      ]
     },
     "metadata": {
      "needs_background": "light"
     },
     "output_type": "display_data"
    },
    {
     "data": {
      "image/png": "[encoded data removed]",
      "text/plain": [
       "<matplotlib.figure.Figure at 0x11f9bb5c0>"
      ]
     },
     "metadata": {
      "needs_background": "light"
     },
     "output_type": "display_data"
    },
    {
     "data": {
      "image/png": "[encoded data removed]",
      "text/plain": [
       "<matplotlib.figure.Figure at 0x1225fd780>"
      ]
     },
     "metadata": {
      "needs_background": "light"
     },
     "output_type": "display_data"
    }
   ],
   "source": [
    "for a in agents:\n",
    "    plt.figure(figsize=(10,5))\n",
    "    plt.grid()\n",
    "    for k in agents[a].log_build_info:\n",
    "        plt.plot(agents[a].log_build_info[k]['epoch'],agents[a].log_build_info[k]['count'],label=k)\n",
    "        plt.ylabel(\"Building Count\")\n",
    "    plt.legend()\n",
    "plt.xlabel(\"Click number\")"
   ]
  },
  {
   "cell_type": "markdown",
   "metadata": {},
   "source": [
    "# Cheating with HTML\n",
    "\n",
    "\n",
    "Things from the link Emily sent me...\n",
    "\n"
   ]
  },
  {
   "cell_type": "code",
   "execution_count": null,
   "metadata": {},
   "outputs": [],
   "source": []
  },
  {
   "cell_type": "code",
   "execution_count": null,
   "metadata": {},
   "outputs": [],
   "source": []
  },
  {
   "cell_type": "code",
   "execution_count": null,
   "metadata": {},
   "outputs": [],
   "source": []
  },
  {
   "cell_type": "code",
   "execution_count": null,
   "metadata": {},
   "outputs": [],
   "source": []
  },
  {
   "cell_type": "code",
   "execution_count": null,
   "metadata": {},
   "outputs": [],
   "source": []
  },
  {
   "cell_type": "code",
   "execution_count": null,
   "metadata": {},
   "outputs": [],
   "source": []
  },
  {
   "cell_type": "code",
   "execution_count": null,
   "metadata": {},
   "outputs": [],
   "source": []
  },
  {
   "cell_type": "code",
   "execution_count": null,
   "metadata": {},
   "outputs": [],
   "source": []
  },
  {
   "cell_type": "code",
   "execution_count": null,
   "metadata": {},
   "outputs": [],
   "source": []
  }
 ],
 "metadata": {
  "kernelspec": {
   "display_name": "Python 3",
   "language": "python",
   "name": "python3"
  },
  "language_info": {
   "codemirror_mode": {
    "name": "ipython",
    "version": 3
   },
   "file_extension": ".py",
   "mimetype": "text/x-python",
   "name": "python",
   "nbconvert_exporter": "python",
   "pygments_lexer": "ipython3",
   "version": "3.6.8"
  }
 },
 "nbformat": 4,
 "nbformat_minor": 2
}
