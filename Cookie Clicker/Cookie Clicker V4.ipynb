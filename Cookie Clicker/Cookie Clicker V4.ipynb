{
 "cells": [
  {
   "cell_type": "markdown",
   "metadata": {},
   "source": [
    "# Version Notes\n",
    "\n",
    "- V4 fixes a bug in the way cps was scraped from text\n",
    "- V3 includes only code to run and assess the agents\n",
    "- V2 includes code to test components of the agents\n",
    "\n",
    "# Overview\n",
    "    \n",
    "    \n",
    "- Write post and tag https://twitter.com/Orteil42 and the cookie clicker twitter in final post\n",
    "\n",
    "## Setup\n",
    "\n",
    "[chrome driver](http://chromedriver.chromium.org/downloads)\n",
    "\n",
    "`selenium` library...\n",
    "\n",
    "\n",
    "\n",
    "\n",
    "\n",
    "\n",
    "\n"
   ]
  },
  {
   "cell_type": "code",
   "execution_count": 1,
   "metadata": {},
   "outputs": [],
   "source": [
    "# general web wrangling\n",
    "import selenium  # another approach\n",
    "from selenium import webdriver\n",
    "# for mousing over an element\n",
    "from selenium.webdriver.common.action_chains import ActionChains\n",
    "\n",
    "# for text processing\n",
    "import re\n",
    "\n",
    "# for plotting \n",
    "import matplotlib.pyplot as plt\n",
    "\n",
    "# for clearing feedback\n",
    "from IPython.display import clear_output\n",
    "\n",
    "# for saving and loading data including dicts\n",
    "import pickle\n",
    "def save_obj(obj, name):\n",
    "    with open(name + '.pkl', 'wb') as f:\n",
    "        pickle.dump(obj, f, pickle.HIGHEST_PROTOCOL)\n",
    "\n",
    "def load_obj(name):\n",
    "    with open(name + '.pkl', 'rb') as f:\n",
    "        return pickle.load(f)\n",
    "def load_obj(name):\n",
    "    with open(name + '.pkl', 'rb') as f:\n",
    "        return pickle.load(f)\n",
    "\n",
    "# for notification tones; \n",
    "import pyaudio\n",
    "import numpy as np\n",
    "import time\n",
    "# for audio notifications when action required\n",
    "def notify_tone(reps=1,sleep=.25,volume=1,fs=44100,duration=.5,f=600):\n",
    "    p = pyaudio.PyAudio()\n",
    "    # generate samples, note conversion to float32 array\n",
    "    samples = (np.sin(2*np.pi*np.arange(fs*duration)*f/fs)).astype(np.float32)\n",
    "    # for paFloat32 sample values must be in range [-1.0, 1.0]\n",
    "    stream = p.open(format=pyaudio.paFloat32,\n",
    "                    channels=1,\n",
    "                    rate=fs,\n",
    "                    output=True)\n",
    "    # play. May repeat with different volume values (if done interactively) \n",
    "    for i in range(reps): stream.write(volume*samples); time.sleep(sleep)\n",
    "    stream.stop_stream()\n",
    "    stream.close()\n",
    "    p.terminate()"
   ]
  },
  {
   "cell_type": "markdown",
   "metadata": {},
   "source": [
    "# Cookie Clicker Naive Agent\n",
    "\n",
    "This clicker checks items after a specified number of clicks, and buys all affordible items, starting the the most recently unlocked buildings."
   ]
  },
  {
   "cell_type": "code",
   "execution_count": 2,
   "metadata": {},
   "outputs": [],
   "source": [
    "# Naive agent\n",
    "class agent_class_naive:\n",
    "    def __init__(self,driver):\n",
    "        # navigate to site\n",
    "        driver.get('https://orteil.dashnet.org/cookieclicker/')\n",
    "        time.sleep(10) # time for page to load\n",
    "        self.big_cookie = driver.find_element_by_id('bigCookie')\n",
    "        self.golden_cookie_clicks = 0\n",
    "        # initialize balance and revenue variables\n",
    "        self.balance=0\n",
    "        self.revenue=0 \n",
    "        # initialize balance and revenue logs\n",
    "        self.log_balance=[0]\n",
    "        self.log_revenue=[0]\n",
    "        self.log_bal_rev_epoch=[0]\n",
    "        # initialize building info, and logs of building info\n",
    "        self.get_building_info()\n",
    "        self.log_build_info = dict()\n",
    "        self.building_info_logger(epoch=0)\n",
    "        \n",
    "        # CHANGE GRAPHICS AND OTHER SETTINGS\n",
    "        # click 'options' tab\n",
    "        driver.find_element_by_id(\"prefsButton\").click()\n",
    "        time.sleep(1) # let page load\n",
    "        # disable text instead of numbers, e.g. 'million' -> '000,000'\n",
    "        driver.find_element_by_id(\"numbersButton\").click()\n",
    "        # slide volume to around 25%\n",
    "        time.sleep(.5) # so actions don't happen too fast\n",
    "        volume = driver.find_element_by_class_name(\"slider\")\n",
    "        move = ActionChains(driver)\n",
    "        move.click_and_hold(volume).move_by_offset(-50, 0).release().perform()\n",
    "        # change graphics for optimal performance\n",
    "        buttons = (\"fancyButton\",\"particlesButton\",\"cursorsButton\",\n",
    "                  \"milkButton\",\"wobblyButton\",\"cookiesoundButton\",\n",
    "                  \"formatButton\",\"extraButtonsButton\",\"customGrandmasButton\")\n",
    "        for button in buttons:\n",
    "            time.sleep(.5) # so actions don't happen too fast to execute\n",
    "            driver.find_element_by_id(button).click()\n",
    "        \n",
    "    def click_cookie(self):\n",
    "        self.big_cookie.click()\n",
    "        \n",
    "    def click_golden_cookie(self):\n",
    "        golden_cookies = driver.find_elements_by_xpath('//div[@class=\"shimmer\"]')\n",
    "        while len(golden_cookies)>0: # if there are products, and while we can afford products,\n",
    "            for golden_cookie in golden_cookies:\n",
    "                golden_cookie.click() # buy each one\n",
    "                self.golden_cookie_clicks+=1\n",
    "            golden_cookies = driver.find_elements_by_xpath('//div[@class=\"shimmer\"]')\n",
    "    \n",
    "    def buy_upgrades(self):\n",
    "        upgrades = driver.find_elements_by_xpath('//div[@class=\"crate upgrade enabled\"]')\n",
    "        while len(upgrades)>0: # if there are products, and while we can afford products,\n",
    "            try: upgrades[-1].click() # buy each one, most expensive first\n",
    "            except: None\n",
    "            upgrades = driver.find_elements_by_xpath('//div[@class=\"crate upgrade enabled\"]')\n",
    "    \n",
    "    def buy_products(self):\n",
    "        products = driver.find_elements_by_xpath('//div[@class=\"product unlocked enabled\"]')\n",
    "        while products: # if there are affordible products, buy them\n",
    "            products[-1].click()\n",
    "            products = driver.find_elements_by_xpath('//div[@class=\"product unlocked enabled\"]')\n",
    "        #while len(products)>0: # if there are products, and while we can afford products,\n",
    "        #    try: products[-1].click() # buy each one, most expensive first\n",
    "        #    except: None\n",
    "        #    products = driver.find_elements_by_xpath('//div[@class=\"product unlocked enabled\"]')\n",
    "            \n",
    "    def log_balance_and_revenue(self,epoch=None):\n",
    "        # log balance and revenue\n",
    "        tmp = driver.find_elements_by_xpath('//div[@id=\"cookies\"]')\n",
    "        tmp = tmp[0].text.replace(',','') # remove camas 1,000 -> 1000\n",
    "        tmp = re.findall(\"\\d+\",tmp) # extract balance and revenue\n",
    "        tmp = [int(i) for i in tmp] # convert str -> int\n",
    "        self.balance = tmp[0] # update current balance\n",
    "        self.revenue = tmp[1] # new for min_wait agent\n",
    "        if epoch: # epoch passed when this is called to log info, not just to update balance\n",
    "            self.log_bal_rev_epoch.append(epoch) # index for balance and revenue\n",
    "            self.log_balance.append(tmp[0]) # log balance\n",
    "            self.log_revenue.append(tmp[1]) # log revenue\n",
    "\n",
    "    def get_building_info(self):\n",
    "        # get unlocked products\n",
    "        products_unlocked = (driver.find_elements_by_xpath('//div[@class=\"product unlocked enabled\"]') + \n",
    "                             driver.find_elements_by_xpath('//div[@class=\"product unlocked disabled\"]'))\n",
    "        # info for unlocked buildings\n",
    "        building_info = dict()\n",
    "        for i,building in enumerate(products_unlocked):\n",
    "            # get info from building button\n",
    "            tmp=building.text.replace(',','').split(sep=\"\\n\")\n",
    "            building_name,building_price,building_count = tmp if len(tmp)==3 else tmp+[0]\n",
    "            # initialize dict for building\n",
    "            building_info[building_name] = dict()\n",
    "            # fill in count and price\n",
    "            building_info[building_name]['count']=int(building_count)\n",
    "            building_info[building_name]['price']=int(building_price)\n",
    "            # get info from building tooltip\n",
    "            hover = ActionChains(driver).move_to_element(building)\n",
    "            hover.perform()\n",
    "            tooltip = driver.find_elements_by_xpath('//div[@id=\"tooltip\"]')\n",
    "            tmp=tooltip[0].text.replace(',','');\n",
    "            # tmp_cps = re.findall(r\"[-+]?\\d*\\.\\d+ cookies per|\\d+ cookies per\",tmp)\n",
    "            # ^ fails for grandmas because of their text\n",
    "            tmp_cps  = re.findall(r\"produces [-+]?\\d*\\.\\d+|produces \\d+\",tmp);\n",
    "            # > 'produces X'\n",
    "            if tmp_cps: # if building has been purchased\n",
    "                tmp_cps_2=float(re.findall(r\"[-+]?\\d*\\.\\d+|\\d+\",tmp_cps[0])[0])\n",
    "                building_cps = tmp_cps_2\n",
    "            else: # if building hasn't been purchased, store cps as infinity\n",
    "                building_cps = float('inf')\n",
    "            # > X\n",
    "            #### default of inf below encourages purchasing unlocked, unowned buildings\n",
    "            #building_cps = float(tmp_cps[0][:tmp_cps[0].find(' ')]) if tmp_cps else float('inf')\n",
    "            building_info[building_name]['cps']=building_cps\n",
    "            building_info[building_name]['cps/price']=building_cps/int(building_price)\n",
    "        self.building_info = building_info\n",
    "        \n",
    "    def building_info_logger(self,epoch):\n",
    "        if self.building_info: # if self.building_info exists\n",
    "            # modified from get_building_info to append.\n",
    "            log_keys = ['count','price','cps','cps/price']\n",
    "            # info for unlocked buildings\n",
    "            for building in self.building_info:\n",
    "                # initialize new buildings\n",
    "                if building not in self.log_build_info:\n",
    "                    self.log_build_info[building] = dict()\n",
    "                    for k in log_keys+['epoch']:\n",
    "                        self.log_build_info[building][k]=[]\n",
    "                # fill in count,price,cps, cps/price\n",
    "                for k in log_keys:\n",
    "                    self.log_build_info[building][k].append(self.building_info[building][k])\n",
    "                # log epoch, within each building since buildings become available at different times\n",
    "                self.log_build_info[building]['epoch'].append(epoch)\n"
   ]
  },
  {
   "cell_type": "code",
   "execution_count": 3,
   "metadata": {},
   "outputs": [],
   "source": [
    "# start driver\n",
    "driver = webdriver.Chrome('./chromedriver')"
   ]
  },
  {
   "cell_type": "code",
   "execution_count": 4,
   "metadata": {},
   "outputs": [],
   "source": [
    "# initialize agent\n",
    "agent = agent_class_naive(driver)"
   ]
  },
  {
   "cell_type": "code",
   "execution_count": null,
   "metadata": {},
   "outputs": [],
   "source": [
    "#### turn off all default graphic settings!! "
   ]
  },
  {
   "cell_type": "code",
   "execution_count": null,
   "metadata": {},
   "outputs": [],
   "source": [
    "# initialize click counter\n",
    "ci = 0"
   ]
  },
  {
   "cell_type": "code",
   "execution_count": null,
   "metadata": {},
   "outputs": [],
   "source": [
    "# run algorithm for a specified number of cookie clicks\n",
    "clicks = 100000\n",
    "t0=time.time()\n",
    "initial_ci = ci\n",
    "stop = ci+clicks # run for `clicks` additional clicks\n",
    "while ci<stop:\n",
    "    ci += 1 # increment click counter\n",
    "    agent.click_cookie()\n",
    "    #agent.click_golden_cookie()\n",
    "    if ci%200 == 0: # to speed pure clicking\n",
    "        #agent.buy_upgrades()\n",
    "        agent.buy_products()\n",
    "        # log data\n",
    "        agent.log_balance_and_revenue(ci)\n",
    "        agent.get_building_info()\n",
    "        agent.building_info_logger(epoch=ci)\n",
    "        # feedback\n",
    "        clear_output()\n",
    "        print('click: '+str(ci-initial_ci)+' of '+str(stop-initial_ci)+\n",
    "             '\\npct: '+str((ci-initial_ci)/(stop-initial_ci))+\n",
    "             '\\nGolden Clicks: '+str(agent.golden_cookie_clicks))\n",
    "    #time.sleep(.07) # to keep CPU usage sustainably low\n",
    "t1=time.time()\n",
    "print('Total Time: '+ str(t1-t0) +'sec')\n",
    "# alert that loop finished\n",
    "notify_tone(reps=3,sleep=.5)"
   ]
  },
  {
   "cell_type": "code",
   "execution_count": null,
   "metadata": {},
   "outputs": [],
   "source": [
    "driver.close()"
   ]
  },
  {
   "cell_type": "code",
   "execution_count": null,
   "metadata": {},
   "outputs": [],
   "source": [
    "# save the agent for later analysis:\n",
    "# locally store this temporary agent as agent_naive\n",
    "agent_naive=agent\n",
    "# can't pickle web object, so need to clear agent.big_cookie before saving\n",
    "agent_naive.big_cookie, tmp = [],agent_naive.big_cookie\n",
    "save_obj(agent_naive,\"agent_naive_no_golden_no_upgrade\")\n",
    "agent_naive.big_cookie = tmp"
   ]
  },
  {
   "cell_type": "code",
   "execution_count": null,
   "metadata": {},
   "outputs": [],
   "source": [
    "# load the agent from the above save\n",
    "# was getting UTF-8 error, \n",
    "# changed to ... 'r',,encoding='utf-16') ...\n",
    "# this didn't help, but it worked when changed back to ...'rb')?\n",
    "\n",
    "agent = load_obj(\"agent_naive_no_golden_no_upgrade\")"
   ]
  },
  {
   "cell_type": "code",
   "execution_count": null,
   "metadata": {},
   "outputs": [],
   "source": [
    "plt.plot(agent.log_bal_rev_epoch,agent.log_balance)"
   ]
  },
  {
   "cell_type": "code",
   "execution_count": null,
   "metadata": {},
   "outputs": [],
   "source": [
    "# outliers here can be due to golden cookies\n",
    "plt.plot(agent.log_bal_rev_epoch,agent.log_revenue)\n",
    "#plt.scatter(agent.bal_rev_epoch,agent.log_revenue)"
   ]
  },
  {
   "cell_type": "code",
   "execution_count": null,
   "metadata": {},
   "outputs": [],
   "source": [
    "for k in agent.log_build_info:\n",
    "    plt.plot(agent.log_build_info[k]['epoch'],agent.log_build_info[k]['cps'],label=k)\n",
    "plt.legend()"
   ]
  },
  {
   "cell_type": "code",
   "execution_count": null,
   "metadata": {},
   "outputs": [],
   "source": [
    "for k in agent.log_build_info:\n",
    "    plt.plot(agent.log_build_info[k]['epoch'],agent.log_build_info[k]['price'],label=k)\n",
    "plt.legend()"
   ]
  },
  {
   "cell_type": "code",
   "execution_count": null,
   "metadata": {},
   "outputs": [],
   "source": [
    "for k in agent.log_build_info:\n",
    "    plt.plot(agent.log_build_info[k]['epoch'],agent.log_build_info[k]['cps/price'],label=k)\n",
    "plt.legend()"
   ]
  },
  {
   "cell_type": "code",
   "execution_count": null,
   "metadata": {},
   "outputs": [],
   "source": [
    "for k in agent.log_build_info:\n",
    "    plt.plot(agent.log_build_info[k]['epoch'],agent.log_build_info[k]['count'],label=k)\n",
    "plt.legend()"
   ]
  },
  {
   "cell_type": "markdown",
   "metadata": {},
   "source": [
    "# Cookie Clicker Max RPS/Price Agent\n",
    "\n",
    "\n",
    "- This clicker buys unlocked buildings with the highest cookies per second to price ratio. \n",
    "\n",
    "- Queue purchases based on maximum RPS/price\n"
   ]
  },
  {
   "cell_type": "code",
   "execution_count": null,
   "metadata": {},
   "outputs": [],
   "source": [
    "# Max RPS/price agent\n",
    "class agent_class_max_rps_price_ratio(agent_class_naive):\n",
    "    # overwrite the buy_products method\n",
    "    def buy_products(self):\n",
    "        ## update building info\n",
    "        self.get_building_info()\n",
    "        # while best is affordible, buy the best rps/price building\n",
    "        best_building_affordible = True\n",
    "        while best_building_affordible:\n",
    "            ## get unlocked products\n",
    "            products = (driver.find_elements_by_xpath('//div[@class=\"product unlocked enabled\"]') + \n",
    "                        driver.find_elements_by_xpath('//div[@class=\"product unlocked disabled\"]'))\n",
    "            # find max rps/price building\n",
    "            max_rps_pp,building_to_buy,product_to_buy = 0,[],[]\n",
    "            for i,building in enumerate(self.building_info):\n",
    "                # get rps/price for building\n",
    "                cur_rps_pp = self.building_info[building]['cps/price'] \n",
    "                # if it's the best so far, update max and building id\n",
    "                if cur_rps_pp > max_rps_pp:\n",
    "                    max_rps_pp,building_to_buy = cur_rps_pp,building\n",
    "                    product_to_buy = products[i] # store element to click\n",
    "            # update balance\n",
    "            self.log_balance_and_revenue()\n",
    "            # check if best building is affordible.\n",
    "            if self.building_info[building_to_buy]['price']<=self.balance:\n",
    "                # buy building_to_buy (click on this product)\n",
    "                product_to_buy.click()\n",
    "                # update building info (including rps per price rps_pp)\n",
    "                self.get_building_info()\n",
    "            else: best_building_affordible=False # if not affordible, break the loop        \n",
    "                \n",
    "                \n"
   ]
  },
  {
   "cell_type": "code",
   "execution_count": null,
   "metadata": {},
   "outputs": [],
   "source": [
    "# start driver\n",
    "driver = webdriver.Chrome('./chromedriver')"
   ]
  },
  {
   "cell_type": "code",
   "execution_count": null,
   "metadata": {},
   "outputs": [],
   "source": [
    "# initialize agent\n",
    "agent = agent_class_max_rps_price_ratio(driver)"
   ]
  },
  {
   "cell_type": "code",
   "execution_count": null,
   "metadata": {},
   "outputs": [],
   "source": [
    "#### turn off all default graphic settings!! "
   ]
  },
  {
   "cell_type": "code",
   "execution_count": null,
   "metadata": {},
   "outputs": [],
   "source": [
    "# initialize click counter\n",
    "ci = 0"
   ]
  },
  {
   "cell_type": "code",
   "execution_count": null,
   "metadata": {},
   "outputs": [],
   "source": [
    "# run algorithm for a specified number of cookie clicks\n",
    "clicks = 100000-ci\n",
    "t0=time.time()\n",
    "initial_ci = ci\n",
    "stop = ci+clicks # run for `clicks` additional clicks\n",
    "while ci<stop:\n",
    "    ci += 1 # increment click counter\n",
    "    agent.click_cookie()\n",
    "    #agent.click_golden_cookie()\n",
    "    if ci%200 == 0: # to speed pure clicking\n",
    "        #agent.buy_upgrades()\n",
    "        agent.buy_products()\n",
    "        # log data\n",
    "        agent.log_balance_and_revenue(epoch=ci)\n",
    "        agent.get_building_info()\n",
    "        agent.building_info_logger(epoch=ci)\n",
    "        # feedback\n",
    "        clear_output()\n",
    "        print('click: '+str(ci-initial_ci)+' of '+str(stop-initial_ci)+\n",
    "             '\\npct: '+str((ci-initial_ci)/(stop-initial_ci))+\n",
    "             '\\nGolden Clicks: '+str(agent.golden_cookie_clicks))\n",
    "    #time.sleep(.07) # to keep CPU usage sustainably low\n",
    "t1=time.time()\n",
    "print('Total Time: '+ str(t1-t0) +'sec')\n",
    "# alert that loop finished\n",
    "notify_tone(reps=3,sleep=.5)"
   ]
  },
  {
   "cell_type": "code",
   "execution_count": null,
   "metadata": {},
   "outputs": [],
   "source": [
    "driver.close()"
   ]
  },
  {
   "cell_type": "code",
   "execution_count": null,
   "metadata": {},
   "outputs": [],
   "source": [
    "# save the agent for later analysis:\n",
    "# # locally store this temporary agent as agent_naive\n",
    "agent_max_cps_per_price=agent\n",
    "# # can't pickle web object, so need to clear agent.big_cookie before saving\n",
    "agent_max_cps_per_price.big_cookie, tmp = [],agent_max_cps_per_price.big_cookie\n",
    "save_obj(agent_max_cps_per_price,\"agent_max_cps_per_price_no_golden_no_upgrade\")\n",
    "agent_max_cps_per_price.big_cookie = tmp"
   ]
  },
  {
   "cell_type": "code",
   "execution_count": null,
   "metadata": {},
   "outputs": [],
   "source": [
    "# load the agent from the above save\n",
    "# was getting UTF-8 error, \n",
    "# changed to ... 'r',,encoding='utf-16') ...\n",
    "# this didn't help, but it worked when changed back to ...'rb')?\n",
    "\n",
    "agent = load_obj(\"agent_max_cps_per_price_no_golden_no_upgrade\")"
   ]
  },
  {
   "cell_type": "code",
   "execution_count": null,
   "metadata": {},
   "outputs": [],
   "source": [
    "plt.plot(agent.log_bal_rev_epoch,agent.log_balance)"
   ]
  },
  {
   "cell_type": "code",
   "execution_count": null,
   "metadata": {},
   "outputs": [],
   "source": [
    "# outliers here can be due to golden cookies\n",
    "plt.plot(agent.log_bal_rev_epoch,agent.log_revenue)\n",
    "#plt.scatter(agent.bal_rev_epoch,agent.log_revenue)"
   ]
  },
  {
   "cell_type": "code",
   "execution_count": null,
   "metadata": {},
   "outputs": [],
   "source": [
    "for k in agent.log_build_info:\n",
    "    plt.plot(agent.log_build_info[k]['epoch'],agent.log_build_info[k]['cps'],label=k)\n",
    "plt.legend()"
   ]
  },
  {
   "cell_type": "code",
   "execution_count": null,
   "metadata": {},
   "outputs": [],
   "source": [
    "for k in agent.log_build_info:\n",
    "    plt.plot(agent.log_build_info[k]['epoch'],agent.log_build_info[k]['price'],label=k)\n",
    "plt.legend()"
   ]
  },
  {
   "cell_type": "code",
   "execution_count": null,
   "metadata": {},
   "outputs": [],
   "source": [
    "for k in agent.log_build_info:\n",
    "    plt.plot(agent.log_build_info[k]['epoch'],agent.log_build_info[k]['cps/price'],label=k)\n",
    "plt.legend()"
   ]
  },
  {
   "cell_type": "code",
   "execution_count": null,
   "metadata": {},
   "outputs": [],
   "source": [
    "for k in agent.log_build_info:\n",
    "    plt.plot(agent.log_build_info[k]['epoch'],agent.log_build_info[k]['count'],label=k)\n",
    "plt.legend()"
   ]
  },
  {
   "cell_type": "markdown",
   "metadata": {},
   "source": [
    "- The long flat lines are periods when the agent was waiting to save enough to buy an expensive item, or when they were spending a lot on upgrades."
   ]
  },
  {
   "cell_type": "markdown",
   "metadata": {},
   "source": [
    "# Cookie Clicker min wait time until max rps purchase\n",
    "\n",
    "\n",
    "- Queue purchases to minimuze wait time until buying the maximum rps option\n"
   ]
  },
  {
   "cell_type": "code",
   "execution_count": null,
   "metadata": {},
   "outputs": [],
   "source": [
    "# Max RPS/price agent\n",
    "class agent_class_min_wait(agent_class_naive):\n",
    "    # overwrite the buy_products method for this agent's purchase logic\n",
    "    def buy_products(self):\n",
    "        ## update building info\n",
    "        self.get_building_info()\n",
    "        # while best building affordible, buy it and look for next best building\n",
    "        best_building_affordible = True\n",
    "        while best_building_affordible:\n",
    "            ## get unlocked products\n",
    "            products = (driver.find_elements_by_xpath('//div[@class=\"product unlocked enabled\"]') + \n",
    "                        driver.find_elements_by_xpath('//div[@class=\"product unlocked disabled\"]'))\n",
    "            # find building with max revenue per second and it's cost\n",
    "            max_rps,cost_max_rps = 0, float('inf')\n",
    "            building_to_buy,product_to_buy = [], []\n",
    "            for i,building in enumerate(self.building_info):\n",
    "                # get rps for building\n",
    "                cur_rps = self.building_info[building]['cps'] \n",
    "                # if it's the best rps far, update max, cost, and building id\n",
    "                if cur_rps > max_rps:\n",
    "                    max_rps,building_to_buy = cur_rps,building\n",
    "                    cost_max_rps = self.building_info[building]['price'] \n",
    "                    product_to_buy = products[i] # queue this building to buy\n",
    "\n",
    "            # update revenue for computations below\n",
    "            self.log_balance_and_revenue()\n",
    "            # check if any other purchase would reduce wait time to buying max_rps product\n",
    "            wait_max = float(cost_max_rps) / self.revenue if self.revenue else 0 # stops division by 0\n",
    "            \n",
    "            print((building_to_buy,self.building_info[building_to_buy]['cps'],wait_max))\n",
    "            \n",
    "            for i,building in enumerate(self.building_info):\n",
    "                cost_cur = self.building_info[building]['price']\n",
    "                rps_cur  = self.revenue + self.building_info[building]['cps']\n",
    "                # conditional to stop division by 0\n",
    "                wait_till_cur = float(cost_cur) / self.revenue if self.revenue else 0\n",
    "                wait_cur = (wait_till_cur + \n",
    "                             cost_max_rps / rps_cur)\n",
    "                if wait_cur <= wait_max: \n",
    "                    wait_max = wait_cur # update minimum wait\n",
    "                    building_to_buy = building\n",
    "                    \n",
    "                    print((building_to_buy,self.building_info[building_to_buy]['cps'],wait_cur))\n",
    "                    \n",
    "                    product_to_buy = products[i] # queue this building to buy instead\n",
    "            # update balance for checking if building affordible\n",
    "            self.log_balance_and_revenue()\n",
    "            # buy either max_rps product, or the building that would reduce wait time\n",
    "            # check if best building is affordible\n",
    "            if self.building_info[building_to_buy]['price']<=self.balance:\n",
    "                # buy building_to_buy (click on this product)\n",
    "                product_to_buy.click()\n",
    "                # update building info (including rps per price rps_pp)\n",
    "                self.get_building_info()\n",
    "            else: best_building_affordible=False # if not affordible, break purchase loop     \n",
    "        "
   ]
  },
  {
   "cell_type": "code",
   "execution_count": null,
   "metadata": {},
   "outputs": [],
   "source": [
    "# start driver\n",
    "driver = webdriver.Chrome('./chromedriver')"
   ]
  },
  {
   "cell_type": "code",
   "execution_count": null,
   "metadata": {},
   "outputs": [],
   "source": [
    "# initialize agent\n",
    "agent = agent_class_min_wait(driver)"
   ]
  },
  {
   "cell_type": "code",
   "execution_count": null,
   "metadata": {},
   "outputs": [],
   "source": [
    "#### turn off all default graphic settings!! "
   ]
  },
  {
   "cell_type": "code",
   "execution_count": null,
   "metadata": {},
   "outputs": [],
   "source": [
    "# initialize click counter\n",
    "ci = 0"
   ]
  },
  {
   "cell_type": "code",
   "execution_count": null,
   "metadata": {},
   "outputs": [],
   "source": [
    "# run algorithm for a specified number of cookie clicks\n",
    "clicks = 100000-ci\n",
    "t0=time.time()\n",
    "initial_ci = ci\n",
    "stop = ci+clicks # run for `clicks` additional clicks\n",
    "while ci<stop:\n",
    "    ci += 1 # increment click counter\n",
    "    agent.click_cookie()\n",
    "    #agent.click_golden_cookie()\n",
    "    if ci%200 == 0: # to speed pure clicking\n",
    "        #agent.buy_upgrades()\n",
    "        agent.buy_products()\n",
    "        # log data\n",
    "        agent.log_balance_and_revenue(epoch=ci)\n",
    "        agent.get_building_info()\n",
    "        agent.building_info_logger(epoch=ci)\n",
    "        # feedback\n",
    "        #clear_output()\n",
    "        print('click: '+str(ci-initial_ci)+' of '+str(stop-initial_ci)+\n",
    "             '\\npct: '+str((ci-initial_ci)/(stop-initial_ci))+\n",
    "             '\\nGolden Clicks: '+str(agent.golden_cookie_clicks))\n",
    "    #time.sleep(.07) # to keep CPU usage sustainably low\n",
    "t1=time.time()\n",
    "print('Total Time: '+ str(t1-t0) +'sec')\n",
    "# alert that loop finished\n",
    "notify_tone(reps=3,sleep=.5)"
   ]
  },
  {
   "cell_type": "code",
   "execution_count": null,
   "metadata": {},
   "outputs": [],
   "source": [
    "driver.close()"
   ]
  },
  {
   "cell_type": "code",
   "execution_count": null,
   "metadata": {},
   "outputs": [],
   "source": [
    "# save the agent for later analysis:\n",
    "# # locally store this temporary agent as agent_naive\n",
    "agent_max_cps_per_price=agent\n",
    "# # can't pickle web object, so need to clear agent.big_cookie before saving\n",
    "agent_max_cps_per_price.big_cookie, tmp = [],agent_max_cps_per_price.big_cookie\n",
    "save_obj(agent_max_cps_per_price,\"agent_min_wait_no_golden_no_upgrade\")\n",
    "agent_max_cps_per_price.big_cookie = tmp"
   ]
  },
  {
   "cell_type": "code",
   "execution_count": null,
   "metadata": {},
   "outputs": [],
   "source": [
    "# load the agent from the above save\n",
    "# was getting UTF-8 error, \n",
    "# changed to ... 'r',,encoding='utf-16') ...\n",
    "# this didn't help, but it worked when changed back to ...'rb')?\n",
    "\n",
    "agent = load_obj(\"agent_min_wait_no_golden_no_upgrade\")"
   ]
  },
  {
   "cell_type": "code",
   "execution_count": null,
   "metadata": {},
   "outputs": [],
   "source": [
    "plt.plot(agent.log_bal_rev_epoch,agent.log_balance)"
   ]
  },
  {
   "cell_type": "code",
   "execution_count": null,
   "metadata": {},
   "outputs": [],
   "source": [
    "# outliers here can be due to golden cookies\n",
    "plt.plot(agent.log_bal_rev_epoch,agent.log_revenue)\n",
    "#plt.scatter(agent.bal_rev_epoch,agent.log_revenue)"
   ]
  },
  {
   "cell_type": "code",
   "execution_count": null,
   "metadata": {},
   "outputs": [],
   "source": [
    "for k in agent.log_build_info:\n",
    "    plt.plot(agent.log_build_info[k]['epoch'],agent.log_build_info[k]['cps'],label=k)\n",
    "plt.legend()"
   ]
  },
  {
   "cell_type": "code",
   "execution_count": null,
   "metadata": {},
   "outputs": [],
   "source": [
    "for k in agent.log_build_info:\n",
    "    plt.plot(agent.log_build_info[k]['epoch'],agent.log_build_info[k]['price'],label=k)\n",
    "plt.legend()"
   ]
  },
  {
   "cell_type": "code",
   "execution_count": null,
   "metadata": {},
   "outputs": [],
   "source": [
    "for k in agent.log_build_info:\n",
    "    plt.plot(agent.log_build_info[k]['epoch'],agent.log_build_info[k]['cps/price'],label=k)\n",
    "plt.legend()"
   ]
  },
  {
   "cell_type": "code",
   "execution_count": null,
   "metadata": {
    "scrolled": true
   },
   "outputs": [],
   "source": [
    "for k in agent.log_build_info:\n",
    "    plt.plot(agent.log_build_info[k]['epoch'],agent.log_build_info[k]['count'],label=k)\n",
    "plt.legend()"
   ]
  },
  {
   "cell_type": "markdown",
   "metadata": {},
   "source": [
    "# Comparisons"
   ]
  },
  {
   "cell_type": "code",
   "execution_count": null,
   "metadata": {},
   "outputs": [],
   "source": [
    "agent_naive    = load_obj(\"agent_naive_no_golden_no_upgrade\")\n",
    "agent_max_cps  = load_obj(\"agent_max_cps_per_price_no_golden_no_upgrade\")\n",
    "agent_min_wait = load_obj(\"agent_min_wait_no_golden_no_upgrade\")\n",
    "\n",
    "# for looping\n",
    "agents = {\n",
    "    \"Naive\":agent_naive,\n",
    "    \"MaxROI\":agent_max_cps,\n",
    "    \"MinWait\":agent_min_wait\n",
    "}"
   ]
  },
  {
   "cell_type": "code",
   "execution_count": null,
   "metadata": {},
   "outputs": [],
   "source": [
    "plt.figure(figsize=(8,4))\n",
    "plt.grid()\n",
    "#plt.plot(agent_naive.log_bal_rev_epoch,agent_naive.log_revenue,label='Naive')\n",
    "for a in agents:\n",
    "    plt.plot(agents[a].log_bal_rev_epoch,agents[a].log_revenue,label=a)\n",
    "plt.xlabel(\"Click number\")\n",
    "plt.ylabel(\"Revenue\")\n",
    "plt.title(\"Revenue per Second Over Clicks\")\n",
    "plt.legend();"
   ]
  },
  {
   "cell_type": "markdown",
   "metadata": {},
   "source": [
    "MinWait and MaxCps are clearly better than the Naive strategy. At the end of 100,000 clicks, MaxCps had a higher revenue than MinWait. However, if this had run for only 60000 clicks, then MinWait would have appeared better during the interval where both were waiting for a large purchase. Overall, MinWait seems to have higher revenue when waiting for a large purchase -- From around clicks 21000-25000, and 58000-75000. On the other hand, MaxCps seems to have higher revenue because it diversifies more immediately after a large purchase. \n",
    "\n",
    "Notably, waiting for a large purchase is based on the imputed expected revenue of infinity. At later stages of the game, the revenues of all buildings are known. \n",
    "\n",
    "Since MinWait catches up to, and surpases, MaxCps when the revenue of each action is known, I would likely choose this strategy for longer runs. -- is this right? Maybe MaxCps should be chosen since it dominates more over time, and earned more in total (is this true?).\n",
    "\n",
    "Possibly a better strategy would be a hybrid that employs MaxCps when building revenues are known and MinWait when waiting for a building with an unknown revenue. \n"
   ]
  },
  {
   "cell_type": "code",
   "execution_count": null,
   "metadata": {},
   "outputs": [],
   "source": [
    "# check prices of building across the strategies (Naive equalizes building prices)\n",
    "fig, ax = plt.subplots(nrows=3,figsize=(8,12))\n",
    "for i,a in enumerate(agents):\n",
    "    #plt.figure(figsize=(10,5))\n",
    "    ax[i].grid()\n",
    "    for k in agents[a].log_build_info:\n",
    "        ax[i].plot(agents[a].log_build_info[k]['epoch'],agents[a].log_build_info[k]['count'],label=k)\n",
    "        ax[i].set_ylabel(\"Building Count\")\n",
    "        ax[i].set_title(a)\n",
    "    ax[i].legend()\n",
    "plt.xlabel(\"Click number\");"
   ]
  },
  {
   "cell_type": "markdown",
   "metadata": {},
   "source": [
    "The Naive strategy buys until prices are equal\n",
    "\n",
    "MaxCps purchases throughout, but tends to focus more on higher cps items. \n",
    "\n",
    "MinWait purchases in bulk immediately after a large purchase, then focuses on amassing wealth to purchase the larger revenue item.\n"
   ]
  },
  {
   "cell_type": "code",
   "execution_count": null,
   "metadata": {},
   "outputs": [],
   "source": [
    "# check prices of building across the strategies (Naive equalizes building prices)\n",
    "fig, ax = plt.subplots(nrows=3,figsize=(8,12))\n",
    "for i,a in enumerate(agents):\n",
    "    #plt.figure(figsize=(10,5))\n",
    "    ax[i].grid()\n",
    "    for k in agents[a].log_build_info:\n",
    "        ax[i].plot(agents[a].log_build_info[k]['epoch'],agents[a].log_build_info[k]['price'],label=k)\n",
    "        ax[i].set_ylabel(\"Building Prices\")\n",
    "        ax[i].set_title(a)\n",
    "    ax[i].legend()\n",
    "plt.xlabel(\"Click number\");"
   ]
  },
  {
   "cell_type": "code",
   "execution_count": null,
   "metadata": {
    "scrolled": false
   },
   "outputs": [],
   "source": [
    "# check patterns in building CPS and CPS/Price \n",
    "# -- MaxCps/price equalizes CPS/price\n",
    "# -- MinWait equalizes CPS/Price, but starting from the top CPS option down\n",
    "fig, ax = plt.subplots(nrows=3,figsize=(8,12))\n",
    "for i,a in enumerate(agents):\n",
    "    #plt.figure(figsize=(10,5))\n",
    "    ax[i].grid()\n",
    "    for k in agents[a].log_build_info:\n",
    "        ax[i].plot(agents[a].log_build_info[k]['epoch'],agents[a].log_build_info[k]['cps/price'],label=k)\n",
    "        ax[i].set_ylabel(\"Revenue / Price\")\n",
    "        ax[i].set_title(a)\n",
    "    ax[i].legend()\n",
    "plt.xlabel(\"Click number\");"
   ]
  },
  {
   "cell_type": "code",
   "execution_count": null,
   "metadata": {},
   "outputs": [],
   "source": []
  },
  {
   "cell_type": "code",
   "execution_count": null,
   "metadata": {},
   "outputs": [],
   "source": []
  },
  {
   "cell_type": "code",
   "execution_count": null,
   "metadata": {},
   "outputs": [],
   "source": []
  },
  {
   "cell_type": "code",
   "execution_count": null,
   "metadata": {},
   "outputs": [],
   "source": []
  },
  {
   "cell_type": "code",
   "execution_count": null,
   "metadata": {},
   "outputs": [],
   "source": []
  },
  {
   "cell_type": "code",
   "execution_count": null,
   "metadata": {},
   "outputs": [],
   "source": []
  },
  {
   "cell_type": "code",
   "execution_count": null,
   "metadata": {},
   "outputs": [],
   "source": []
  },
  {
   "cell_type": "code",
   "execution_count": null,
   "metadata": {},
   "outputs": [],
   "source": []
  },
  {
   "cell_type": "code",
   "execution_count": null,
   "metadata": {},
   "outputs": [],
   "source": []
  }
 ],
 "metadata": {
  "kernelspec": {
   "display_name": "Python 3",
   "language": "python",
   "name": "python3"
  },
  "language_info": {
   "codemirror_mode": {
    "name": "ipython",
    "version": 3
   },
   "file_extension": ".py",
   "mimetype": "text/x-python",
   "name": "python",
   "nbconvert_exporter": "python",
   "pygments_lexer": "ipython3",
   "version": "3.6.8"
  }
 },
 "nbformat": 4,
 "nbformat_minor": 2
}
