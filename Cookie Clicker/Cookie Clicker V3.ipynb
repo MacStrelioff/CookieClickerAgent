{
 "cells": [
  {
   "cell_type": "markdown",
   "metadata": {},
   "source": [
    "# Overview\n",
    "    \n",
    "- Write post and tag https://twitter.com/Orteil42 and the cookie clicker twitter in final post\n",
    "\n",
    "## Setup\n",
    "\n",
    "[chrome driver](http://chromedriver.chromium.org/downloads)\n",
    "\n",
    "`selenium` library...\n",
    "\n",
    "\n",
    "\n",
    "\n",
    "\n",
    "\n",
    "\n"
   ]
  },
  {
   "cell_type": "code",
   "execution_count": 1,
   "metadata": {},
   "outputs": [],
   "source": [
    "# general web wrangling\n",
    "import selenium  # another approach\n",
    "from selenium import webdriver\n",
    "# for mousing over an element\n",
    "from selenium.webdriver.common.action_chains import ActionChains\n",
    "\n",
    "# for text processing\n",
    "import re\n",
    "\n",
    "# for plotting \n",
    "import matplotlib.pyplot as plt\n",
    "\n",
    "# for clearing feedback\n",
    "from IPython.display import clear_output\n",
    "\n",
    "# for saving and loading data including dicts\n",
    "import pickle\n",
    "def save_obj(obj, name):\n",
    "    with open(name + '.pkl', 'wb') as f:\n",
    "        pickle.dump(obj, f, pickle.HIGHEST_PROTOCOL)\n",
    "\n",
    "def load_obj(name):\n",
    "    with open(name + '.pkl', 'rb') as f:\n",
    "        return pickle.load(f)\n",
    "def load_obj(name):\n",
    "    with open(name + '.pkl', 'rb') as f:\n",
    "        return pickle.load(f)\n",
    "\n",
    "# for notification tones; \n",
    "import pyaudio\n",
    "import numpy as np\n",
    "import time\n",
    "# for audio notifications when action required\n",
    "def notify_tone(reps=1,sleep=.25,volume=1,fs=44100,duration=.5,f=600):\n",
    "    p = pyaudio.PyAudio()\n",
    "    # generate samples, note conversion to float32 array\n",
    "    samples = (np.sin(2*np.pi*np.arange(fs*duration)*f/fs)).astype(np.float32)\n",
    "    # for paFloat32 sample values must be in range [-1.0, 1.0]\n",
    "    stream = p.open(format=pyaudio.paFloat32,\n",
    "                    channels=1,\n",
    "                    rate=fs,\n",
    "                    output=True)\n",
    "    # play. May repeat with different volume values (if done interactively) \n",
    "    for i in range(reps): stream.write(volume*samples); time.sleep(sleep)\n",
    "    stream.stop_stream()\n",
    "    stream.close()\n",
    "    p.terminate()"
   ]
  },
  {
   "cell_type": "markdown",
   "metadata": {},
   "source": [
    "# Cookie Clicker Naive Agent\n",
    "\n",
    "This clicker checks items after a specified number of clicks, and buys all affordible items, starting the the most recently unlocked buildings."
   ]
  },
  {
   "cell_type": "code",
   "execution_count": 3,
   "metadata": {},
   "outputs": [],
   "source": [
    "# Naive agent\n",
    "class agent_class_naive:\n",
    "    def __init__(self,driver):\n",
    "        # navigate to site\n",
    "        driver.get('https://orteil.dashnet.org/cookieclicker/')\n",
    "        time.sleep(10) # time for page to load\n",
    "        self.big_cookie = driver.find_element_by_id('bigCookie')\n",
    "        self.golden_cookie_clicks = 0\n",
    "        # initialize balance and revenue variables\n",
    "        self.balance=0\n",
    "        self.revenue=0 \n",
    "        # initialize balance and revenue logs\n",
    "        self.log_balance=[0]\n",
    "        self.log_revenue=[0]\n",
    "        self.log_bal_rev_epoch=[0]\n",
    "        # initialize building info, and logs of building info\n",
    "        self.get_building_info()\n",
    "        self.log_build_info = dict()\n",
    "        self.building_info_logger(epoch=0)\n",
    "        \n",
    "        # CHANGE GRAPHICS AND OTHER SETTINGS\n",
    "        # click 'options' tab\n",
    "        driver.find_element_by_id(\"prefsButton\").click()\n",
    "        time.sleep(1) # let page load\n",
    "        # disable text instead of numbers, e.g. 'million' -> '000,000'\n",
    "        driver.find_element_by_id(\"numbersButton\").click()\n",
    "        # slide volume to around 25%\n",
    "        time.sleep(.5) # so actions don't happen too fast\n",
    "        volume = driver.find_element_by_class_name(\"slider\")\n",
    "        move = ActionChains(driver)\n",
    "        move.click_and_hold(volume).move_by_offset(-50, 0).release().perform()\n",
    "        # change graphics for optimal performance\n",
    "        buttons = (\"fancyButton\",\"particlesButton\",\"cursorsButton\",\n",
    "                  \"milkButton\",\"wobblyButton\",\"cookiesoundButton\",\n",
    "                  \"formatButton\",\"extraButtonsButton\",\"customGrandmasButton\")\n",
    "        for button in buttons:\n",
    "            time.sleep(.5) # so actions don't happen too fast to execute\n",
    "            driver.find_element_by_id(button).click()\n",
    "        \n",
    "    def click_cookie(self):\n",
    "        self.big_cookie.click()\n",
    "        \n",
    "    def click_golden_cookie(self):\n",
    "        golden_cookies = driver.find_elements_by_xpath('//div[@class=\"shimmer\"]')\n",
    "        while len(golden_cookies)>0: # if there are products, and while we can afford products,\n",
    "            for golden_cookie in golden_cookies:\n",
    "                golden_cookie.click() # buy each one\n",
    "                self.golden_cookie_clicks+=1\n",
    "            golden_cookies = driver.find_elements_by_xpath('//div[@class=\"shimmer\"]')\n",
    "    \n",
    "    def buy_upgrades(self):\n",
    "        upgrades = driver.find_elements_by_xpath('//div[@class=\"crate upgrade enabled\"]')\n",
    "        while len(upgrades)>0: # if there are products, and while we can afford products,\n",
    "            try: upgrades[-1].click() # buy each one, most expensive first\n",
    "            except: None\n",
    "            upgrades = driver.find_elements_by_xpath('//div[@class=\"crate upgrade enabled\"]')\n",
    "    \n",
    "    def buy_products(self):\n",
    "        products = driver.find_elements_by_xpath('//div[@class=\"product unlocked enabled\"]')\n",
    "        while len(products)>0: # if there are products, and while we can afford products,\n",
    "            try: products[-1].click() # buy each one, most expensive first\n",
    "            except: None\n",
    "            products = driver.find_elements_by_xpath('//div[@class=\"product unlocked enabled\"]')\n",
    "            \n",
    "    def log_balance_and_revenue(self,epoch=None):\n",
    "        # log balance and revenue\n",
    "        tmp = driver.find_elements_by_xpath('//div[@id=\"cookies\"]')\n",
    "        tmp = tmp[0].text.replace(',','') # remove camas 1,000 -> 1000\n",
    "        tmp = re.findall(\"\\d+\",tmp) # extract balance and revenue\n",
    "        tmp = [int(i) for i in tmp] # convert str -> int\n",
    "        self.balance = tmp[0] # update current balance\n",
    "        self.revenue = tmp[1] # new for min_wait agent\n",
    "        if epoch: # epoch passed when this is called to log info, not just to update balance\n",
    "            self.log_bal_rev_epoch.append(epoch) # index for balance and revenue\n",
    "            self.log_balance.append(tmp[0]) # log balance\n",
    "            self.log_revenue.append(tmp[1]) # log revenue\n",
    "\n",
    "    def get_building_info(self):\n",
    "        # get unlocked products\n",
    "        products_unlocked = (driver.find_elements_by_xpath('//div[@class=\"product unlocked enabled\"]') + \n",
    "                             driver.find_elements_by_xpath('//div[@class=\"product unlocked disabled\"]'))\n",
    "        # info for unlocked buildings\n",
    "        building_info = dict()\n",
    "        for i,building in enumerate(products_unlocked):\n",
    "            # get info from building button\n",
    "            tmp=building.text.replace(',','').split(sep=\"\\n\")\n",
    "            building_name,building_price,building_count = tmp if len(tmp)==3 else tmp+[0]\n",
    "            # initialize dict for building\n",
    "            building_info[building_name] = dict()\n",
    "            # fill in count and price\n",
    "            building_info[building_name]['count']=int(building_count)\n",
    "            building_info[building_name]['price']=int(building_price)\n",
    "            # get info from building tooltip\n",
    "            hover = ActionChains(driver).move_to_element(building)\n",
    "            hover.perform()\n",
    "            tooltip = driver.find_elements_by_xpath('//div[@id=\"tooltip\"]')\n",
    "            tmp=tooltip[0].text.replace(',','');\n",
    "            tmp_cps = re.findall(r\"[-+]?\\d*\\.\\d+ cookies per|\\d+ cookies per\",tmp)\n",
    "            #### default of inf below encourages purchasing unlocked, unowned buildings\n",
    "            building_cps = float(tmp_cps[0][:tmp_cps[0].find(' ')]) if tmp_cps else float('inf')\n",
    "            building_info[building_name]['cps']=building_cps\n",
    "            building_info[building_name]['cps/price']=building_cps/int(building_price)\n",
    "        self.building_info = building_info\n",
    "        \n",
    "    def building_info_logger(self,epoch):\n",
    "        if self.building_info: # if self.building_info exists\n",
    "            # modified from get_building_info to append.\n",
    "            log_keys = ['count','price','cps','cps/price']\n",
    "            # info for unlocked buildings\n",
    "            for building in self.building_info:\n",
    "                # initialize new buildings\n",
    "                if building not in self.log_build_info:\n",
    "                    self.log_build_info[building] = dict()\n",
    "                    for k in log_keys+['epoch']:\n",
    "                        self.log_build_info[building][k]=[]\n",
    "                # fill in count,price,cps, cps/price\n",
    "                for k in log_keys:\n",
    "                    self.log_build_info[building][k].append(self.building_info[building][k])\n",
    "                # log epoch, within each building since buildings become available at different times\n",
    "                self.log_build_info[building]['epoch'].append(epoch)\n"
   ]
  },
  {
   "cell_type": "code",
   "execution_count": 3,
   "metadata": {},
   "outputs": [],
   "source": [
    "# start driver\n",
    "driver = webdriver.Chrome('./chromedriver')"
   ]
  },
  {
   "cell_type": "code",
   "execution_count": 4,
   "metadata": {},
   "outputs": [],
   "source": [
    "# initialize agent\n",
    "agent = agent_class_naive(driver)"
   ]
  },
  {
   "cell_type": "code",
   "execution_count": 5,
   "metadata": {},
   "outputs": [],
   "source": [
    "#### turn off all default graphic settings!! "
   ]
  },
  {
   "cell_type": "code",
   "execution_count": 6,
   "metadata": {},
   "outputs": [],
   "source": [
    "# initialize click counter\n",
    "ci = 0"
   ]
  },
  {
   "cell_type": "code",
   "execution_count": 7,
   "metadata": {},
   "outputs": [
    {
     "name": "stdout",
     "output_type": "stream",
     "text": [
      "click: 100000 of 100000\n",
      "pct: 1.0\n",
      "Golden Clicks: 0\n",
      "Total Time: 3703.1356229782104sec\n"
     ]
    }
   ],
   "source": [
    "# run algorithm for a specified number of cookie clicks\n",
    "clicks = 100000\n",
    "t0=time.time()\n",
    "initial_ci = ci\n",
    "stop = ci+clicks # run for `clicks` additional clicks\n",
    "while ci<stop:\n",
    "    ci += 1 # increment click counter\n",
    "    agent.click_cookie()\n",
    "    #agent.click_golden_cookie()\n",
    "    if ci%200 == 0: # to speed pure clicking\n",
    "        #agent.buy_upgrades()\n",
    "        agent.buy_products()\n",
    "        # log data\n",
    "        agent.log_balance_and_revenue(ci)\n",
    "        agent.get_building_info()\n",
    "        agent.building_info_logger(epoch=ci)\n",
    "        # feedback\n",
    "        clear_output()\n",
    "        print('click: '+str(ci-initial_ci)+' of '+str(stop-initial_ci)+\n",
    "             '\\npct: '+str((ci-initial_ci)/(stop-initial_ci))+\n",
    "             '\\nGolden Clicks: '+str(agent.golden_cookie_clicks))\n",
    "    #time.sleep(.07) # to keep CPU usage sustainably low\n",
    "t1=time.time()\n",
    "print('Total Time: '+ str(t1-t0) +'sec')\n",
    "# alert that loop finished\n",
    "notify_tone(reps=3,sleep=.5)"
   ]
  },
  {
   "cell_type": "code",
   "execution_count": 8,
   "metadata": {},
   "outputs": [],
   "source": [
    "driver.close()"
   ]
  },
  {
   "cell_type": "code",
   "execution_count": 9,
   "metadata": {},
   "outputs": [],
   "source": [
    "# save the agent for later analysis:\n",
    "# locally store this temporary agent as agent_naive\n",
    "agent_naive=agent\n",
    "# can't pickle web object, so need to clear agent.big_cookie before saving\n",
    "agent_naive.big_cookie, tmp = [],agent_naive.big_cookie\n",
    "save_obj(agent_naive,\"agent_naive_no_golden_no_upgrade\")\n",
    "agent_naive.big_cookie = tmp"
   ]
  },
  {
   "cell_type": "code",
   "execution_count": 10,
   "metadata": {},
   "outputs": [],
   "source": [
    "# load the agent from the above save\n",
    "# was getting UTF-8 error, \n",
    "# changed to ... 'r',,encoding='utf-16') ...\n",
    "# this didn't help, but it worked when changed back to ...'rb')?\n",
    "\n",
    "agent = load_obj(\"agent_naive_no_golden_no_upgrade\")"
   ]
  },
  {
   "cell_type": "code",
   "execution_count": 11,
   "metadata": {},
   "outputs": [
    {
     "data": {
      "text/plain": [
       "[<matplotlib.lines.Line2D at 0x117469208>]"
      ]
     },
     "execution_count": 11,
     "metadata": {},
     "output_type": "execute_result"
    },
    {
     "data": {
      "image/png": "[encoded data removed]",
      "text/plain": [
       "<matplotlib.figure.Figure at 0x1106d8208>"
      ]
     },
     "metadata": {
      "needs_background": "light"
     },
     "output_type": "display_data"
    }
   ],
   "source": [
    "plt.plot(agent.log_bal_rev_epoch,agent.log_balance)"
   ]
  },
  {
   "cell_type": "code",
   "execution_count": 12,
   "metadata": {},
   "outputs": [
    {
     "data": {
      "text/plain": [
       "[<matplotlib.lines.Line2D at 0x1175c1be0>]"
      ]
     },
     "execution_count": 12,
     "metadata": {},
     "output_type": "execute_result"
    },
    {
     "data": {
      "image/png": "[encoded data removed]",
      "text/plain": [
       "<matplotlib.figure.Figure at 0x1106ee160>"
      ]
     },
     "metadata": {
      "needs_background": "light"
     },
     "output_type": "display_data"
    }
   ],
   "source": [
    "# outliers here can be due to golden cookies\n",
    "plt.plot(agent.log_bal_rev_epoch,agent.log_revenue)\n",
    "#plt.scatter(agent.bal_rev_epoch,agent.log_revenue)"
   ]
  },
  {
   "cell_type": "code",
   "execution_count": 13,
   "metadata": {},
   "outputs": [
    {
     "data": {
      "text/plain": [
       "<matplotlib.legend.Legend at 0x1176e3b70>"
      ]
     },
     "execution_count": 13,
     "metadata": {},
     "output_type": "execute_result"
    },
    {
     "data": {
      "image/png": "[encoded data removed]",
      "text/plain": [
       "<matplotlib.figure.Figure at 0x11761e278>"
      ]
     },
     "metadata": {
      "needs_background": "light"
     },
     "output_type": "display_data"
    }
   ],
   "source": [
    "for k in agent.log_build_info:\n",
    "    plt.plot(agent.log_build_info[k]['epoch'],agent.log_build_info[k]['cps'],label=k)\n",
    "plt.legend()"
   ]
  },
  {
   "cell_type": "code",
   "execution_count": 14,
   "metadata": {},
   "outputs": [
    {
     "data": {
      "text/plain": [
       "<matplotlib.legend.Legend at 0x11759acf8>"
      ]
     },
     "execution_count": 14,
     "metadata": {},
     "output_type": "execute_result"
    },
    {
     "data": {
      "image/png": "[encoded data removed]",
      "text/plain": [
       "<matplotlib.figure.Figure at 0x11759a780>"
      ]
     },
     "metadata": {
      "needs_background": "light"
     },
     "output_type": "display_data"
    }
   ],
   "source": [
    "for k in agent.log_build_info:\n",
    "    plt.plot(agent.log_build_info[k]['epoch'],agent.log_build_info[k]['price'],label=k)\n",
    "plt.legend()"
   ]
  },
  {
   "cell_type": "code",
   "execution_count": 15,
   "metadata": {},
   "outputs": [
    {
     "data": {
      "text/plain": [
       "<matplotlib.legend.Legend at 0x1176b7400>"
      ]
     },
     "execution_count": 15,
     "metadata": {},
     "output_type": "execute_result"
    },
    {
     "data": {
      "image/png": "[encoded data removed]",
      "text/plain": [
       "<matplotlib.figure.Figure at 0x1176b7ef0>"
      ]
     },
     "metadata": {
      "needs_background": "light"
     },
     "output_type": "display_data"
    }
   ],
   "source": [
    "for k in agent.log_build_info:\n",
    "    plt.plot(agent.log_build_info[k]['epoch'],agent.log_build_info[k]['cps/price'],label=k)\n",
    "plt.legend()"
   ]
  },
  {
   "cell_type": "code",
   "execution_count": 16,
   "metadata": {},
   "outputs": [
    {
     "data": {
      "text/plain": [
       "<matplotlib.legend.Legend at 0x117734c50>"
      ]
     },
     "execution_count": 16,
     "metadata": {},
     "output_type": "execute_result"
    },
    {
     "data": {
      "image/png": "[encoded data removed]",
      "text/plain": [
       "<matplotlib.figure.Figure at 0x117734a58>"
      ]
     },
     "metadata": {
      "needs_background": "light"
     },
     "output_type": "display_data"
    }
   ],
   "source": [
    "for k in agent.log_build_info:\n",
    "    plt.plot(agent.log_build_info[k]['epoch'],agent.log_build_info[k]['count'],label=k)\n",
    "plt.legend()"
   ]
  },
  {
   "cell_type": "markdown",
   "metadata": {},
   "source": [
    "# Cookie Clicker Max RPS/Price Agent\n",
    "\n",
    "\n",
    "- This clicker buys unlocked buildings with the highest cookies per second to price ratio. \n",
    "\n",
    "- Queue purchases based on maximum RPS/price\n"
   ]
  },
  {
   "cell_type": "code",
   "execution_count": 29,
   "metadata": {},
   "outputs": [],
   "source": [
    "# Max RPS/price agent\n",
    "class agent_class_max_rps_price_ratio(agent_class_naive):\n",
    "    # overwrite the buy_products method\n",
    "    def buy_products(self):\n",
    "        ## update building info\n",
    "        self.get_building_info()\n",
    "        # while best is affordible, buy the best rps/price building\n",
    "        best_building_affordible = True\n",
    "        while best_building_affordible:\n",
    "            ## get unlocked products\n",
    "            products = (driver.find_elements_by_xpath('//div[@class=\"product unlocked enabled\"]') + \n",
    "                        driver.find_elements_by_xpath('//div[@class=\"product unlocked disabled\"]'))\n",
    "            # find max rps/price building\n",
    "            max_rps_pp,building_to_buy,product_to_buy = 0,[],[]\n",
    "            for i,building in enumerate(self.building_info):\n",
    "                # get rps/price for building\n",
    "                cur_rps_pp = self.building_info[building]['cps/price'] \n",
    "                # if it's the best so far, update max and building id\n",
    "                if cur_rps_pp > max_rps_pp:\n",
    "                    max_rps_pp,building_to_buy = cur_rps_pp,building\n",
    "                    product_to_buy = products[i] # store element to click\n",
    "            # update balance\n",
    "            self.log_balance_and_revenue()\n",
    "            # check if best building is affordible.\n",
    "            if self.building_info[building_to_buy]['price']<=self.balance:\n",
    "                # buy building_to_buy (click on this product)\n",
    "                product_to_buy.click()\n",
    "                # update building info (including rps per price rps_pp)\n",
    "                self.get_building_info()\n",
    "            else: best_building_affordible=False # if not affordible, break the loop        \n",
    "                \n",
    "                \n"
   ]
  },
  {
   "cell_type": "code",
   "execution_count": 30,
   "metadata": {},
   "outputs": [],
   "source": [
    "# start driver\n",
    "driver = webdriver.Chrome('./chromedriver')"
   ]
  },
  {
   "cell_type": "code",
   "execution_count": 31,
   "metadata": {},
   "outputs": [],
   "source": [
    "# initialize agent\n",
    "agent = agent_class_max_rps_price_ratio(driver)"
   ]
  },
  {
   "cell_type": "code",
   "execution_count": 32,
   "metadata": {},
   "outputs": [],
   "source": [
    "#### turn off all default graphic settings!! "
   ]
  },
  {
   "cell_type": "code",
   "execution_count": 33,
   "metadata": {},
   "outputs": [],
   "source": [
    "# initialize click counter\n",
    "ci = 0"
   ]
  },
  {
   "cell_type": "code",
   "execution_count": 34,
   "metadata": {},
   "outputs": [
    {
     "name": "stdout",
     "output_type": "stream",
     "text": [
      "click: 100000 of 100000\n",
      "pct: 1.0\n",
      "Golden Clicks: 0\n",
      "Total Time: 3912.931757926941sec\n"
     ]
    }
   ],
   "source": [
    "# run algorithm for a specified number of cookie clicks\n",
    "clicks = 100000-ci\n",
    "t0=time.time()\n",
    "initial_ci = ci\n",
    "stop = ci+clicks # run for `clicks` additional clicks\n",
    "while ci<stop:\n",
    "    ci += 1 # increment click counter\n",
    "    agent.click_cookie()\n",
    "    #agent.click_golden_cookie()\n",
    "    if ci%200 == 0: # to speed pure clicking\n",
    "        #agent.buy_upgrades()\n",
    "        agent.buy_products()\n",
    "        # log data\n",
    "        agent.log_balance_and_revenue(epoch=ci)\n",
    "        agent.get_building_info()\n",
    "        agent.building_info_logger(epoch=ci)\n",
    "        # feedback\n",
    "        clear_output()\n",
    "        print('click: '+str(ci-initial_ci)+' of '+str(stop-initial_ci)+\n",
    "             '\\npct: '+str((ci-initial_ci)/(stop-initial_ci))+\n",
    "             '\\nGolden Clicks: '+str(agent.golden_cookie_clicks))\n",
    "    #time.sleep(.07) # to keep CPU usage sustainably low\n",
    "t1=time.time()\n",
    "print('Total Time: '+ str(t1-t0) +'sec')\n",
    "# alert that loop finished\n",
    "notify_tone(reps=3,sleep=.5)"
   ]
  },
  {
   "cell_type": "code",
   "execution_count": 35,
   "metadata": {},
   "outputs": [],
   "source": [
    "driver.close()"
   ]
  },
  {
   "cell_type": "code",
   "execution_count": 36,
   "metadata": {},
   "outputs": [],
   "source": [
    "# save the agent for later analysis:\n",
    "# # locally store this temporary agent as agent_naive\n",
    "agent_max_cps_per_price=agent\n",
    "# # can't pickle web object, so need to clear agent.big_cookie before saving\n",
    "agent_max_cps_per_price.big_cookie, tmp = [],agent_max_cps_per_price.big_cookie\n",
    "save_obj(agent_max_cps_per_price,\"agent_max_cps_per_price_no_golden_no_upgrade\")\n",
    "agent_max_cps_per_price.big_cookie = tmp"
   ]
  },
  {
   "cell_type": "code",
   "execution_count": 37,
   "metadata": {},
   "outputs": [],
   "source": [
    "# load the agent from the above save\n",
    "# was getting UTF-8 error, \n",
    "# changed to ... 'r',,encoding='utf-16') ...\n",
    "# this didn't help, but it worked when changed back to ...'rb')?\n",
    "\n",
    "agent = load_obj(\"agent_max_cps_per_price_no_golden_no_upgrade\")"
   ]
  },
  {
   "cell_type": "code",
   "execution_count": 39,
   "metadata": {},
   "outputs": [
    {
     "data": {
      "text/plain": [
       "[<matplotlib.lines.Line2D at 0x117b01748>]"
      ]
     },
     "execution_count": 39,
     "metadata": {},
     "output_type": "execute_result"
    },
    {
     "data": {
      "image/png": "[encoded data removed]",
      "text/plain": [
       "<matplotlib.figure.Figure at 0x117a4c278>"
      ]
     },
     "metadata": {
      "needs_background": "light"
     },
     "output_type": "display_data"
    }
   ],
   "source": [
    "plt.plot(agent.log_bal_rev_epoch,agent.log_balance)"
   ]
  },
  {
   "cell_type": "code",
   "execution_count": 45,
   "metadata": {},
   "outputs": [
    {
     "data": {
      "text/plain": [
       "[<matplotlib.lines.Line2D at 0x117f359b0>]"
      ]
     },
     "execution_count": 45,
     "metadata": {},
     "output_type": "execute_result"
    },
    {
     "data": {
      "image/png": "[encoded data removed]",
      "text/plain": [
       "<matplotlib.figure.Figure at 0x117dea208>"
      ]
     },
     "metadata": {
      "needs_background": "light"
     },
     "output_type": "display_data"
    }
   ],
   "source": [
    "# outliers here can be due to golden cookies\n",
    "plt.plot(agent.log_bal_rev_epoch,agent.log_revenue)\n",
    "#plt.scatter(agent.bal_rev_epoch,agent.log_revenue)"
   ]
  },
  {
   "cell_type": "code",
   "execution_count": 46,
   "metadata": {},
   "outputs": [
    {
     "data": {
      "text/plain": [
       "<matplotlib.legend.Legend at 0x117cd4320>"
      ]
     },
     "execution_count": 46,
     "metadata": {},
     "output_type": "execute_result"
    },
    {
     "data": {
      "image/png": "[encoded data removed]",
      "text/plain": [
       "<matplotlib.figure.Figure at 0x117e01630>"
      ]
     },
     "metadata": {
      "needs_background": "light"
     },
     "output_type": "display_data"
    }
   ],
   "source": [
    "for k in agent.log_build_info:\n",
    "    plt.plot(agent.log_build_info[k]['epoch'],agent.log_build_info[k]['cps'],label=k)\n",
    "plt.legend()"
   ]
  },
  {
   "cell_type": "code",
   "execution_count": 47,
   "metadata": {},
   "outputs": [
    {
     "data": {
      "text/plain": [
       "<matplotlib.legend.Legend at 0x117eb9e80>"
      ]
     },
     "execution_count": 47,
     "metadata": {},
     "output_type": "execute_result"
    },
    {
     "data": {
      "image/png": "[encoded data removed]",
      "text/plain": [
       "<matplotlib.figure.Figure at 0x117eb9ef0>"
      ]
     },
     "metadata": {
      "needs_background": "light"
     },
     "output_type": "display_data"
    }
   ],
   "source": [
    "for k in agent.log_build_info:\n",
    "    plt.plot(agent.log_build_info[k]['epoch'],agent.log_build_info[k]['price'],label=k)\n",
    "plt.legend()"
   ]
  },
  {
   "cell_type": "code",
   "execution_count": 48,
   "metadata": {},
   "outputs": [
    {
     "data": {
      "text/plain": [
       "<matplotlib.legend.Legend at 0x1180dc898>"
      ]
     },
     "execution_count": 48,
     "metadata": {},
     "output_type": "execute_result"
    },
    {
     "data": {
      "image/png": "[encoded data removed]",
      "text/plain": [
       "<matplotlib.figure.Figure at 0x1180dc470>"
      ]
     },
     "metadata": {
      "needs_background": "light"
     },
     "output_type": "display_data"
    }
   ],
   "source": [
    "for k in agent.log_build_info:\n",
    "    plt.plot(agent.log_build_info[k]['epoch'],agent.log_build_info[k]['cps/price'],label=k)\n",
    "plt.legend()"
   ]
  },
  {
   "cell_type": "code",
   "execution_count": 49,
   "metadata": {},
   "outputs": [
    {
     "data": {
      "text/plain": [
       "<matplotlib.legend.Legend at 0x11825c898>"
      ]
     },
     "execution_count": 49,
     "metadata": {},
     "output_type": "execute_result"
    },
    {
     "data": {
      "image/png": "[encoded data removed]",
      "text/plain": [
       "<matplotlib.figure.Figure at 0x11825c860>"
      ]
     },
     "metadata": {
      "needs_background": "light"
     },
     "output_type": "display_data"
    }
   ],
   "source": [
    "for k in agent.log_build_info:\n",
    "    plt.plot(agent.log_build_info[k]['epoch'],agent.log_build_info[k]['count'],label=k)\n",
    "plt.legend()"
   ]
  },
  {
   "cell_type": "markdown",
   "metadata": {},
   "source": [
    "- The long flat lines are periods when the agent was waiting to save enough to buy an expensive item, or when they were spending a lot on upgrades."
   ]
  },
  {
   "cell_type": "markdown",
   "metadata": {},
   "source": [
    "# Cookie Clicker min wait time until max rps purchase\n",
    "\n",
    "\n",
    "- Queue purchases to minimuze wait time until buying the maximum rps option\n"
   ]
  },
  {
   "cell_type": "code",
   "execution_count": 10,
   "metadata": {},
   "outputs": [],
   "source": [
    "# Max RPS/price agent\n",
    "class agent_class_min_wait(agent_class_naive):\n",
    "    # overwrite the buy_products method for this agent's purchase logic\n",
    "    def buy_products(self):\n",
    "        ## update building info\n",
    "        self.get_building_info()\n",
    "        # while best building affordible, buy it and look for next best building\n",
    "        best_building_affordible = True\n",
    "        while best_building_affordible:\n",
    "            ## get unlocked products\n",
    "            products = (driver.find_elements_by_xpath('//div[@class=\"product unlocked enabled\"]') + \n",
    "                        driver.find_elements_by_xpath('//div[@class=\"product unlocked disabled\"]'))\n",
    "            # find building with max revenue per second and it's cost\n",
    "            max_rps,cost_max_rps = 0, float('inf')\n",
    "            building_to_buy,product_to_buy = [], []\n",
    "            for i,building in enumerate(self.building_info):\n",
    "                # get rps for building\n",
    "                cur_rps = self.building_info[building]['cps'] \n",
    "                # if it's the best rps far, update max, cost, and building id\n",
    "                if cur_rps > max_rps:\n",
    "                    max_rps,building_to_buy = cur_rps,building\n",
    "                    cost_max_rps = self.building_info[building]['price'] \n",
    "                    product_to_buy = products[i] # queue this building to buy\n",
    "\n",
    "            # update revenue for computations below\n",
    "            self.log_balance_and_revenue()\n",
    "            # check if any other purchase would reduce wait time to buying max_rps product\n",
    "            wait_max = float(cost_max_rps) / self.revenue if self.revenue else 0 # stops division by 0\n",
    "            \n",
    "            print((building_to_buy,self.building_info[building_to_buy]['cps'],wait_max))\n",
    "            \n",
    "            for i,building in enumerate(self.building_info):\n",
    "                cost_cur = self.building_info[building]['price']\n",
    "                rps_cur  = self.revenue + self.building_info[building]['cps']\n",
    "                # conditional to stop division by 0\n",
    "                wait_till_cur = float(cost_cur) / self.revenue if self.revenue else 0\n",
    "                wait_cur = (wait_till_cur + \n",
    "                             cost_max_rps / rps_cur)\n",
    "                if wait_cur <= wait_max: \n",
    "                    wait_max = wait_cur # update minimum wait\n",
    "                    building_to_buy = building\n",
    "                    \n",
    "                    print((building_to_buy,self.building_info[building_to_buy]['cps'],wait_cur))\n",
    "                    \n",
    "                    product_to_buy = products[i] # queue this building to buy instead\n",
    "            # update balance for checking if building affordible\n",
    "            self.log_balance_and_revenue()\n",
    "            # buy either max_rps product, or the building that would reduce wait time\n",
    "            # check if best building is affordible\n",
    "            if self.building_info[building_to_buy]['price']<=self.balance:\n",
    "                # buy building_to_buy (click on this product)\n",
    "                product_to_buy.click()\n",
    "                # update building info (including rps per price rps_pp)\n",
    "                self.get_building_info()\n",
    "            else: best_building_affordible=False # if not affordible, break purchase loop     \n",
    "        "
   ]
  },
  {
   "cell_type": "code",
   "execution_count": 18,
   "metadata": {},
   "outputs": [],
   "source": [
    "# start driver\n",
    "driver = webdriver.Chrome('./chromedriver')"
   ]
  },
  {
   "cell_type": "code",
   "execution_count": 19,
   "metadata": {},
   "outputs": [],
   "source": [
    "# initialize agent\n",
    "agent = agent_class_min_wait(driver)"
   ]
  },
  {
   "cell_type": "code",
   "execution_count": 20,
   "metadata": {},
   "outputs": [],
   "source": [
    "#### turn off all default graphic settings!! "
   ]
  },
  {
   "cell_type": "code",
   "execution_count": 21,
   "metadata": {},
   "outputs": [],
   "source": [
    "# initialize click counter\n",
    "ci = 0"
   ]
  },
  {
   "cell_type": "code",
   "execution_count": 22,
   "metadata": {},
   "outputs": [
    {
     "name": "stdout",
     "output_type": "stream",
     "text": [
      "('Cursor', inf, 0)\n",
      "('Cursor', inf, 0.0)\n",
      "('Grandma', inf, 0.0)\n",
      "('Cursor', inf, 15.0)\n",
      "('Cursor', inf, 15.0)\n",
      "('Grandma', inf, 115.0)\n",
      "('Grandma', inf, 115.0)\n",
      "click: 200 of 100000\n",
      "pct: 0.002\n",
      "Golden Clicks: 0\n",
      "('Grandma', inf, 115.0)\n",
      "('Grandma', inf, 115.0)\n",
      "('Grandma', 2.0, 66.5)\n",
      "('Grandma', 3.0, 51.0)\n",
      "click: 400 of 100000\n",
      "pct: 0.004\n",
      "Golden Clicks: 0\n",
      "('Grandma', 3.0, 51.0)\n",
      "('Grandma', 4.0, 43.75)\n",
      "click: 600 of 100000\n",
      "pct: 0.006\n",
      "Golden Clicks: 0\n",
      "('Grandma', 4.0, 43.75)\n",
      "('Grandma', 5.0, 40.4)\n",
      "click: 800 of 100000\n",
      "pct: 0.008\n",
      "Golden Clicks: 0\n",
      "('Farm', inf, 220.0)\n",
      "('Cursor', 0.1, 219.28627450980392)\n",
      "('Grandma', 5.0, 150.4)\n",
      "('Farm', inf, 183.33333333333334)\n",
      "('Cursor', 0.1, 183.32786885245903)\n",
      "('Grandma', 6.0, 130.33333333333334)\n",
      "click: 1000 of 100000\n",
      "pct: 0.01\n",
      "Golden Clicks: 0\n",
      "('Farm', inf, 183.33333333333334)\n",
      "('Cursor', 0.1, 183.32786885245903)\n",
      "('Grandma', 6.0, 130.33333333333334)\n",
      "('Farm', inf, 157.14285714285714)\n",
      "('Grandma', 7.0, 116.71428571428572)\n",
      "click: 1200 of 100000\n",
      "pct: 0.012\n",
      "Golden Clicks: 0\n",
      "('Farm', inf, 157.14285714285714)\n",
      "('Grandma', 7.0, 116.71428571428572)\n",
      "('Farm', inf, 137.5)\n",
      "('Grandma', 8.0, 107.0)\n",
      "click: 1400 of 100000\n",
      "pct: 0.014\n",
      "Golden Clicks: 0\n",
      "('Farm', inf, 137.5)\n",
      "('Grandma', 8.0, 107.0)\n",
      "('Farm', inf, 122.22222222222223)\n",
      "('Grandma', 9.0, 100.22222222222223)\n",
      "click: 1600 of 100000\n",
      "pct: 0.016\n",
      "Golden Clicks: 0\n",
      "('Farm', inf, 122.22222222222223)\n",
      "('Grandma', 9.0, 100.22222222222223)\n",
      "('Farm', inf, 110.0)\n",
      "('Grandma', 10.0, 95.5)\n",
      "click: 1800 of 100000\n",
      "pct: 0.018\n",
      "Golden Clicks: 0\n",
      "('Farm', inf, 110.0)\n",
      "('Grandma', 10.0, 95.5)\n",
      "click: 2000 of 100000\n",
      "pct: 0.02\n",
      "Golden Clicks: 0\n",
      "('Farm', inf, 110.0)\n",
      "('Grandma', 10.0, 95.5)\n",
      "('Farm', inf, 100.0)\n",
      "('Grandma', 11.0, 92.36363636363637)\n",
      "click: 2200 of 100000\n",
      "pct: 0.022\n",
      "Golden Clicks: 0\n",
      "('Farm', inf, 100.0)\n",
      "('Grandma', 11.0, 92.36363636363637)\n",
      "('Farm', inf, 91.66666666666667)\n",
      "('Grandma', 12.0, 90.5)\n",
      "click: 2400 of 100000\n",
      "pct: 0.024\n",
      "Golden Clicks: 0\n",
      "('Farm', inf, 91.66666666666667)\n",
      "('Grandma', 12.0, 90.5)\n",
      "click: 2600 of 100000\n",
      "pct: 0.026\n",
      "Golden Clicks: 0\n",
      "('Farm', inf, 91.66666666666667)\n",
      "('Grandma', 12.0, 90.5)\n",
      "('Farm', inf, 84.61538461538461)\n",
      "('Farm', inf, 84.61538461538461)\n",
      "click: 2800 of 100000\n",
      "pct: 0.028\n",
      "Golden Clicks: 0\n",
      "('Farm', inf, 84.61538461538461)\n",
      "('Farm', inf, 84.61538461538461)\n",
      "click: 3000 of 100000\n",
      "pct: 0.03\n",
      "Golden Clicks: 0\n",
      "('Farm', inf, 84.61538461538461)\n",
      "('Farm', inf, 84.61538461538461)\n",
      "click: 3200 of 100000\n",
      "pct: 0.032\n",
      "Golden Clicks: 0\n",
      "('Farm', inf, 84.61538461538461)\n",
      "('Farm', inf, 84.61538461538461)\n",
      "click: 3400 of 100000\n",
      "pct: 0.034\n",
      "Golden Clicks: 0\n",
      "('Farm', inf, 84.61538461538461)\n",
      "('Farm', inf, 84.61538461538461)\n",
      "('Grandma', 13.0, 29.333333333333332)\n",
      "click: 3600 of 100000\n",
      "pct: 0.036\n",
      "Golden Clicks: 0\n",
      "('Grandma', 13.0, 29.333333333333332)\n",
      "('Grandma', 14.0, 32.18181818181818)\n",
      "click: 3800 of 100000\n",
      "pct: 0.038\n",
      "Golden Clicks: 0\n",
      "('Grandma', 14.0, 32.18181818181818)\n",
      "click: 4000 of 100000\n",
      "pct: 0.04\n",
      "Golden Clicks: 0\n",
      "('Grandma', 14.0, 32.18181818181818)\n",
      "('Grandma', 15.0, 35.391304347826086)\n",
      "click: 4200 of 100000\n",
      "pct: 0.042\n",
      "Golden Clicks: 0\n",
      "('Grandma', 15.0, 35.391304347826086)\n",
      "click: 4400 of 100000\n",
      "pct: 0.044\n",
      "Golden Clicks: 0\n",
      "('Grandma', 15.0, 35.391304347826086)\n",
      "('Grandma', 16.0, 39.0)\n",
      "click: 4600 of 100000\n",
      "pct: 0.046\n",
      "Golden Clicks: 0\n",
      "('Grandma', 16.0, 39.0)\n",
      "click: 4800 of 100000\n",
      "pct: 0.048\n",
      "Golden Clicks: 0\n"
     ]
    },
    {
     "ename": "KeyboardInterrupt",
     "evalue": "",
     "output_type": "error",
     "traceback": [
      "\u001b[0;31m---------------------------------------------------------------------------\u001b[0m",
      "\u001b[0;31mTypeError\u001b[0m                                 Traceback (most recent call last)",
      "\u001b[0;32m/anaconda3/lib/python3.6/site-packages/urllib3/connectionpool.py\u001b[0m in \u001b[0;36m_make_request\u001b[0;34m(self, conn, method, url, timeout, chunked, **httplib_request_kw)\u001b[0m\n\u001b[1;32m    376\u001b[0m             \u001b[0;32mtry\u001b[0m\u001b[0;34m:\u001b[0m  \u001b[0;31m# Python 2.7, use buffering of HTTP responses\u001b[0m\u001b[0;34m\u001b[0m\u001b[0;34m\u001b[0m\u001b[0m\n\u001b[0;32m--> 377\u001b[0;31m                 \u001b[0mhttplib_response\u001b[0m \u001b[0;34m=\u001b[0m \u001b[0mconn\u001b[0m\u001b[0;34m.\u001b[0m\u001b[0mgetresponse\u001b[0m\u001b[0;34m(\u001b[0m\u001b[0mbuffering\u001b[0m\u001b[0;34m=\u001b[0m\u001b[0;32mTrue\u001b[0m\u001b[0;34m)\u001b[0m\u001b[0;34m\u001b[0m\u001b[0;34m\u001b[0m\u001b[0m\n\u001b[0m\u001b[1;32m    378\u001b[0m             \u001b[0;32mexcept\u001b[0m \u001b[0mTypeError\u001b[0m\u001b[0;34m:\u001b[0m  \u001b[0;31m# Python 3\u001b[0m\u001b[0;34m\u001b[0m\u001b[0;34m\u001b[0m\u001b[0m\n",
      "\u001b[0;31mTypeError\u001b[0m: getresponse() got an unexpected keyword argument 'buffering'",
      "\nDuring handling of the above exception, another exception occurred:\n",
      "\u001b[0;31mKeyboardInterrupt\u001b[0m                         Traceback (most recent call last)",
      "\u001b[0;32m<ipython-input-22-5e12addda9ca>\u001b[0m in \u001b[0;36m<module>\u001b[0;34m\u001b[0m\n\u001b[1;32m      6\u001b[0m \u001b[0;32mwhile\u001b[0m \u001b[0mci\u001b[0m\u001b[0;34m<\u001b[0m\u001b[0mstop\u001b[0m\u001b[0;34m:\u001b[0m\u001b[0;34m\u001b[0m\u001b[0;34m\u001b[0m\u001b[0m\n\u001b[1;32m      7\u001b[0m     \u001b[0mci\u001b[0m \u001b[0;34m+=\u001b[0m \u001b[0;36m1\u001b[0m \u001b[0;31m# increment click counter\u001b[0m\u001b[0;34m\u001b[0m\u001b[0;34m\u001b[0m\u001b[0m\n\u001b[0;32m----> 8\u001b[0;31m     \u001b[0magent\u001b[0m\u001b[0;34m.\u001b[0m\u001b[0mclick_cookie\u001b[0m\u001b[0;34m(\u001b[0m\u001b[0;34m)\u001b[0m\u001b[0;34m\u001b[0m\u001b[0;34m\u001b[0m\u001b[0m\n\u001b[0m\u001b[1;32m      9\u001b[0m     \u001b[0;31m#agent.click_golden_cookie()\u001b[0m\u001b[0;34m\u001b[0m\u001b[0;34m\u001b[0m\u001b[0;34m\u001b[0m\u001b[0m\n\u001b[1;32m     10\u001b[0m     \u001b[0;32mif\u001b[0m \u001b[0mci\u001b[0m\u001b[0;34m%\u001b[0m\u001b[0;36m200\u001b[0m \u001b[0;34m==\u001b[0m \u001b[0;36m0\u001b[0m\u001b[0;34m:\u001b[0m \u001b[0;31m# to speed pure clicking\u001b[0m\u001b[0;34m\u001b[0m\u001b[0;34m\u001b[0m\u001b[0m\n",
      "\u001b[0;32m<ipython-input-3-6beaddcdbb1a>\u001b[0m in \u001b[0;36mclick_cookie\u001b[0;34m(self)\u001b[0m\n\u001b[1;32m     39\u001b[0m \u001b[0;34m\u001b[0m\u001b[0m\n\u001b[1;32m     40\u001b[0m     \u001b[0;32mdef\u001b[0m \u001b[0mclick_cookie\u001b[0m\u001b[0;34m(\u001b[0m\u001b[0mself\u001b[0m\u001b[0;34m)\u001b[0m\u001b[0;34m:\u001b[0m\u001b[0;34m\u001b[0m\u001b[0;34m\u001b[0m\u001b[0m\n\u001b[0;32m---> 41\u001b[0;31m         \u001b[0mself\u001b[0m\u001b[0;34m.\u001b[0m\u001b[0mbig_cookie\u001b[0m\u001b[0;34m.\u001b[0m\u001b[0mclick\u001b[0m\u001b[0;34m(\u001b[0m\u001b[0;34m)\u001b[0m\u001b[0;34m\u001b[0m\u001b[0;34m\u001b[0m\u001b[0m\n\u001b[0m\u001b[1;32m     42\u001b[0m \u001b[0;34m\u001b[0m\u001b[0m\n\u001b[1;32m     43\u001b[0m     \u001b[0;32mdef\u001b[0m \u001b[0mclick_golden_cookie\u001b[0m\u001b[0;34m(\u001b[0m\u001b[0mself\u001b[0m\u001b[0;34m)\u001b[0m\u001b[0;34m:\u001b[0m\u001b[0;34m\u001b[0m\u001b[0;34m\u001b[0m\u001b[0m\n",
      "\u001b[0;32m/anaconda3/lib/python3.6/site-packages/selenium/webdriver/remote/webelement.py\u001b[0m in \u001b[0;36mclick\u001b[0;34m(self)\u001b[0m\n\u001b[1;32m     78\u001b[0m     \u001b[0;32mdef\u001b[0m \u001b[0mclick\u001b[0m\u001b[0;34m(\u001b[0m\u001b[0mself\u001b[0m\u001b[0;34m)\u001b[0m\u001b[0;34m:\u001b[0m\u001b[0;34m\u001b[0m\u001b[0;34m\u001b[0m\u001b[0m\n\u001b[1;32m     79\u001b[0m         \u001b[0;34m\"\"\"Clicks the element.\"\"\"\u001b[0m\u001b[0;34m\u001b[0m\u001b[0;34m\u001b[0m\u001b[0m\n\u001b[0;32m---> 80\u001b[0;31m         \u001b[0mself\u001b[0m\u001b[0;34m.\u001b[0m\u001b[0m_execute\u001b[0m\u001b[0;34m(\u001b[0m\u001b[0mCommand\u001b[0m\u001b[0;34m.\u001b[0m\u001b[0mCLICK_ELEMENT\u001b[0m\u001b[0;34m)\u001b[0m\u001b[0;34m\u001b[0m\u001b[0;34m\u001b[0m\u001b[0m\n\u001b[0m\u001b[1;32m     81\u001b[0m \u001b[0;34m\u001b[0m\u001b[0m\n\u001b[1;32m     82\u001b[0m     \u001b[0;32mdef\u001b[0m \u001b[0msubmit\u001b[0m\u001b[0;34m(\u001b[0m\u001b[0mself\u001b[0m\u001b[0;34m)\u001b[0m\u001b[0;34m:\u001b[0m\u001b[0;34m\u001b[0m\u001b[0;34m\u001b[0m\u001b[0m\n",
      "\u001b[0;32m/anaconda3/lib/python3.6/site-packages/selenium/webdriver/remote/webelement.py\u001b[0m in \u001b[0;36m_execute\u001b[0;34m(self, command, params)\u001b[0m\n\u001b[1;32m    631\u001b[0m             \u001b[0mparams\u001b[0m \u001b[0;34m=\u001b[0m \u001b[0;34m{\u001b[0m\u001b[0;34m}\u001b[0m\u001b[0;34m\u001b[0m\u001b[0;34m\u001b[0m\u001b[0m\n\u001b[1;32m    632\u001b[0m         \u001b[0mparams\u001b[0m\u001b[0;34m[\u001b[0m\u001b[0;34m'id'\u001b[0m\u001b[0;34m]\u001b[0m \u001b[0;34m=\u001b[0m \u001b[0mself\u001b[0m\u001b[0;34m.\u001b[0m\u001b[0m_id\u001b[0m\u001b[0;34m\u001b[0m\u001b[0;34m\u001b[0m\u001b[0m\n\u001b[0;32m--> 633\u001b[0;31m         \u001b[0;32mreturn\u001b[0m \u001b[0mself\u001b[0m\u001b[0;34m.\u001b[0m\u001b[0m_parent\u001b[0m\u001b[0;34m.\u001b[0m\u001b[0mexecute\u001b[0m\u001b[0;34m(\u001b[0m\u001b[0mcommand\u001b[0m\u001b[0;34m,\u001b[0m \u001b[0mparams\u001b[0m\u001b[0;34m)\u001b[0m\u001b[0;34m\u001b[0m\u001b[0;34m\u001b[0m\u001b[0m\n\u001b[0m\u001b[1;32m    634\u001b[0m \u001b[0;34m\u001b[0m\u001b[0m\n\u001b[1;32m    635\u001b[0m     \u001b[0;32mdef\u001b[0m \u001b[0mfind_element\u001b[0m\u001b[0;34m(\u001b[0m\u001b[0mself\u001b[0m\u001b[0;34m,\u001b[0m \u001b[0mby\u001b[0m\u001b[0;34m=\u001b[0m\u001b[0mBy\u001b[0m\u001b[0;34m.\u001b[0m\u001b[0mID\u001b[0m\u001b[0;34m,\u001b[0m \u001b[0mvalue\u001b[0m\u001b[0;34m=\u001b[0m\u001b[0;32mNone\u001b[0m\u001b[0;34m)\u001b[0m\u001b[0;34m:\u001b[0m\u001b[0;34m\u001b[0m\u001b[0;34m\u001b[0m\u001b[0m\n",
      "\u001b[0;32m/anaconda3/lib/python3.6/site-packages/selenium/webdriver/remote/webdriver.py\u001b[0m in \u001b[0;36mexecute\u001b[0;34m(self, driver_command, params)\u001b[0m\n\u001b[1;32m    317\u001b[0m \u001b[0;34m\u001b[0m\u001b[0m\n\u001b[1;32m    318\u001b[0m         \u001b[0mparams\u001b[0m \u001b[0;34m=\u001b[0m \u001b[0mself\u001b[0m\u001b[0;34m.\u001b[0m\u001b[0m_wrap_value\u001b[0m\u001b[0;34m(\u001b[0m\u001b[0mparams\u001b[0m\u001b[0;34m)\u001b[0m\u001b[0;34m\u001b[0m\u001b[0;34m\u001b[0m\u001b[0m\n\u001b[0;32m--> 319\u001b[0;31m         \u001b[0mresponse\u001b[0m \u001b[0;34m=\u001b[0m \u001b[0mself\u001b[0m\u001b[0;34m.\u001b[0m\u001b[0mcommand_executor\u001b[0m\u001b[0;34m.\u001b[0m\u001b[0mexecute\u001b[0m\u001b[0;34m(\u001b[0m\u001b[0mdriver_command\u001b[0m\u001b[0;34m,\u001b[0m \u001b[0mparams\u001b[0m\u001b[0;34m)\u001b[0m\u001b[0;34m\u001b[0m\u001b[0;34m\u001b[0m\u001b[0m\n\u001b[0m\u001b[1;32m    320\u001b[0m         \u001b[0;32mif\u001b[0m \u001b[0mresponse\u001b[0m\u001b[0;34m:\u001b[0m\u001b[0;34m\u001b[0m\u001b[0;34m\u001b[0m\u001b[0m\n\u001b[1;32m    321\u001b[0m             \u001b[0mself\u001b[0m\u001b[0;34m.\u001b[0m\u001b[0merror_handler\u001b[0m\u001b[0;34m.\u001b[0m\u001b[0mcheck_response\u001b[0m\u001b[0;34m(\u001b[0m\u001b[0mresponse\u001b[0m\u001b[0;34m)\u001b[0m\u001b[0;34m\u001b[0m\u001b[0;34m\u001b[0m\u001b[0m\n",
      "\u001b[0;32m/anaconda3/lib/python3.6/site-packages/selenium/webdriver/remote/remote_connection.py\u001b[0m in \u001b[0;36mexecute\u001b[0;34m(self, command, params)\u001b[0m\n\u001b[1;32m    372\u001b[0m         \u001b[0mdata\u001b[0m \u001b[0;34m=\u001b[0m \u001b[0mutils\u001b[0m\u001b[0;34m.\u001b[0m\u001b[0mdump_json\u001b[0m\u001b[0;34m(\u001b[0m\u001b[0mparams\u001b[0m\u001b[0;34m)\u001b[0m\u001b[0;34m\u001b[0m\u001b[0;34m\u001b[0m\u001b[0m\n\u001b[1;32m    373\u001b[0m         \u001b[0murl\u001b[0m \u001b[0;34m=\u001b[0m \u001b[0;34m'%s%s'\u001b[0m \u001b[0;34m%\u001b[0m \u001b[0;34m(\u001b[0m\u001b[0mself\u001b[0m\u001b[0;34m.\u001b[0m\u001b[0m_url\u001b[0m\u001b[0;34m,\u001b[0m \u001b[0mpath\u001b[0m\u001b[0;34m)\u001b[0m\u001b[0;34m\u001b[0m\u001b[0;34m\u001b[0m\u001b[0m\n\u001b[0;32m--> 374\u001b[0;31m         \u001b[0;32mreturn\u001b[0m \u001b[0mself\u001b[0m\u001b[0;34m.\u001b[0m\u001b[0m_request\u001b[0m\u001b[0;34m(\u001b[0m\u001b[0mcommand_info\u001b[0m\u001b[0;34m[\u001b[0m\u001b[0;36m0\u001b[0m\u001b[0;34m]\u001b[0m\u001b[0;34m,\u001b[0m \u001b[0murl\u001b[0m\u001b[0;34m,\u001b[0m \u001b[0mbody\u001b[0m\u001b[0;34m=\u001b[0m\u001b[0mdata\u001b[0m\u001b[0;34m)\u001b[0m\u001b[0;34m\u001b[0m\u001b[0;34m\u001b[0m\u001b[0m\n\u001b[0m\u001b[1;32m    375\u001b[0m \u001b[0;34m\u001b[0m\u001b[0m\n\u001b[1;32m    376\u001b[0m     \u001b[0;32mdef\u001b[0m \u001b[0m_request\u001b[0m\u001b[0;34m(\u001b[0m\u001b[0mself\u001b[0m\u001b[0;34m,\u001b[0m \u001b[0mmethod\u001b[0m\u001b[0;34m,\u001b[0m \u001b[0murl\u001b[0m\u001b[0;34m,\u001b[0m \u001b[0mbody\u001b[0m\u001b[0;34m=\u001b[0m\u001b[0;32mNone\u001b[0m\u001b[0;34m)\u001b[0m\u001b[0;34m:\u001b[0m\u001b[0;34m\u001b[0m\u001b[0;34m\u001b[0m\u001b[0m\n",
      "\u001b[0;32m/anaconda3/lib/python3.6/site-packages/selenium/webdriver/remote/remote_connection.py\u001b[0m in \u001b[0;36m_request\u001b[0;34m(self, method, url, body)\u001b[0m\n\u001b[1;32m    395\u001b[0m \u001b[0;34m\u001b[0m\u001b[0m\n\u001b[1;32m    396\u001b[0m         \u001b[0;32mif\u001b[0m \u001b[0mself\u001b[0m\u001b[0;34m.\u001b[0m\u001b[0mkeep_alive\u001b[0m\u001b[0;34m:\u001b[0m\u001b[0;34m\u001b[0m\u001b[0;34m\u001b[0m\u001b[0m\n\u001b[0;32m--> 397\u001b[0;31m             \u001b[0mresp\u001b[0m \u001b[0;34m=\u001b[0m \u001b[0mself\u001b[0m\u001b[0;34m.\u001b[0m\u001b[0m_conn\u001b[0m\u001b[0;34m.\u001b[0m\u001b[0mrequest\u001b[0m\u001b[0;34m(\u001b[0m\u001b[0mmethod\u001b[0m\u001b[0;34m,\u001b[0m \u001b[0murl\u001b[0m\u001b[0;34m,\u001b[0m \u001b[0mbody\u001b[0m\u001b[0;34m=\u001b[0m\u001b[0mbody\u001b[0m\u001b[0;34m,\u001b[0m \u001b[0mheaders\u001b[0m\u001b[0;34m=\u001b[0m\u001b[0mheaders\u001b[0m\u001b[0;34m)\u001b[0m\u001b[0;34m\u001b[0m\u001b[0;34m\u001b[0m\u001b[0m\n\u001b[0m\u001b[1;32m    398\u001b[0m \u001b[0;34m\u001b[0m\u001b[0m\n\u001b[1;32m    399\u001b[0m             \u001b[0mstatuscode\u001b[0m \u001b[0;34m=\u001b[0m \u001b[0mresp\u001b[0m\u001b[0;34m.\u001b[0m\u001b[0mstatus\u001b[0m\u001b[0;34m\u001b[0m\u001b[0;34m\u001b[0m\u001b[0m\n",
      "\u001b[0;32m/anaconda3/lib/python3.6/site-packages/urllib3/request.py\u001b[0m in \u001b[0;36mrequest\u001b[0;34m(self, method, url, fields, headers, **urlopen_kw)\u001b[0m\n\u001b[1;32m     70\u001b[0m             return self.request_encode_body(method, url, fields=fields,\n\u001b[1;32m     71\u001b[0m                                             \u001b[0mheaders\u001b[0m\u001b[0;34m=\u001b[0m\u001b[0mheaders\u001b[0m\u001b[0;34m,\u001b[0m\u001b[0;34m\u001b[0m\u001b[0;34m\u001b[0m\u001b[0m\n\u001b[0;32m---> 72\u001b[0;31m                                             **urlopen_kw)\n\u001b[0m\u001b[1;32m     73\u001b[0m \u001b[0;34m\u001b[0m\u001b[0m\n\u001b[1;32m     74\u001b[0m     def request_encode_url(self, method, url, fields=None, headers=None,\n",
      "\u001b[0;32m/anaconda3/lib/python3.6/site-packages/urllib3/request.py\u001b[0m in \u001b[0;36mrequest_encode_body\u001b[0;34m(self, method, url, fields, headers, encode_multipart, multipart_boundary, **urlopen_kw)\u001b[0m\n\u001b[1;32m    148\u001b[0m         \u001b[0mextra_kw\u001b[0m\u001b[0;34m.\u001b[0m\u001b[0mupdate\u001b[0m\u001b[0;34m(\u001b[0m\u001b[0murlopen_kw\u001b[0m\u001b[0;34m)\u001b[0m\u001b[0;34m\u001b[0m\u001b[0;34m\u001b[0m\u001b[0m\n\u001b[1;32m    149\u001b[0m \u001b[0;34m\u001b[0m\u001b[0m\n\u001b[0;32m--> 150\u001b[0;31m         \u001b[0;32mreturn\u001b[0m \u001b[0mself\u001b[0m\u001b[0;34m.\u001b[0m\u001b[0murlopen\u001b[0m\u001b[0;34m(\u001b[0m\u001b[0mmethod\u001b[0m\u001b[0;34m,\u001b[0m \u001b[0murl\u001b[0m\u001b[0;34m,\u001b[0m \u001b[0;34m**\u001b[0m\u001b[0mextra_kw\u001b[0m\u001b[0;34m)\u001b[0m\u001b[0;34m\u001b[0m\u001b[0;34m\u001b[0m\u001b[0m\n\u001b[0m",
      "\u001b[0;32m/anaconda3/lib/python3.6/site-packages/urllib3/poolmanager.py\u001b[0m in \u001b[0;36murlopen\u001b[0;34m(self, method, url, redirect, **kw)\u001b[0m\n\u001b[1;32m    321\u001b[0m             \u001b[0mresponse\u001b[0m \u001b[0;34m=\u001b[0m \u001b[0mconn\u001b[0m\u001b[0;34m.\u001b[0m\u001b[0murlopen\u001b[0m\u001b[0;34m(\u001b[0m\u001b[0mmethod\u001b[0m\u001b[0;34m,\u001b[0m \u001b[0murl\u001b[0m\u001b[0;34m,\u001b[0m \u001b[0;34m**\u001b[0m\u001b[0mkw\u001b[0m\u001b[0;34m)\u001b[0m\u001b[0;34m\u001b[0m\u001b[0;34m\u001b[0m\u001b[0m\n\u001b[1;32m    322\u001b[0m         \u001b[0;32melse\u001b[0m\u001b[0;34m:\u001b[0m\u001b[0;34m\u001b[0m\u001b[0;34m\u001b[0m\u001b[0m\n\u001b[0;32m--> 323\u001b[0;31m             \u001b[0mresponse\u001b[0m \u001b[0;34m=\u001b[0m \u001b[0mconn\u001b[0m\u001b[0;34m.\u001b[0m\u001b[0murlopen\u001b[0m\u001b[0;34m(\u001b[0m\u001b[0mmethod\u001b[0m\u001b[0;34m,\u001b[0m \u001b[0mu\u001b[0m\u001b[0;34m.\u001b[0m\u001b[0mrequest_uri\u001b[0m\u001b[0;34m,\u001b[0m \u001b[0;34m**\u001b[0m\u001b[0mkw\u001b[0m\u001b[0;34m)\u001b[0m\u001b[0;34m\u001b[0m\u001b[0;34m\u001b[0m\u001b[0m\n\u001b[0m\u001b[1;32m    324\u001b[0m \u001b[0;34m\u001b[0m\u001b[0m\n\u001b[1;32m    325\u001b[0m         \u001b[0mredirect_location\u001b[0m \u001b[0;34m=\u001b[0m \u001b[0mredirect\u001b[0m \u001b[0;32mand\u001b[0m \u001b[0mresponse\u001b[0m\u001b[0;34m.\u001b[0m\u001b[0mget_redirect_location\u001b[0m\u001b[0;34m(\u001b[0m\u001b[0;34m)\u001b[0m\u001b[0;34m\u001b[0m\u001b[0;34m\u001b[0m\u001b[0m\n",
      "\u001b[0;32m/anaconda3/lib/python3.6/site-packages/urllib3/connectionpool.py\u001b[0m in \u001b[0;36murlopen\u001b[0;34m(self, method, url, body, headers, retries, redirect, assert_same_host, timeout, pool_timeout, release_conn, chunked, body_pos, **response_kw)\u001b[0m\n\u001b[1;32m    598\u001b[0m                                                   \u001b[0mtimeout\u001b[0m\u001b[0;34m=\u001b[0m\u001b[0mtimeout_obj\u001b[0m\u001b[0;34m,\u001b[0m\u001b[0;34m\u001b[0m\u001b[0;34m\u001b[0m\u001b[0m\n\u001b[1;32m    599\u001b[0m                                                   \u001b[0mbody\u001b[0m\u001b[0;34m=\u001b[0m\u001b[0mbody\u001b[0m\u001b[0;34m,\u001b[0m \u001b[0mheaders\u001b[0m\u001b[0;34m=\u001b[0m\u001b[0mheaders\u001b[0m\u001b[0;34m,\u001b[0m\u001b[0;34m\u001b[0m\u001b[0;34m\u001b[0m\u001b[0m\n\u001b[0;32m--> 600\u001b[0;31m                                                   chunked=chunked)\n\u001b[0m\u001b[1;32m    601\u001b[0m \u001b[0;34m\u001b[0m\u001b[0m\n\u001b[1;32m    602\u001b[0m             \u001b[0;31m# If we're going to release the connection in ``finally:``, then\u001b[0m\u001b[0;34m\u001b[0m\u001b[0;34m\u001b[0m\u001b[0;34m\u001b[0m\u001b[0m\n",
      "\u001b[0;32m/anaconda3/lib/python3.6/site-packages/urllib3/connectionpool.py\u001b[0m in \u001b[0;36m_make_request\u001b[0;34m(self, conn, method, url, timeout, chunked, **httplib_request_kw)\u001b[0m\n\u001b[1;32m    378\u001b[0m             \u001b[0;32mexcept\u001b[0m \u001b[0mTypeError\u001b[0m\u001b[0;34m:\u001b[0m  \u001b[0;31m# Python 3\u001b[0m\u001b[0;34m\u001b[0m\u001b[0;34m\u001b[0m\u001b[0m\n\u001b[1;32m    379\u001b[0m                 \u001b[0;32mtry\u001b[0m\u001b[0;34m:\u001b[0m\u001b[0;34m\u001b[0m\u001b[0;34m\u001b[0m\u001b[0m\n\u001b[0;32m--> 380\u001b[0;31m                     \u001b[0mhttplib_response\u001b[0m \u001b[0;34m=\u001b[0m \u001b[0mconn\u001b[0m\u001b[0;34m.\u001b[0m\u001b[0mgetresponse\u001b[0m\u001b[0;34m(\u001b[0m\u001b[0;34m)\u001b[0m\u001b[0;34m\u001b[0m\u001b[0;34m\u001b[0m\u001b[0m\n\u001b[0m\u001b[1;32m    381\u001b[0m                 \u001b[0;32mexcept\u001b[0m \u001b[0mException\u001b[0m \u001b[0;32mas\u001b[0m \u001b[0me\u001b[0m\u001b[0;34m:\u001b[0m\u001b[0;34m\u001b[0m\u001b[0;34m\u001b[0m\u001b[0m\n\u001b[1;32m    382\u001b[0m                     \u001b[0;31m# Remove the TypeError from the exception chain in Python 3;\u001b[0m\u001b[0;34m\u001b[0m\u001b[0;34m\u001b[0m\u001b[0;34m\u001b[0m\u001b[0m\n",
      "\u001b[0;32m/anaconda3/lib/python3.6/http/client.py\u001b[0m in \u001b[0;36mgetresponse\u001b[0;34m(self)\u001b[0m\n\u001b[1;32m   1329\u001b[0m         \u001b[0;32mtry\u001b[0m\u001b[0;34m:\u001b[0m\u001b[0;34m\u001b[0m\u001b[0;34m\u001b[0m\u001b[0m\n\u001b[1;32m   1330\u001b[0m             \u001b[0;32mtry\u001b[0m\u001b[0;34m:\u001b[0m\u001b[0;34m\u001b[0m\u001b[0;34m\u001b[0m\u001b[0m\n\u001b[0;32m-> 1331\u001b[0;31m                 \u001b[0mresponse\u001b[0m\u001b[0;34m.\u001b[0m\u001b[0mbegin\u001b[0m\u001b[0;34m(\u001b[0m\u001b[0;34m)\u001b[0m\u001b[0;34m\u001b[0m\u001b[0;34m\u001b[0m\u001b[0m\n\u001b[0m\u001b[1;32m   1332\u001b[0m             \u001b[0;32mexcept\u001b[0m \u001b[0mConnectionError\u001b[0m\u001b[0;34m:\u001b[0m\u001b[0;34m\u001b[0m\u001b[0;34m\u001b[0m\u001b[0m\n\u001b[1;32m   1333\u001b[0m                 \u001b[0mself\u001b[0m\u001b[0;34m.\u001b[0m\u001b[0mclose\u001b[0m\u001b[0;34m(\u001b[0m\u001b[0;34m)\u001b[0m\u001b[0;34m\u001b[0m\u001b[0;34m\u001b[0m\u001b[0m\n",
      "\u001b[0;32m/anaconda3/lib/python3.6/http/client.py\u001b[0m in \u001b[0;36mbegin\u001b[0;34m(self)\u001b[0m\n\u001b[1;32m    295\u001b[0m         \u001b[0;31m# read until we get a non-100 response\u001b[0m\u001b[0;34m\u001b[0m\u001b[0;34m\u001b[0m\u001b[0;34m\u001b[0m\u001b[0m\n\u001b[1;32m    296\u001b[0m         \u001b[0;32mwhile\u001b[0m \u001b[0;32mTrue\u001b[0m\u001b[0;34m:\u001b[0m\u001b[0;34m\u001b[0m\u001b[0;34m\u001b[0m\u001b[0m\n\u001b[0;32m--> 297\u001b[0;31m             \u001b[0mversion\u001b[0m\u001b[0;34m,\u001b[0m \u001b[0mstatus\u001b[0m\u001b[0;34m,\u001b[0m \u001b[0mreason\u001b[0m \u001b[0;34m=\u001b[0m \u001b[0mself\u001b[0m\u001b[0;34m.\u001b[0m\u001b[0m_read_status\u001b[0m\u001b[0;34m(\u001b[0m\u001b[0;34m)\u001b[0m\u001b[0;34m\u001b[0m\u001b[0;34m\u001b[0m\u001b[0m\n\u001b[0m\u001b[1;32m    298\u001b[0m             \u001b[0;32mif\u001b[0m \u001b[0mstatus\u001b[0m \u001b[0;34m!=\u001b[0m \u001b[0mCONTINUE\u001b[0m\u001b[0;34m:\u001b[0m\u001b[0;34m\u001b[0m\u001b[0;34m\u001b[0m\u001b[0m\n\u001b[1;32m    299\u001b[0m                 \u001b[0;32mbreak\u001b[0m\u001b[0;34m\u001b[0m\u001b[0;34m\u001b[0m\u001b[0m\n",
      "\u001b[0;32m/anaconda3/lib/python3.6/http/client.py\u001b[0m in \u001b[0;36m_read_status\u001b[0;34m(self)\u001b[0m\n\u001b[1;32m    256\u001b[0m \u001b[0;34m\u001b[0m\u001b[0m\n\u001b[1;32m    257\u001b[0m     \u001b[0;32mdef\u001b[0m \u001b[0m_read_status\u001b[0m\u001b[0;34m(\u001b[0m\u001b[0mself\u001b[0m\u001b[0;34m)\u001b[0m\u001b[0;34m:\u001b[0m\u001b[0;34m\u001b[0m\u001b[0;34m\u001b[0m\u001b[0m\n\u001b[0;32m--> 258\u001b[0;31m         \u001b[0mline\u001b[0m \u001b[0;34m=\u001b[0m \u001b[0mstr\u001b[0m\u001b[0;34m(\u001b[0m\u001b[0mself\u001b[0m\u001b[0;34m.\u001b[0m\u001b[0mfp\u001b[0m\u001b[0;34m.\u001b[0m\u001b[0mreadline\u001b[0m\u001b[0;34m(\u001b[0m\u001b[0m_MAXLINE\u001b[0m \u001b[0;34m+\u001b[0m \u001b[0;36m1\u001b[0m\u001b[0;34m)\u001b[0m\u001b[0;34m,\u001b[0m \u001b[0;34m\"iso-8859-1\"\u001b[0m\u001b[0;34m)\u001b[0m\u001b[0;34m\u001b[0m\u001b[0;34m\u001b[0m\u001b[0m\n\u001b[0m\u001b[1;32m    259\u001b[0m         \u001b[0;32mif\u001b[0m \u001b[0mlen\u001b[0m\u001b[0;34m(\u001b[0m\u001b[0mline\u001b[0m\u001b[0;34m)\u001b[0m \u001b[0;34m>\u001b[0m \u001b[0m_MAXLINE\u001b[0m\u001b[0;34m:\u001b[0m\u001b[0;34m\u001b[0m\u001b[0;34m\u001b[0m\u001b[0m\n\u001b[1;32m    260\u001b[0m             \u001b[0;32mraise\u001b[0m \u001b[0mLineTooLong\u001b[0m\u001b[0;34m(\u001b[0m\u001b[0;34m\"status line\"\u001b[0m\u001b[0;34m)\u001b[0m\u001b[0;34m\u001b[0m\u001b[0;34m\u001b[0m\u001b[0m\n",
      "\u001b[0;32m/anaconda3/lib/python3.6/socket.py\u001b[0m in \u001b[0;36mreadinto\u001b[0;34m(self, b)\u001b[0m\n\u001b[1;32m    584\u001b[0m         \u001b[0;32mwhile\u001b[0m \u001b[0;32mTrue\u001b[0m\u001b[0;34m:\u001b[0m\u001b[0;34m\u001b[0m\u001b[0;34m\u001b[0m\u001b[0m\n\u001b[1;32m    585\u001b[0m             \u001b[0;32mtry\u001b[0m\u001b[0;34m:\u001b[0m\u001b[0;34m\u001b[0m\u001b[0;34m\u001b[0m\u001b[0m\n\u001b[0;32m--> 586\u001b[0;31m                 \u001b[0;32mreturn\u001b[0m \u001b[0mself\u001b[0m\u001b[0;34m.\u001b[0m\u001b[0m_sock\u001b[0m\u001b[0;34m.\u001b[0m\u001b[0mrecv_into\u001b[0m\u001b[0;34m(\u001b[0m\u001b[0mb\u001b[0m\u001b[0;34m)\u001b[0m\u001b[0;34m\u001b[0m\u001b[0;34m\u001b[0m\u001b[0m\n\u001b[0m\u001b[1;32m    587\u001b[0m             \u001b[0;32mexcept\u001b[0m \u001b[0mtimeout\u001b[0m\u001b[0;34m:\u001b[0m\u001b[0;34m\u001b[0m\u001b[0;34m\u001b[0m\u001b[0m\n\u001b[1;32m    588\u001b[0m                 \u001b[0mself\u001b[0m\u001b[0;34m.\u001b[0m\u001b[0m_timeout_occurred\u001b[0m \u001b[0;34m=\u001b[0m \u001b[0;32mTrue\u001b[0m\u001b[0;34m\u001b[0m\u001b[0;34m\u001b[0m\u001b[0m\n",
      "\u001b[0;31mKeyboardInterrupt\u001b[0m: "
     ]
    }
   ],
   "source": [
    "# run algorithm for a specified number of cookie clicks\n",
    "clicks = 100000-ci\n",
    "t0=time.time()\n",
    "initial_ci = ci\n",
    "stop = ci+clicks # run for `clicks` additional clicks\n",
    "while ci<stop:\n",
    "    ci += 1 # increment click counter\n",
    "    agent.click_cookie()\n",
    "    #agent.click_golden_cookie()\n",
    "    if ci%200 == 0: # to speed pure clicking\n",
    "        #agent.buy_upgrades()\n",
    "        agent.buy_products()\n",
    "        # log data\n",
    "        agent.log_balance_and_revenue(epoch=ci)\n",
    "        agent.get_building_info()\n",
    "        agent.building_info_logger(epoch=ci)\n",
    "        # feedback\n",
    "        #clear_output()\n",
    "        print('click: '+str(ci-initial_ci)+' of '+str(stop-initial_ci)+\n",
    "             '\\npct: '+str((ci-initial_ci)/(stop-initial_ci))+\n",
    "             '\\nGolden Clicks: '+str(agent.golden_cookie_clicks))\n",
    "    #time.sleep(.07) # to keep CPU usage sustainably low\n",
    "t1=time.time()\n",
    "print('Total Time: '+ str(t1-t0) +'sec')\n",
    "# alert that loop finished\n",
    "notify_tone(reps=3,sleep=.5)"
   ]
  },
  {
   "cell_type": "code",
   "execution_count": null,
   "metadata": {},
   "outputs": [],
   "source": [
    "driver.close()"
   ]
  },
  {
   "cell_type": "code",
   "execution_count": null,
   "metadata": {},
   "outputs": [],
   "source": [
    "# save the agent for later analysis:\n",
    "# # locally store this temporary agent as agent_naive\n",
    "agent_max_cps_per_price=agent\n",
    "# # can't pickle web object, so need to clear agent.big_cookie before saving\n",
    "agent_max_cps_per_price.big_cookie, tmp = [],agent_max_cps_per_price.big_cookie\n",
    "save_obj(agent_max_cps_per_price,\"agent_min_wait_no_golden_no_upgrade\")\n",
    "agent_max_cps_per_price.big_cookie = tmp"
   ]
  },
  {
   "cell_type": "code",
   "execution_count": null,
   "metadata": {},
   "outputs": [],
   "source": [
    "# load the agent from the above save\n",
    "# was getting UTF-8 error, \n",
    "# changed to ... 'r',,encoding='utf-16') ...\n",
    "# this didn't help, but it worked when changed back to ...'rb')?\n",
    "\n",
    "agent = load_obj(\"agent_min_wait_no_golden_no_upgrade\")"
   ]
  },
  {
   "cell_type": "code",
   "execution_count": null,
   "metadata": {},
   "outputs": [],
   "source": [
    "plt.plot(agent.bal_rev_epoch,agent.log_balance)"
   ]
  },
  {
   "cell_type": "code",
   "execution_count": null,
   "metadata": {},
   "outputs": [],
   "source": [
    "# outliers here can be due to golden cookies\n",
    "plt.plot(agent.bal_rev_epoch,agent.log_revenue)\n",
    "#plt.scatter(agent.bal_rev_epoch,agent.log_revenue)"
   ]
  },
  {
   "cell_type": "code",
   "execution_count": null,
   "metadata": {},
   "outputs": [],
   "source": [
    "for k in agent.log_build_info:\n",
    "    plt.plot(agent.log_build_info[k]['epoch'],agent.log_build_info[k]['cps'],label=k)\n",
    "plt.legend()"
   ]
  },
  {
   "cell_type": "code",
   "execution_count": null,
   "metadata": {},
   "outputs": [],
   "source": [
    "for k in agent.log_build_info:\n",
    "    plt.plot(agent.log_build_info[k]['epoch'],agent.log_build_info[k]['price'],label=k)\n",
    "plt.legend()"
   ]
  },
  {
   "cell_type": "code",
   "execution_count": null,
   "metadata": {},
   "outputs": [],
   "source": [
    "for k in agent.log_build_info:\n",
    "    plt.plot(agent.log_build_info[k]['epoch'],agent.log_build_info[k]['cps/price'],label=k)\n",
    "plt.legend()"
   ]
  },
  {
   "cell_type": "code",
   "execution_count": null,
   "metadata": {
    "scrolled": true
   },
   "outputs": [],
   "source": [
    "for k in agent.log_build_info:\n",
    "    plt.plot(agent.log_build_info[k]['epoch'],agent.log_build_info[k]['count'],label=k)\n",
    "plt.legend()"
   ]
  },
  {
   "cell_type": "markdown",
   "metadata": {},
   "source": [
    "# Comparisons"
   ]
  },
  {
   "cell_type": "code",
   "execution_count": null,
   "metadata": {},
   "outputs": [],
   "source": [
    "agent_naive    = load_obj(\"agent_naive_no_golden_no_upgrade\")\n",
    "agent_max_cps  = load_obj(\"agent_max_cps_per_price_no_golden_no_upgrade\")\n",
    "agent_min_wait = load_obj(\"agent_min_wait_no_golden_no_upgrade\")\n",
    "\n",
    "# for looping\n",
    "agents = {\n",
    "    \"Naive\":agent_naive,\n",
    "    \"MaxCps\":agent_max_cps,\n",
    "    \"MinWait\":agent_min_wait\n",
    "}"
   ]
  },
  {
   "cell_type": "code",
   "execution_count": null,
   "metadata": {},
   "outputs": [],
   "source": [
    "plt.figure(figsize=(10,5))\n",
    "plt.grid()\n",
    "plt.plot(agent_naive.log_bal_rev_epoch,agent_naive.log_revenue,label='Naive')\n",
    "for a in agents:\n",
    "    if a != \"Naive\": # Naive had a different name for this var...\n",
    "        plt.plot(agents[a].bal_rev_epoch,agents[a].log_revenue,label=a)\n",
    "plt.xlabel(\"Click number\")\n",
    "plt.ylabel(\"Revenue\")\n",
    "plt.legend()"
   ]
  },
  {
   "cell_type": "code",
   "execution_count": null,
   "metadata": {},
   "outputs": [],
   "source": [
    "for a in agents:\n",
    "    plt.figure(figsize=(10,5))\n",
    "    plt.grid()\n",
    "    for k in agents[a].log_build_info:\n",
    "        plt.plot(agents[a].log_build_info[k]['epoch'],agents[a].log_build_info[k]['count'],label=k)\n",
    "        plt.ylabel(\"Building Count\")\n",
    "    plt.legend()\n",
    "plt.xlabel(\"Click number\")"
   ]
  },
  {
   "cell_type": "markdown",
   "metadata": {},
   "source": [
    "# Cheating with HTML\n",
    "\n",
    "\n",
    "Things from the link Emily sent me...\n",
    "\n"
   ]
  },
  {
   "cell_type": "code",
   "execution_count": null,
   "metadata": {},
   "outputs": [],
   "source": []
  },
  {
   "cell_type": "code",
   "execution_count": null,
   "metadata": {},
   "outputs": [],
   "source": []
  },
  {
   "cell_type": "code",
   "execution_count": null,
   "metadata": {},
   "outputs": [],
   "source": []
  },
  {
   "cell_type": "code",
   "execution_count": null,
   "metadata": {},
   "outputs": [],
   "source": []
  },
  {
   "cell_type": "code",
   "execution_count": null,
   "metadata": {},
   "outputs": [],
   "source": []
  },
  {
   "cell_type": "code",
   "execution_count": null,
   "metadata": {},
   "outputs": [],
   "source": []
  },
  {
   "cell_type": "code",
   "execution_count": null,
   "metadata": {},
   "outputs": [],
   "source": []
  },
  {
   "cell_type": "code",
   "execution_count": null,
   "metadata": {},
   "outputs": [],
   "source": []
  },
  {
   "cell_type": "code",
   "execution_count": null,
   "metadata": {},
   "outputs": [],
   "source": []
  }
 ],
 "metadata": {
  "kernelspec": {
   "display_name": "Python 3",
   "language": "python",
   "name": "python3"
  },
  "language_info": {
   "codemirror_mode": {
    "name": "ipython",
    "version": 3
   },
   "file_extension": ".py",
   "mimetype": "text/x-python",
   "name": "python",
   "nbconvert_exporter": "python",
   "pygments_lexer": "ipython3",
   "version": "3.6.8"
  }
 },
 "nbformat": 4,
 "nbformat_minor": 2
}
